{
 "cells": [
  {
   "cell_type": "code",
   "execution_count": 4,
   "id": "f512af5b",
   "metadata": {
    "ExecuteTime": {
     "end_time": "2024-05-01T18:33:38.132734Z",
     "start_time": "2024-05-01T18:33:16.192456Z"
    }
   },
   "outputs": [
    {
     "name": "stdout",
     "output_type": "stream",
     "text": [
      "Welcome to PDF Chatbot! Type 'exit' to end the conversation.\n",
      "You: What is the history of natural language processing\n",
      "PDF Chatbot: What is the history of natural language processing?\n",
      "\n",
      "The history of natural language processing is a long one. The first major breakthrough was the discovery of the word \"noun\" in 1859. The word \"noun\" was first used in the English language in 1859, and it was used in the English language for a long time. The word \"noun\" was used in the English language for a long time. The word \"noun\" was used in the English language for\n",
      "You: exit\n",
      "PDF Chatbot: Goodbye!\n"
     ]
    }
   ],
   "source": [
    "import torch\n",
    "from transformers import GPT2LMHeadModel, GPT2Tokenizer\n",
    "\n",
    "# Load pre-trained model and tokenizer\n",
    "model_name = \"gpt2\"\n",
    "model = GPT2LMHeadModel.from_pretrained(model_name)\n",
    "tokenizer = GPT2Tokenizer.from_pretrained(model_name)\n",
    "\n",
    "# Example PDF text\n",
    "pdf_text = \"\"\"\n",
    "Introduction\n",
    "The history of natural language processing (NLP) generally started in the 1950s, although work can be found from earlier periods. In 1950, Alan Turing published an article titled \"Computing Machinery and Intelligence\" which proposed what is now called the Turing test as a criterion of intelligence.\n",
    "\n",
    "NLP research has evolved along with the development of computers and artificial intelligence (AI). The initial goal was to enable computers to understand and generate human language. Early systems were based on complex sets of hand-written rules.\n",
    "\n",
    "In recent years, deep learning techniques, especially transformer models like GPT, have revolutionized NLP. These models learn to understand and generate text by training on large amounts of data.\n",
    "\n",
    "Question Answering\n",
    "Question answering (QA) is a common task in NLP where a system is asked a question and it provides an answer. QA systems can range from simple rule-based systems to advanced deep learning models.\n",
    "\n",
    "QA systems can be trained on various types of data, including Wikipedia articles, textbooks, or user-generated content. The goal is to provide accurate and relevant answers to a wide range of questions.\n",
    "\n",
    "Implementation\n",
    "We can implement a simple QA system using a pre-trained language model like GPT-2. We'll fine-tune the model on a dataset of QA pairs, and then use it to generate answers to user questions.\n",
    "\n",
    "Let's get started with the implementation!\n",
    "\"\"\"\n",
    "\n",
    "# Tokenize PDF text\n",
    "input_ids = tokenizer.encode(pdf_text, return_tensors=\"pt\")\n",
    "\n",
    "# Generate response function\n",
    "def generate_response(prompt, max_length=100):\n",
    "    input_ids_prompt = tokenizer.encode(prompt, return_tensors=\"pt\")\n",
    "    input_ids = input_ids_prompt  # Initialize input_ids properly\n",
    "    output = model.generate(input_ids, max_length=max_length, pad_token_id=tokenizer.eos_token_id)\n",
    "    response = tokenizer.decode(output[0], skip_special_tokens=True)\n",
    "    return response\n",
    "\n",
    "# Chat interface\n",
    "print(\"Welcome to PDF Chatbot! Type 'exit' to end the conversation.\")\n",
    "while True:\n",
    "    user_input = input(\"You: \")\n",
    "    if user_input.lower() == 'exit':\n",
    "        print(\"PDF Chatbot: Goodbye!\")\n",
    "        break\n",
    "    response = generate_response(user_input)\n",
    "    print(\"PDF Chatbot:\", response)\n"
   ]
  },
  {
   "cell_type": "code",
   "execution_count": null,
   "id": "fd72d258",
   "metadata": {},
   "outputs": [],
   "source": []
  }
 ],
 "metadata": {
  "kernelspec": {
   "display_name": "Python 3 (ipykernel)",
   "language": "python",
   "name": "python3"
  },
  "language_info": {
   "codemirror_mode": {
    "name": "ipython",
    "version": 3
   },
   "file_extension": ".py",
   "mimetype": "text/x-python",
   "name": "python",
   "nbconvert_exporter": "python",
   "pygments_lexer": "ipython3",
   "version": "3.9.12"
  }
 },
 "nbformat": 4,
 "nbformat_minor": 5
}
