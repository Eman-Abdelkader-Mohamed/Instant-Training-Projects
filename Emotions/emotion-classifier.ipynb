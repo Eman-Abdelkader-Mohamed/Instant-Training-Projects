{
 "cells": [
  {
   "cell_type": "markdown",
   "id": "93028fb2",
   "metadata": {
    "papermill": {
     "duration": 0.011638,
     "end_time": "2024-04-29T13:36:06.316717",
     "exception": false,
     "start_time": "2024-04-29T13:36:06.305079",
     "status": "completed"
    },
    "tags": []
   },
   "source": [
    "![pipeline NLP](https://shubhangidabral13.github.io/Bits-and-Bytes-of-NLP/images/copied_from_nb/my_icons/topic_02.a.1.png)"
   ]
  },
  {
   "cell_type": "markdown",
   "id": "a355818f",
   "metadata": {
    "papermill": {
     "duration": 0.010602,
     "end_time": "2024-04-29T13:36:06.338425",
     "exception": false,
     "start_time": "2024-04-29T13:36:06.327823",
     "status": "completed"
    },
    "tags": []
   },
   "source": [
    "**the preprocessing step**"
   ]
  },
  {
   "cell_type": "markdown",
   "id": "f2060715",
   "metadata": {
    "papermill": {
     "duration": 0.01048,
     "end_time": "2024-04-29T13:36:06.359860",
     "exception": false,
     "start_time": "2024-04-29T13:36:06.349380",
     "status": "completed"
    },
    "tags": []
   },
   "source": [
    "![](https://miro.medium.com/max/1400/1*pzjECYWP8WOWhwfCjebZVw.png)"
   ]
  },
  {
   "cell_type": "markdown",
   "id": "42902e4d",
   "metadata": {
    "papermill": {
     "duration": 0.01101,
     "end_time": "2024-04-29T13:36:06.381791",
     "exception": false,
     "start_time": "2024-04-29T13:36:06.370781",
     "status": "completed"
    },
    "tags": []
   },
   "source": [
    "# import needed libraries"
   ]
  },
  {
   "cell_type": "code",
   "execution_count": 1,
   "id": "f491c9ac",
   "metadata": {
    "execution": {
     "iopub.execute_input": "2024-04-29T13:36:06.406025Z",
     "iopub.status.busy": "2024-04-29T13:36:06.405673Z",
     "iopub.status.idle": "2024-04-29T13:36:23.400814Z",
     "shell.execute_reply": "2024-04-29T13:36:23.400050Z"
    },
    "papermill": {
     "duration": 17.009779,
     "end_time": "2024-04-29T13:36:23.403076",
     "exception": false,
     "start_time": "2024-04-29T13:36:06.393297",
     "status": "completed"
    },
    "tags": []
   },
   "outputs": [
    {
     "name": "stderr",
     "output_type": "stream",
     "text": [
      "/opt/conda/lib/python3.10/site-packages/scipy/__init__.py:146: UserWarning: A NumPy version >=1.16.5 and <1.23.0 is required for this version of SciPy (detected version 1.23.5\n",
      "  warnings.warn(f\"A NumPy version >={np_minversion} and <{np_maxversion}\"\n"
     ]
    }
   ],
   "source": [
    "import numpy as np\n",
    "import pandas as pd\n",
    "\n",
    "from sklearn.model_selection import train_test_split\n",
    "from sklearn.feature_extraction.text import TfidfVectorizer\n",
    "from sklearn.naive_bayes import MultinomialNB\n",
    "from sklearn.ensemble import RandomForestClassifier\n",
    "from sklearn.metrics import accuracy_score , classification_report \n",
    "\n",
    "import spacy"
   ]
  },
  {
   "cell_type": "markdown",
   "id": "540744a3",
   "metadata": {
    "papermill": {
     "duration": 0.011155,
     "end_time": "2024-04-29T13:36:23.425837",
     "exception": false,
     "start_time": "2024-04-29T13:36:23.414682",
     "status": "completed"
    },
    "tags": []
   },
   "source": [
    "# **EDA**"
   ]
  },
  {
   "cell_type": "markdown",
   "id": "75c57f42",
   "metadata": {
    "papermill": {
     "duration": 0.010885,
     "end_time": "2024-04-29T13:36:23.447753",
     "exception": false,
     "start_time": "2024-04-29T13:36:23.436868",
     "status": "completed"
    },
    "tags": []
   },
   "source": [
    "1. Data Acquisition"
   ]
  },
  {
   "cell_type": "code",
   "execution_count": 2,
   "id": "0aa7263c",
   "metadata": {
    "execution": {
     "iopub.execute_input": "2024-04-29T13:36:23.472481Z",
     "iopub.status.busy": "2024-04-29T13:36:23.471765Z",
     "iopub.status.idle": "2024-04-29T13:36:23.514861Z",
     "shell.execute_reply": "2024-04-29T13:36:23.513921Z"
    },
    "papermill": {
     "duration": 0.058242,
     "end_time": "2024-04-29T13:36:23.517347",
     "exception": false,
     "start_time": "2024-04-29T13:36:23.459105",
     "status": "completed"
    },
    "tags": []
   },
   "outputs": [
    {
     "name": "stdout",
     "output_type": "stream",
     "text": [
      "(3613, 2)\n"
     ]
    },
    {
     "data": {
      "text/html": [
       "<div>\n",
       "<style scoped>\n",
       "    .dataframe tbody tr th:only-of-type {\n",
       "        vertical-align: middle;\n",
       "    }\n",
       "\n",
       "    .dataframe tbody tr th {\n",
       "        vertical-align: top;\n",
       "    }\n",
       "\n",
       "    .dataframe thead th {\n",
       "        text-align: right;\n",
       "    }\n",
       "</style>\n",
       "<table border=\"1\" class=\"dataframe\">\n",
       "  <thead>\n",
       "    <tr style=\"text-align: right;\">\n",
       "      <th></th>\n",
       "      <th>text</th>\n",
       "      <th>label</th>\n",
       "    </tr>\n",
       "  </thead>\n",
       "  <tbody>\n",
       "    <tr>\n",
       "      <th>0</th>\n",
       "      <td>Just got back from seeing @GaryDelaney in Burs...</td>\n",
       "      <td>joy</td>\n",
       "    </tr>\n",
       "    <tr>\n",
       "      <th>1</th>\n",
       "      <td>Oh dear an evening of absolute hilarity I don'...</td>\n",
       "      <td>joy</td>\n",
       "    </tr>\n",
       "    <tr>\n",
       "      <th>2</th>\n",
       "      <td>Been waiting all week for this game ❤️❤️❤️ #ch...</td>\n",
       "      <td>joy</td>\n",
       "    </tr>\n",
       "    <tr>\n",
       "      <th>3</th>\n",
       "      <td>@gardiner_love : Thank you so much, Gloria! Yo...</td>\n",
       "      <td>joy</td>\n",
       "    </tr>\n",
       "    <tr>\n",
       "      <th>4</th>\n",
       "      <td>I feel so blessed to work with the family that...</td>\n",
       "      <td>joy</td>\n",
       "    </tr>\n",
       "    <tr>\n",
       "      <th>5</th>\n",
       "      <td>Today I reached 1000 subscribers on YT!! , #go...</td>\n",
       "      <td>joy</td>\n",
       "    </tr>\n",
       "    <tr>\n",
       "      <th>6</th>\n",
       "      <td>@Singaholic121 Good morning, love! Happy first...</td>\n",
       "      <td>joy</td>\n",
       "    </tr>\n",
       "    <tr>\n",
       "      <th>7</th>\n",
       "      <td>#BridgetJonesBaby is the best thing I've seen ...</td>\n",
       "      <td>joy</td>\n",
       "    </tr>\n",
       "    <tr>\n",
       "      <th>8</th>\n",
       "      <td>Just got back from seeing @GaryDelaney in Burs...</td>\n",
       "      <td>joy</td>\n",
       "    </tr>\n",
       "  </tbody>\n",
       "</table>\n",
       "</div>"
      ],
      "text/plain": [
       "                                                text label\n",
       "0  Just got back from seeing @GaryDelaney in Burs...   joy\n",
       "1  Oh dear an evening of absolute hilarity I don'...   joy\n",
       "2  Been waiting all week for this game ❤️❤️❤️ #ch...   joy\n",
       "3  @gardiner_love : Thank you so much, Gloria! Yo...   joy\n",
       "4  I feel so blessed to work with the family that...   joy\n",
       "5  Today I reached 1000 subscribers on YT!! , #go...   joy\n",
       "6  @Singaholic121 Good morning, love! Happy first...   joy\n",
       "7  #BridgetJonesBaby is the best thing I've seen ...   joy\n",
       "8  Just got back from seeing @GaryDelaney in Burs...   joy"
      ]
     },
     "execution_count": 2,
     "metadata": {},
     "output_type": "execute_result"
    }
   ],
   "source": [
    "#read data\n",
    "df=pd.read_csv(\"/kaggle/input/emotion-classification-nlp/emotion-labels-train.csv\")\n",
    "\n",
    "#show the shape\n",
    "print(df.shape)\n",
    "\n",
    "#show data\n",
    "df.head(9)"
   ]
  },
  {
   "cell_type": "code",
   "execution_count": 3,
   "id": "31710c9e",
   "metadata": {
    "execution": {
     "iopub.execute_input": "2024-04-29T13:36:23.542897Z",
     "iopub.status.busy": "2024-04-29T13:36:23.542590Z",
     "iopub.status.idle": "2024-04-29T13:36:23.554621Z",
     "shell.execute_reply": "2024-04-29T13:36:23.553797Z"
    },
    "papermill": {
     "duration": 0.026304,
     "end_time": "2024-04-29T13:36:23.556497",
     "exception": false,
     "start_time": "2024-04-29T13:36:23.530193",
     "status": "completed"
    },
    "tags": []
   },
   "outputs": [
    {
     "data": {
      "text/plain": [
       "label\n",
       "fear       1147\n",
       "anger       857\n",
       "joy         823\n",
       "sadness     786\n",
       "Name: count, dtype: int64"
      ]
     },
     "execution_count": 3,
     "metadata": {},
     "output_type": "execute_result"
    }
   ],
   "source": [
    "#check the distribution , balanced or not\n",
    "df[\"label\"].value_counts()"
   ]
  },
  {
   "cell_type": "markdown",
   "id": "cf20203c",
   "metadata": {
    "papermill": {
     "duration": 0.011253,
     "end_time": "2024-04-29T13:36:23.579410",
     "exception": false,
     "start_time": "2024-04-29T13:36:23.568157",
     "status": "completed"
    },
    "tags": []
   },
   "source": [
    "**the data is not balanced because fear is 1147 and other emotion almost from 786 to 857**\n",
    "\n",
    "**So we will drop some values from fear**"
   ]
  },
  {
   "cell_type": "code",
   "execution_count": 4,
   "id": "0402f8a4",
   "metadata": {
    "execution": {
     "iopub.execute_input": "2024-04-29T13:36:23.604680Z",
     "iopub.status.busy": "2024-04-29T13:36:23.603824Z",
     "iopub.status.idle": "2024-04-29T13:36:23.615737Z",
     "shell.execute_reply": "2024-04-29T13:36:23.614746Z"
    },
    "papermill": {
     "duration": 0.026666,
     "end_time": "2024-04-29T13:36:23.617709",
     "exception": false,
     "start_time": "2024-04-29T13:36:23.591043",
     "status": "completed"
    },
    "tags": []
   },
   "outputs": [
    {
     "data": {
      "text/html": [
       "<div>\n",
       "<style scoped>\n",
       "    .dataframe tbody tr th:only-of-type {\n",
       "        vertical-align: middle;\n",
       "    }\n",
       "\n",
       "    .dataframe tbody tr th {\n",
       "        vertical-align: top;\n",
       "    }\n",
       "\n",
       "    .dataframe thead th {\n",
       "        text-align: right;\n",
       "    }\n",
       "</style>\n",
       "<table border=\"1\" class=\"dataframe\">\n",
       "  <thead>\n",
       "    <tr style=\"text-align: right;\">\n",
       "      <th></th>\n",
       "      <th>text</th>\n",
       "      <th>label</th>\n",
       "    </tr>\n",
       "  </thead>\n",
       "  <tbody>\n",
       "    <tr>\n",
       "      <th>0</th>\n",
       "      <td>Just got back from seeing @GaryDelaney in Burs...</td>\n",
       "      <td>joy</td>\n",
       "    </tr>\n",
       "    <tr>\n",
       "      <th>1</th>\n",
       "      <td>Oh dear an evening of absolute hilarity I don'...</td>\n",
       "      <td>joy</td>\n",
       "    </tr>\n",
       "    <tr>\n",
       "      <th>2</th>\n",
       "      <td>Been waiting all week for this game ❤️❤️❤️ #ch...</td>\n",
       "      <td>joy</td>\n",
       "    </tr>\n",
       "    <tr>\n",
       "      <th>3</th>\n",
       "      <td>@gardiner_love : Thank you so much, Gloria! Yo...</td>\n",
       "      <td>joy</td>\n",
       "    </tr>\n",
       "    <tr>\n",
       "      <th>4</th>\n",
       "      <td>I feel so blessed to work with the family that...</td>\n",
       "      <td>joy</td>\n",
       "    </tr>\n",
       "    <tr>\n",
       "      <th>...</th>\n",
       "      <td>...</td>\n",
       "      <td>...</td>\n",
       "    </tr>\n",
       "    <tr>\n",
       "      <th>895</th>\n",
       "      <td>#WeirdWednesday OKAY! That jump-scared the #Po...</td>\n",
       "      <td>fear</td>\n",
       "    </tr>\n",
       "    <tr>\n",
       "      <th>896</th>\n",
       "      <td>@BBCPolitics @BBCNews I'd rather leave my chil...</td>\n",
       "      <td>fear</td>\n",
       "    </tr>\n",
       "    <tr>\n",
       "      <th>897</th>\n",
       "      <td>@OutdoorLoverz is this a bridge if I have to d...</td>\n",
       "      <td>fear</td>\n",
       "    </tr>\n",
       "    <tr>\n",
       "      <th>898</th>\n",
       "      <td>My roommate talks and laughs in her sleep. It ...</td>\n",
       "      <td>fear</td>\n",
       "    </tr>\n",
       "    <tr>\n",
       "      <th>899</th>\n",
       "      <td>I had a dream that I dropped my iPhone 7 and i...</td>\n",
       "      <td>fear</td>\n",
       "    </tr>\n",
       "  </tbody>\n",
       "</table>\n",
       "<p>900 rows × 2 columns</p>\n",
       "</div>"
      ],
      "text/plain": [
       "                                                  text label\n",
       "0    Just got back from seeing @GaryDelaney in Burs...   joy\n",
       "1    Oh dear an evening of absolute hilarity I don'...   joy\n",
       "2    Been waiting all week for this game ❤️❤️❤️ #ch...   joy\n",
       "3    @gardiner_love : Thank you so much, Gloria! Yo...   joy\n",
       "4    I feel so blessed to work with the family that...   joy\n",
       "..                                                 ...   ...\n",
       "895  #WeirdWednesday OKAY! That jump-scared the #Po...  fear\n",
       "896  @BBCPolitics @BBCNews I'd rather leave my chil...  fear\n",
       "897  @OutdoorLoverz is this a bridge if I have to d...  fear\n",
       "898  My roommate talks and laughs in her sleep. It ...  fear\n",
       "899  I had a dream that I dropped my iPhone 7 and i...  fear\n",
       "\n",
       "[900 rows x 2 columns]"
      ]
     },
     "execution_count": 4,
     "metadata": {},
     "output_type": "execute_result"
    }
   ],
   "source": [
    "df.head(900)"
   ]
  },
  {
   "cell_type": "code",
   "execution_count": 5,
   "id": "51741758",
   "metadata": {
    "execution": {
     "iopub.execute_input": "2024-04-29T13:36:23.643042Z",
     "iopub.status.busy": "2024-04-29T13:36:23.642444Z",
     "iopub.status.idle": "2024-04-29T13:36:23.649690Z",
     "shell.execute_reply": "2024-04-29T13:36:23.648916Z"
    },
    "papermill": {
     "duration": 0.021684,
     "end_time": "2024-04-29T13:36:23.651546",
     "exception": false,
     "start_time": "2024-04-29T13:36:23.629862",
     "status": "completed"
    },
    "tags": []
   },
   "outputs": [],
   "source": [
    "n_df=df.loc[895:1185 , ['text','label']]"
   ]
  },
  {
   "cell_type": "markdown",
   "id": "356daf0b",
   "metadata": {
    "papermill": {
     "duration": 0.011669,
     "end_time": "2024-04-29T13:36:23.675389",
     "exception": false,
     "start_time": "2024-04-29T13:36:23.663720",
     "status": "completed"
    },
    "tags": []
   },
   "source": [
    "**we will drop about 290 value**"
   ]
  },
  {
   "cell_type": "code",
   "execution_count": 6,
   "id": "02275e88",
   "metadata": {
    "execution": {
     "iopub.execute_input": "2024-04-29T13:36:23.700566Z",
     "iopub.status.busy": "2024-04-29T13:36:23.700248Z",
     "iopub.status.idle": "2024-04-29T13:36:23.708238Z",
     "shell.execute_reply": "2024-04-29T13:36:23.707340Z"
    },
    "papermill": {
     "duration": 0.02286,
     "end_time": "2024-04-29T13:36:23.710108",
     "exception": false,
     "start_time": "2024-04-29T13:36:23.687248",
     "status": "completed"
    },
    "tags": []
   },
   "outputs": [
    {
     "data": {
      "text/plain": [
       "label\n",
       "fear    291\n",
       "Name: count, dtype: int64"
      ]
     },
     "execution_count": 6,
     "metadata": {},
     "output_type": "execute_result"
    }
   ],
   "source": [
    "n_df['label'].value_counts()"
   ]
  },
  {
   "cell_type": "code",
   "execution_count": 7,
   "id": "4d58d54f",
   "metadata": {
    "execution": {
     "iopub.execute_input": "2024-04-29T13:36:23.779826Z",
     "iopub.status.busy": "2024-04-29T13:36:23.779467Z",
     "iopub.status.idle": "2024-04-29T13:36:23.790102Z",
     "shell.execute_reply": "2024-04-29T13:36:23.789159Z"
    },
    "papermill": {
     "duration": 0.070071,
     "end_time": "2024-04-29T13:36:23.792332",
     "exception": false,
     "start_time": "2024-04-29T13:36:23.722261",
     "status": "completed"
    },
    "tags": []
   },
   "outputs": [
    {
     "data": {
      "text/plain": [
       "(3322, 2)"
      ]
     },
     "execution_count": 7,
     "metadata": {},
     "output_type": "execute_result"
    }
   ],
   "source": [
    "df=df.drop(df.loc[895:1185 , ['text','label']].index)\n",
    "df.shape"
   ]
  },
  {
   "cell_type": "code",
   "execution_count": 8,
   "id": "aa68f8b1",
   "metadata": {
    "execution": {
     "iopub.execute_input": "2024-04-29T13:36:23.820660Z",
     "iopub.status.busy": "2024-04-29T13:36:23.820011Z",
     "iopub.status.idle": "2024-04-29T13:36:23.827978Z",
     "shell.execute_reply": "2024-04-29T13:36:23.826928Z"
    },
    "papermill": {
     "duration": 0.024341,
     "end_time": "2024-04-29T13:36:23.830508",
     "exception": false,
     "start_time": "2024-04-29T13:36:23.806167",
     "status": "completed"
    },
    "tags": []
   },
   "outputs": [
    {
     "data": {
      "text/plain": [
       "label\n",
       "anger      857\n",
       "fear       856\n",
       "joy        823\n",
       "sadness    786\n",
       "Name: count, dtype: int64"
      ]
     },
     "execution_count": 8,
     "metadata": {},
     "output_type": "execute_result"
    }
   ],
   "source": [
    "df['label'].value_counts()"
   ]
  },
  {
   "cell_type": "markdown",
   "id": "3a3abbb3",
   "metadata": {
    "papermill": {
     "duration": 0.012669,
     "end_time": "2024-04-29T13:36:23.856574",
     "exception": false,
     "start_time": "2024-04-29T13:36:23.843905",
     "status": "completed"
    },
    "tags": []
   },
   "source": [
    "2. Text cleaning"
   ]
  },
  {
   "cell_type": "code",
   "execution_count": 9,
   "id": "e616f51f",
   "metadata": {
    "execution": {
     "iopub.execute_input": "2024-04-29T13:36:23.883311Z",
     "iopub.status.busy": "2024-04-29T13:36:23.883011Z",
     "iopub.status.idle": "2024-04-29T13:36:23.890011Z",
     "shell.execute_reply": "2024-04-29T13:36:23.889130Z"
    },
    "papermill": {
     "duration": 0.022592,
     "end_time": "2024-04-29T13:36:23.891961",
     "exception": false,
     "start_time": "2024-04-29T13:36:23.869369",
     "status": "completed"
    },
    "tags": []
   },
   "outputs": [
    {
     "name": "stdout",
     "output_type": "stream",
     "text": [
      "Just got back from seeing @GaryDelaney in Burslem. AMAZING!! Face still hurts from laughing so much #hilarious --> joy\n"
     ]
    }
   ],
   "source": [
    "#show sample of data\n",
    "print(f\"{df['text'][0]} --> {df['label'][0]}\")\n",
    "\n",
    "# data is already cleaned"
   ]
  },
  {
   "cell_type": "markdown",
   "id": "21837d0f",
   "metadata": {
    "papermill": {
     "duration": 0.012463,
     "end_time": "2024-04-29T13:36:23.917188",
     "exception": false,
     "start_time": "2024-04-29T13:36:23.904725",
     "status": "completed"
    },
    "tags": []
   },
   "source": [
    "# **Preprocessing**"
   ]
  },
  {
   "cell_type": "markdown",
   "id": "5e3b0d14",
   "metadata": {
    "papermill": {
     "duration": 0.012093,
     "end_time": "2024-04-29T13:36:23.941421",
     "exception": false,
     "start_time": "2024-04-29T13:36:23.929328",
     "status": "completed"
    },
    "tags": []
   },
   "source": [
    "3. Preprocessing\n",
    "* sentence tokenization . . . already done\n",
    "* word tokenization\n",
    "* stemming and lemmatization\n",
    "* Remove stop words\n"
   ]
  },
  {
   "cell_type": "code",
   "execution_count": 10,
   "id": "6c03ac0d",
   "metadata": {
    "execution": {
     "iopub.execute_input": "2024-04-29T13:36:23.967282Z",
     "iopub.status.busy": "2024-04-29T13:36:23.966996Z",
     "iopub.status.idle": "2024-04-29T13:36:25.384490Z",
     "shell.execute_reply": "2024-04-29T13:36:25.383336Z"
    },
    "papermill": {
     "duration": 1.433667,
     "end_time": "2024-04-29T13:36:25.387343",
     "exception": false,
     "start_time": "2024-04-29T13:36:23.953676",
     "status": "completed"
    },
    "tags": []
   },
   "outputs": [],
   "source": [
    "#import nlp libraries\n",
    "nlp=spacy.load(\"en_core_web_sm\")\n",
    "\n",
    "def preprocess(text):\n",
    "    filltered_tokens=[]\n",
    "    \n",
    "    #word tokenization\n",
    "    doc=nlp(text)\n",
    "    \n",
    "    #Remove stope words\n",
    "    for token in doc :\n",
    "        if token.is_stop or token.is_punct :\n",
    "            continue\n",
    "         \n",
    "        #stemming and lemmatization\n",
    "        filltered_tokens.append(token.lemma_)\n",
    "        \n",
    "        \n",
    "    return \" \".join(filltered_tokens)  # \"join\" to convert filltered_tokens from list to text\n",
    "    "
   ]
  },
  {
   "cell_type": "code",
   "execution_count": 11,
   "id": "2ea3e36c",
   "metadata": {
    "execution": {
     "iopub.execute_input": "2024-04-29T13:36:25.413680Z",
     "iopub.status.busy": "2024-04-29T13:36:25.413363Z",
     "iopub.status.idle": "2024-04-29T13:36:25.442341Z",
     "shell.execute_reply": "2024-04-29T13:36:25.441157Z"
    },
    "papermill": {
     "duration": 0.044518,
     "end_time": "2024-04-29T13:36:25.444584",
     "exception": false,
     "start_time": "2024-04-29T13:36:25.400066",
     "status": "completed"
    },
    "tags": []
   },
   "outputs": [
    {
     "name": "stdout",
     "output_type": "stream",
     "text": [
      "Just got back from seeing @GaryDelaney in Burslem. AMAZING!! Face still hurts from laughing so much #hilarious\n",
      "get see @GaryDelaney Burslem AMAZING face hurt laugh hilarious\n"
     ]
    }
   ],
   "source": [
    "#show a sample\n",
    "\n",
    "txt=df['text'][0]\n",
    "print(txt)\n",
    "\n",
    "process_txt= preprocess(txt)\n",
    "print(process_txt)\n"
   ]
  },
  {
   "cell_type": "markdown",
   "id": "9ca81d21",
   "metadata": {
    "papermill": {
     "duration": 0.012539,
     "end_time": "2024-04-29T13:36:25.470199",
     "exception": false,
     "start_time": "2024-04-29T13:36:25.457660",
     "status": "completed"
    },
    "tags": []
   },
   "source": [
    "apply preprocess function on DataFrame"
   ]
  },
  {
   "cell_type": "code",
   "execution_count": 12,
   "id": "7652c287",
   "metadata": {
    "execution": {
     "iopub.execute_input": "2024-04-29T13:36:25.495920Z",
     "iopub.status.busy": "2024-04-29T13:36:25.495547Z",
     "iopub.status.idle": "2024-04-29T13:36:53.923139Z",
     "shell.execute_reply": "2024-04-29T13:36:53.922074Z"
    },
    "papermill": {
     "duration": 28.443315,
     "end_time": "2024-04-29T13:36:53.925782",
     "exception": false,
     "start_time": "2024-04-29T13:36:25.482467",
     "status": "completed"
    },
    "tags": []
   },
   "outputs": [],
   "source": [
    "df[\"preprocess_text\"]=df[\"text\"].apply(preprocess)"
   ]
  },
  {
   "cell_type": "code",
   "execution_count": 13,
   "id": "024490e4",
   "metadata": {
    "execution": {
     "iopub.execute_input": "2024-04-29T13:36:53.954132Z",
     "iopub.status.busy": "2024-04-29T13:36:53.953825Z",
     "iopub.status.idle": "2024-04-29T13:36:53.965844Z",
     "shell.execute_reply": "2024-04-29T13:36:53.964926Z"
    },
    "papermill": {
     "duration": 0.028887,
     "end_time": "2024-04-29T13:36:53.967843",
     "exception": false,
     "start_time": "2024-04-29T13:36:53.938956",
     "status": "completed"
    },
    "tags": []
   },
   "outputs": [
    {
     "data": {
      "text/html": [
       "<div>\n",
       "<style scoped>\n",
       "    .dataframe tbody tr th:only-of-type {\n",
       "        vertical-align: middle;\n",
       "    }\n",
       "\n",
       "    .dataframe tbody tr th {\n",
       "        vertical-align: top;\n",
       "    }\n",
       "\n",
       "    .dataframe thead th {\n",
       "        text-align: right;\n",
       "    }\n",
       "</style>\n",
       "<table border=\"1\" class=\"dataframe\">\n",
       "  <thead>\n",
       "    <tr style=\"text-align: right;\">\n",
       "      <th></th>\n",
       "      <th>text</th>\n",
       "      <th>label</th>\n",
       "      <th>preprocess_text</th>\n",
       "    </tr>\n",
       "  </thead>\n",
       "  <tbody>\n",
       "    <tr>\n",
       "      <th>0</th>\n",
       "      <td>Just got back from seeing @GaryDelaney in Burs...</td>\n",
       "      <td>joy</td>\n",
       "      <td>get see @GaryDelaney Burslem AMAZING face hurt...</td>\n",
       "    </tr>\n",
       "    <tr>\n",
       "      <th>1</th>\n",
       "      <td>Oh dear an evening of absolute hilarity I don'...</td>\n",
       "      <td>joy</td>\n",
       "      <td>oh dear evening absolute hilarity think laugh ...</td>\n",
       "    </tr>\n",
       "    <tr>\n",
       "      <th>2</th>\n",
       "      <td>Been waiting all week for this game ❤️❤️❤️ #ch...</td>\n",
       "      <td>joy</td>\n",
       "      <td>wait week game ❤ ️ ❤ ️ ❤ ️ cheer friday ❤ ️</td>\n",
       "    </tr>\n",
       "    <tr>\n",
       "      <th>3</th>\n",
       "      <td>@gardiner_love : Thank you so much, Gloria! Yo...</td>\n",
       "      <td>joy</td>\n",
       "      <td>@gardiner_love thank Gloria sweet thoughtful d...</td>\n",
       "    </tr>\n",
       "    <tr>\n",
       "      <th>4</th>\n",
       "      <td>I feel so blessed to work with the family that...</td>\n",
       "      <td>joy</td>\n",
       "      <td>feel blessed work family nanny ❤ ️ love amp ap...</td>\n",
       "    </tr>\n",
       "    <tr>\n",
       "      <th>...</th>\n",
       "      <td>...</td>\n",
       "      <td>...</td>\n",
       "      <td>...</td>\n",
       "    </tr>\n",
       "    <tr>\n",
       "      <th>3608</th>\n",
       "      <td>@VivienLloyd Thank you so much! Just home - st...</td>\n",
       "      <td>sadness</td>\n",
       "      <td>@VivienLloyd thank home stunned happy think si...</td>\n",
       "    </tr>\n",
       "    <tr>\n",
       "      <th>3609</th>\n",
       "      <td>Just put the winter duvet on ☃️❄️🌬☔️</td>\n",
       "      <td>sadness</td>\n",
       "      <td>winter duvet ☃ ️ ❄ ️ 🌬 ☔ ️</td>\n",
       "    </tr>\n",
       "    <tr>\n",
       "      <th>3610</th>\n",
       "      <td>@SilkInSide @TommyJoeRatliff that's so pretty!...</td>\n",
       "      <td>sadness</td>\n",
       "      <td>@SilkInSide @tommyjoeratliff pretty love sky b...</td>\n",
       "    </tr>\n",
       "    <tr>\n",
       "      <th>3611</th>\n",
       "      <td>@BluesfestByron second artist announcement loo...</td>\n",
       "      <td>sadness</td>\n",
       "      <td>@BluesfestByron second artist announcement loo...</td>\n",
       "    </tr>\n",
       "    <tr>\n",
       "      <th>3612</th>\n",
       "      <td>I can literally eat creamy pesto pasta topped ...</td>\n",
       "      <td>sadness</td>\n",
       "      <td>literally eat creamy pesto pasta top grill chi...</td>\n",
       "    </tr>\n",
       "  </tbody>\n",
       "</table>\n",
       "<p>3322 rows × 3 columns</p>\n",
       "</div>"
      ],
      "text/plain": [
       "                                                   text    label  \\\n",
       "0     Just got back from seeing @GaryDelaney in Burs...      joy   \n",
       "1     Oh dear an evening of absolute hilarity I don'...      joy   \n",
       "2     Been waiting all week for this game ❤️❤️❤️ #ch...      joy   \n",
       "3     @gardiner_love : Thank you so much, Gloria! Yo...      joy   \n",
       "4     I feel so blessed to work with the family that...      joy   \n",
       "...                                                 ...      ...   \n",
       "3608  @VivienLloyd Thank you so much! Just home - st...  sadness   \n",
       "3609              Just put the winter duvet on ☃️❄️🌬☔️   sadness   \n",
       "3610  @SilkInSide @TommyJoeRatliff that's so pretty!...  sadness   \n",
       "3611  @BluesfestByron second artist announcement loo...  sadness   \n",
       "3612  I can literally eat creamy pesto pasta topped ...  sadness   \n",
       "\n",
       "                                        preprocess_text  \n",
       "0     get see @GaryDelaney Burslem AMAZING face hurt...  \n",
       "1     oh dear evening absolute hilarity think laugh ...  \n",
       "2           wait week game ❤ ️ ❤ ️ ❤ ️ cheer friday ❤ ️  \n",
       "3     @gardiner_love thank Gloria sweet thoughtful d...  \n",
       "4     feel blessed work family nanny ❤ ️ love amp ap...  \n",
       "...                                                 ...  \n",
       "3608  @VivienLloyd thank home stunned happy think si...  \n",
       "3609                         winter duvet ☃ ️ ❄ ️ 🌬 ☔ ️  \n",
       "3610  @SilkInSide @tommyjoeratliff pretty love sky b...  \n",
       "3611  @BluesfestByron second artist announcement loo...  \n",
       "3612  literally eat creamy pesto pasta top grill chi...  \n",
       "\n",
       "[3322 rows x 3 columns]"
      ]
     },
     "execution_count": 13,
     "metadata": {},
     "output_type": "execute_result"
    }
   ],
   "source": [
    "df"
   ]
  },
  {
   "cell_type": "code",
   "execution_count": 14,
   "id": "6ce08475",
   "metadata": {
    "execution": {
     "iopub.execute_input": "2024-04-29T13:36:53.994532Z",
     "iopub.status.busy": "2024-04-29T13:36:53.994280Z",
     "iopub.status.idle": "2024-04-29T13:36:54.008035Z",
     "shell.execute_reply": "2024-04-29T13:36:54.007206Z"
    },
    "papermill": {
     "duration": 0.029249,
     "end_time": "2024-04-29T13:36:54.010004",
     "exception": false,
     "start_time": "2024-04-29T13:36:53.980755",
     "status": "completed"
    },
    "tags": []
   },
   "outputs": [
    {
     "data": {
      "text/html": [
       "<div>\n",
       "<style scoped>\n",
       "    .dataframe tbody tr th:only-of-type {\n",
       "        vertical-align: middle;\n",
       "    }\n",
       "\n",
       "    .dataframe tbody tr th {\n",
       "        vertical-align: top;\n",
       "    }\n",
       "\n",
       "    .dataframe thead th {\n",
       "        text-align: right;\n",
       "    }\n",
       "</style>\n",
       "<table border=\"1\" class=\"dataframe\">\n",
       "  <thead>\n",
       "    <tr style=\"text-align: right;\">\n",
       "      <th></th>\n",
       "      <th>text</th>\n",
       "      <th>label</th>\n",
       "      <th>preprocess_text</th>\n",
       "      <th>label_num</th>\n",
       "    </tr>\n",
       "  </thead>\n",
       "  <tbody>\n",
       "    <tr>\n",
       "      <th>0</th>\n",
       "      <td>Just got back from seeing @GaryDelaney in Burs...</td>\n",
       "      <td>joy</td>\n",
       "      <td>get see @GaryDelaney Burslem AMAZING face hurt...</td>\n",
       "      <td>2</td>\n",
       "    </tr>\n",
       "    <tr>\n",
       "      <th>1</th>\n",
       "      <td>Oh dear an evening of absolute hilarity I don'...</td>\n",
       "      <td>joy</td>\n",
       "      <td>oh dear evening absolute hilarity think laugh ...</td>\n",
       "      <td>2</td>\n",
       "    </tr>\n",
       "    <tr>\n",
       "      <th>2</th>\n",
       "      <td>Been waiting all week for this game ❤️❤️❤️ #ch...</td>\n",
       "      <td>joy</td>\n",
       "      <td>wait week game ❤ ️ ❤ ️ ❤ ️ cheer friday ❤ ️</td>\n",
       "      <td>2</td>\n",
       "    </tr>\n",
       "    <tr>\n",
       "      <th>3</th>\n",
       "      <td>@gardiner_love : Thank you so much, Gloria! Yo...</td>\n",
       "      <td>joy</td>\n",
       "      <td>@gardiner_love thank Gloria sweet thoughtful d...</td>\n",
       "      <td>2</td>\n",
       "    </tr>\n",
       "    <tr>\n",
       "      <th>4</th>\n",
       "      <td>I feel so blessed to work with the family that...</td>\n",
       "      <td>joy</td>\n",
       "      <td>feel blessed work family nanny ❤ ️ love amp ap...</td>\n",
       "      <td>2</td>\n",
       "    </tr>\n",
       "    <tr>\n",
       "      <th>5</th>\n",
       "      <td>Today I reached 1000 subscribers on YT!! , #go...</td>\n",
       "      <td>joy</td>\n",
       "      <td>today reach 1000 subscriber YT goodday thankful</td>\n",
       "      <td>2</td>\n",
       "    </tr>\n",
       "    <tr>\n",
       "      <th>6</th>\n",
       "      <td>@Singaholic121 Good morning, love! Happy first...</td>\n",
       "      <td>joy</td>\n",
       "      <td>@singaholic121 good morning love happy day fal...</td>\n",
       "      <td>2</td>\n",
       "    </tr>\n",
       "    <tr>\n",
       "      <th>7</th>\n",
       "      <td>#BridgetJonesBaby is the best thing I've seen ...</td>\n",
       "      <td>joy</td>\n",
       "      <td>bridgetjonesbaby good thing see age funny miss...</td>\n",
       "      <td>2</td>\n",
       "    </tr>\n",
       "    <tr>\n",
       "      <th>8</th>\n",
       "      <td>Just got back from seeing @GaryDelaney in Burs...</td>\n",
       "      <td>joy</td>\n",
       "      <td>get see @GaryDelaney Burslem AMAZING face hurt...</td>\n",
       "      <td>2</td>\n",
       "    </tr>\n",
       "  </tbody>\n",
       "</table>\n",
       "</div>"
      ],
      "text/plain": [
       "                                                text label  \\\n",
       "0  Just got back from seeing @GaryDelaney in Burs...   joy   \n",
       "1  Oh dear an evening of absolute hilarity I don'...   joy   \n",
       "2  Been waiting all week for this game ❤️❤️❤️ #ch...   joy   \n",
       "3  @gardiner_love : Thank you so much, Gloria! Yo...   joy   \n",
       "4  I feel so blessed to work with the family that...   joy   \n",
       "5  Today I reached 1000 subscribers on YT!! , #go...   joy   \n",
       "6  @Singaholic121 Good morning, love! Happy first...   joy   \n",
       "7  #BridgetJonesBaby is the best thing I've seen ...   joy   \n",
       "8  Just got back from seeing @GaryDelaney in Burs...   joy   \n",
       "\n",
       "                                     preprocess_text  label_num  \n",
       "0  get see @GaryDelaney Burslem AMAZING face hurt...          2  \n",
       "1  oh dear evening absolute hilarity think laugh ...          2  \n",
       "2        wait week game ❤ ️ ❤ ️ ❤ ️ cheer friday ❤ ️          2  \n",
       "3  @gardiner_love thank Gloria sweet thoughtful d...          2  \n",
       "4  feel blessed work family nanny ❤ ️ love amp ap...          2  \n",
       "5    today reach 1000 subscriber YT goodday thankful          2  \n",
       "6  @singaholic121 good morning love happy day fal...          2  \n",
       "7  bridgetjonesbaby good thing see age funny miss...          2  \n",
       "8  get see @GaryDelaney Burslem AMAZING face hurt...          2  "
      ]
     },
     "execution_count": 14,
     "metadata": {},
     "output_type": "execute_result"
    }
   ],
   "source": [
    "df['label_num']=df[\"label\"].map({'fear':0,'anger':1 ,'joy':2 ,'sadness':3})\n",
    "df.head(9)"
   ]
  },
  {
   "cell_type": "markdown",
   "id": "8945db81",
   "metadata": {
    "papermill": {
     "duration": 0.01326,
     "end_time": "2024-04-29T13:36:54.036509",
     "exception": false,
     "start_time": "2024-04-29T13:36:54.023249",
     "status": "completed"
    },
    "tags": []
   },
   "source": [
    "Preparing test dataset"
   ]
  },
  {
   "cell_type": "code",
   "execution_count": 15,
   "id": "55103eaa",
   "metadata": {
    "collapsed": true,
    "execution": {
     "iopub.execute_input": "2024-04-29T13:36:54.063983Z",
     "iopub.status.busy": "2024-04-29T13:36:54.063713Z",
     "iopub.status.idle": "2024-04-29T13:36:54.089918Z",
     "shell.execute_reply": "2024-04-29T13:36:54.088921Z"
    },
    "jupyter": {
     "outputs_hidden": true
    },
    "papermill": {
     "duration": 0.04245,
     "end_time": "2024-04-29T13:36:54.092001",
     "exception": false,
     "start_time": "2024-04-29T13:36:54.049551",
     "status": "completed"
    },
    "tags": []
   },
   "outputs": [
    {
     "data": {
      "text/html": [
       "<div>\n",
       "<style scoped>\n",
       "    .dataframe tbody tr th:only-of-type {\n",
       "        vertical-align: middle;\n",
       "    }\n",
       "\n",
       "    .dataframe tbody tr th {\n",
       "        vertical-align: top;\n",
       "    }\n",
       "\n",
       "    .dataframe thead th {\n",
       "        text-align: right;\n",
       "    }\n",
       "</style>\n",
       "<table border=\"1\" class=\"dataframe\">\n",
       "  <thead>\n",
       "    <tr style=\"text-align: right;\">\n",
       "      <th></th>\n",
       "      <th>text</th>\n",
       "      <th>label</th>\n",
       "    </tr>\n",
       "  </thead>\n",
       "  <tbody>\n",
       "    <tr>\n",
       "      <th>0</th>\n",
       "      <td>You must be knowing #blithe means (adj.)  Happ...</td>\n",
       "      <td>joy</td>\n",
       "    </tr>\n",
       "    <tr>\n",
       "      <th>1</th>\n",
       "      <td>Old saying 'A #smile shared is one gained for ...</td>\n",
       "      <td>joy</td>\n",
       "    </tr>\n",
       "    <tr>\n",
       "      <th>2</th>\n",
       "      <td>Bridget Jones' Baby was bloody hilarious 😅 #Br...</td>\n",
       "      <td>joy</td>\n",
       "    </tr>\n",
       "    <tr>\n",
       "      <th>3</th>\n",
       "      <td>@Elaminova sparkling water makes your life spa...</td>\n",
       "      <td>joy</td>\n",
       "    </tr>\n",
       "    <tr>\n",
       "      <th>4</th>\n",
       "      <td>I'm tired of everybody telling me to chill out...</td>\n",
       "      <td>joy</td>\n",
       "    </tr>\n",
       "    <tr>\n",
       "      <th>...</th>\n",
       "      <td>...</td>\n",
       "      <td>...</td>\n",
       "    </tr>\n",
       "    <tr>\n",
       "      <th>3137</th>\n",
       "      <td>Why does Candice constantly pout #GBBO 💄😒</td>\n",
       "      <td>sadness</td>\n",
       "    </tr>\n",
       "    <tr>\n",
       "      <th>3138</th>\n",
       "      <td>@redBus_in #unhappy with #redbus CC, when I ta...</td>\n",
       "      <td>sadness</td>\n",
       "    </tr>\n",
       "    <tr>\n",
       "      <th>3139</th>\n",
       "      <td>@AceOperative789 no pull him afew weeks ago, s...</td>\n",
       "      <td>sadness</td>\n",
       "    </tr>\n",
       "    <tr>\n",
       "      <th>3140</th>\n",
       "      <td>I'm buying art supplies and I'm debating how s...</td>\n",
       "      <td>sadness</td>\n",
       "    </tr>\n",
       "    <tr>\n",
       "      <th>3141</th>\n",
       "      <td>@sainsburys Could you ask your Chafford Hundre...</td>\n",
       "      <td>sadness</td>\n",
       "    </tr>\n",
       "  </tbody>\n",
       "</table>\n",
       "<p>3142 rows × 2 columns</p>\n",
       "</div>"
      ],
      "text/plain": [
       "                                                   text    label\n",
       "0     You must be knowing #blithe means (adj.)  Happ...      joy\n",
       "1     Old saying 'A #smile shared is one gained for ...      joy\n",
       "2     Bridget Jones' Baby was bloody hilarious 😅 #Br...      joy\n",
       "3     @Elaminova sparkling water makes your life spa...      joy\n",
       "4     I'm tired of everybody telling me to chill out...      joy\n",
       "...                                                 ...      ...\n",
       "3137          Why does Candice constantly pout #GBBO 💄😒  sadness\n",
       "3138  @redBus_in #unhappy with #redbus CC, when I ta...  sadness\n",
       "3139  @AceOperative789 no pull him afew weeks ago, s...  sadness\n",
       "3140  I'm buying art supplies and I'm debating how s...  sadness\n",
       "3141  @sainsburys Could you ask your Chafford Hundre...  sadness\n",
       "\n",
       "[3142 rows x 2 columns]"
      ]
     },
     "execution_count": 15,
     "metadata": {},
     "output_type": "execute_result"
    }
   ],
   "source": [
    "df_test=pd.read_csv(\"/kaggle/input/emotion-classification-nlp/emotion-labels-test.csv\")\n",
    "df_test"
   ]
  },
  {
   "cell_type": "code",
   "execution_count": 16,
   "id": "8a20be4a",
   "metadata": {
    "execution": {
     "iopub.execute_input": "2024-04-29T13:36:54.119738Z",
     "iopub.status.busy": "2024-04-29T13:36:54.119465Z",
     "iopub.status.idle": "2024-04-29T13:36:54.126559Z",
     "shell.execute_reply": "2024-04-29T13:36:54.125611Z"
    },
    "papermill": {
     "duration": 0.022959,
     "end_time": "2024-04-29T13:36:54.128406",
     "exception": false,
     "start_time": "2024-04-29T13:36:54.105447",
     "status": "completed"
    },
    "tags": []
   },
   "outputs": [
    {
     "data": {
      "text/plain": [
       "label\n",
       "fear       995\n",
       "anger      760\n",
       "joy        714\n",
       "sadness    673\n",
       "Name: count, dtype: int64"
      ]
     },
     "execution_count": 16,
     "metadata": {},
     "output_type": "execute_result"
    }
   ],
   "source": [
    "df_test['label'].value_counts()"
   ]
  },
  {
   "cell_type": "code",
   "execution_count": 17,
   "id": "db2bc90c",
   "metadata": {
    "execution": {
     "iopub.execute_input": "2024-04-29T13:36:54.156305Z",
     "iopub.status.busy": "2024-04-29T13:36:54.156027Z",
     "iopub.status.idle": "2024-04-29T13:36:54.166895Z",
     "shell.execute_reply": "2024-04-29T13:36:54.165848Z"
    },
    "papermill": {
     "duration": 0.027089,
     "end_time": "2024-04-29T13:36:54.168864",
     "exception": false,
     "start_time": "2024-04-29T13:36:54.141775",
     "status": "completed"
    },
    "tags": []
   },
   "outputs": [
    {
     "data": {
      "text/html": [
       "<div>\n",
       "<style scoped>\n",
       "    .dataframe tbody tr th:only-of-type {\n",
       "        vertical-align: middle;\n",
       "    }\n",
       "\n",
       "    .dataframe tbody tr th {\n",
       "        vertical-align: top;\n",
       "    }\n",
       "\n",
       "    .dataframe thead th {\n",
       "        text-align: right;\n",
       "    }\n",
       "</style>\n",
       "<table border=\"1\" class=\"dataframe\">\n",
       "  <thead>\n",
       "    <tr style=\"text-align: right;\">\n",
       "      <th></th>\n",
       "      <th>text</th>\n",
       "      <th>label</th>\n",
       "    </tr>\n",
       "  </thead>\n",
       "  <tbody>\n",
       "    <tr>\n",
       "      <th>0</th>\n",
       "      <td>You must be knowing #blithe means (adj.)  Happ...</td>\n",
       "      <td>joy</td>\n",
       "    </tr>\n",
       "    <tr>\n",
       "      <th>1</th>\n",
       "      <td>Old saying 'A #smile shared is one gained for ...</td>\n",
       "      <td>joy</td>\n",
       "    </tr>\n",
       "    <tr>\n",
       "      <th>2</th>\n",
       "      <td>Bridget Jones' Baby was bloody hilarious 😅 #Br...</td>\n",
       "      <td>joy</td>\n",
       "    </tr>\n",
       "    <tr>\n",
       "      <th>3</th>\n",
       "      <td>@Elaminova sparkling water makes your life spa...</td>\n",
       "      <td>joy</td>\n",
       "    </tr>\n",
       "    <tr>\n",
       "      <th>4</th>\n",
       "      <td>I'm tired of everybody telling me to chill out...</td>\n",
       "      <td>joy</td>\n",
       "    </tr>\n",
       "    <tr>\n",
       "      <th>...</th>\n",
       "      <td>...</td>\n",
       "      <td>...</td>\n",
       "    </tr>\n",
       "    <tr>\n",
       "      <th>895</th>\n",
       "      <td>watching my first Cage of Death and my word th...</td>\n",
       "      <td>fear</td>\n",
       "    </tr>\n",
       "    <tr>\n",
       "      <th>896</th>\n",
       "      <td>Pakistan continues to treat #terror as a matte...</td>\n",
       "      <td>fear</td>\n",
       "    </tr>\n",
       "    <tr>\n",
       "      <th>897</th>\n",
       "      <td>I think I must scare my coworkers when I'm eat...</td>\n",
       "      <td>fear</td>\n",
       "    </tr>\n",
       "    <tr>\n",
       "      <th>898</th>\n",
       "      <td>“Worry is a down payment on a problem you may ...</td>\n",
       "      <td>fear</td>\n",
       "    </tr>\n",
       "    <tr>\n",
       "      <th>899</th>\n",
       "      <td>“Worry is a down payment on a problem you may ...</td>\n",
       "      <td>fear</td>\n",
       "    </tr>\n",
       "  </tbody>\n",
       "</table>\n",
       "<p>900 rows × 2 columns</p>\n",
       "</div>"
      ],
      "text/plain": [
       "                                                  text label\n",
       "0    You must be knowing #blithe means (adj.)  Happ...   joy\n",
       "1    Old saying 'A #smile shared is one gained for ...   joy\n",
       "2    Bridget Jones' Baby was bloody hilarious 😅 #Br...   joy\n",
       "3    @Elaminova sparkling water makes your life spa...   joy\n",
       "4    I'm tired of everybody telling me to chill out...   joy\n",
       "..                                                 ...   ...\n",
       "895  watching my first Cage of Death and my word th...  fear\n",
       "896  Pakistan continues to treat #terror as a matte...  fear\n",
       "897  I think I must scare my coworkers when I'm eat...  fear\n",
       "898  “Worry is a down payment on a problem you may ...  fear\n",
       "899  “Worry is a down payment on a problem you may ...  fear\n",
       "\n",
       "[900 rows x 2 columns]"
      ]
     },
     "execution_count": 17,
     "metadata": {},
     "output_type": "execute_result"
    }
   ],
   "source": [
    "df_test.head(900)"
   ]
  },
  {
   "cell_type": "code",
   "execution_count": 18,
   "id": "e039a7f6",
   "metadata": {
    "execution": {
     "iopub.execute_input": "2024-04-29T13:36:54.197390Z",
     "iopub.status.busy": "2024-04-29T13:36:54.197102Z",
     "iopub.status.idle": "2024-04-29T13:36:54.202746Z",
     "shell.execute_reply": "2024-04-29T13:36:54.201754Z"
    },
    "papermill": {
     "duration": 0.022416,
     "end_time": "2024-04-29T13:36:54.204985",
     "exception": false,
     "start_time": "2024-04-29T13:36:54.182569",
     "status": "completed"
    },
    "tags": []
   },
   "outputs": [],
   "source": [
    "df_test_edit =df_test.loc[895:1145,['text','label']]"
   ]
  },
  {
   "cell_type": "code",
   "execution_count": 19,
   "id": "e615cf78",
   "metadata": {
    "execution": {
     "iopub.execute_input": "2024-04-29T13:36:54.234216Z",
     "iopub.status.busy": "2024-04-29T13:36:54.233935Z",
     "iopub.status.idle": "2024-04-29T13:36:54.240693Z",
     "shell.execute_reply": "2024-04-29T13:36:54.239823Z"
    },
    "papermill": {
     "duration": 0.023184,
     "end_time": "2024-04-29T13:36:54.242578",
     "exception": false,
     "start_time": "2024-04-29T13:36:54.219394",
     "status": "completed"
    },
    "tags": []
   },
   "outputs": [
    {
     "data": {
      "text/plain": [
       "label\n",
       "fear    251\n",
       "Name: count, dtype: int64"
      ]
     },
     "execution_count": 19,
     "metadata": {},
     "output_type": "execute_result"
    }
   ],
   "source": [
    "df_test_edit['label'].value_counts()"
   ]
  },
  {
   "cell_type": "code",
   "execution_count": 20,
   "id": "74b49cd4",
   "metadata": {
    "execution": {
     "iopub.execute_input": "2024-04-29T13:36:54.271439Z",
     "iopub.status.busy": "2024-04-29T13:36:54.271161Z",
     "iopub.status.idle": "2024-04-29T13:36:54.279115Z",
     "shell.execute_reply": "2024-04-29T13:36:54.278290Z"
    },
    "papermill": {
     "duration": 0.024479,
     "end_time": "2024-04-29T13:36:54.280976",
     "exception": false,
     "start_time": "2024-04-29T13:36:54.256497",
     "status": "completed"
    },
    "tags": []
   },
   "outputs": [
    {
     "data": {
      "text/plain": [
       "(2851, 2)"
      ]
     },
     "execution_count": 20,
     "metadata": {},
     "output_type": "execute_result"
    }
   ],
   "source": [
    "df_test= df_test.drop(df_test.loc[895:1185 , ['text','label']].index)\n",
    "df_test.shape"
   ]
  },
  {
   "cell_type": "code",
   "execution_count": 21,
   "id": "c54f307a",
   "metadata": {
    "execution": {
     "iopub.execute_input": "2024-04-29T13:36:54.309743Z",
     "iopub.status.busy": "2024-04-29T13:36:54.309478Z",
     "iopub.status.idle": "2024-04-29T13:37:18.353123Z",
     "shell.execute_reply": "2024-04-29T13:37:18.352087Z"
    },
    "papermill": {
     "duration": 24.06055,
     "end_time": "2024-04-29T13:37:18.355451",
     "exception": false,
     "start_time": "2024-04-29T13:36:54.294901",
     "status": "completed"
    },
    "tags": []
   },
   "outputs": [],
   "source": [
    "df_test[\"preprocess_text\"]=df_test[\"text\"].apply(preprocess)"
   ]
  },
  {
   "cell_type": "code",
   "execution_count": 22,
   "id": "fa3d997e",
   "metadata": {
    "execution": {
     "iopub.execute_input": "2024-04-29T13:37:18.385417Z",
     "iopub.status.busy": "2024-04-29T13:37:18.385086Z",
     "iopub.status.idle": "2024-04-29T13:37:18.397581Z",
     "shell.execute_reply": "2024-04-29T13:37:18.396641Z"
    },
    "papermill": {
     "duration": 0.029728,
     "end_time": "2024-04-29T13:37:18.399510",
     "exception": false,
     "start_time": "2024-04-29T13:37:18.369782",
     "status": "completed"
    },
    "tags": []
   },
   "outputs": [
    {
     "data": {
      "text/html": [
       "<div>\n",
       "<style scoped>\n",
       "    .dataframe tbody tr th:only-of-type {\n",
       "        vertical-align: middle;\n",
       "    }\n",
       "\n",
       "    .dataframe tbody tr th {\n",
       "        vertical-align: top;\n",
       "    }\n",
       "\n",
       "    .dataframe thead th {\n",
       "        text-align: right;\n",
       "    }\n",
       "</style>\n",
       "<table border=\"1\" class=\"dataframe\">\n",
       "  <thead>\n",
       "    <tr style=\"text-align: right;\">\n",
       "      <th></th>\n",
       "      <th>text</th>\n",
       "      <th>label</th>\n",
       "      <th>preprocess_text</th>\n",
       "    </tr>\n",
       "  </thead>\n",
       "  <tbody>\n",
       "    <tr>\n",
       "      <th>0</th>\n",
       "      <td>You must be knowing #blithe means (adj.)  Happ...</td>\n",
       "      <td>joy</td>\n",
       "      <td>know blithe mean adj   Happy cheerful</td>\n",
       "    </tr>\n",
       "    <tr>\n",
       "      <th>1</th>\n",
       "      <td>Old saying 'A #smile shared is one gained for ...</td>\n",
       "      <td>joy</td>\n",
       "      <td>old say smile share gain day @YEGlifer @scott_...</td>\n",
       "    </tr>\n",
       "    <tr>\n",
       "      <th>2</th>\n",
       "      <td>Bridget Jones' Baby was bloody hilarious 😅 #Br...</td>\n",
       "      <td>joy</td>\n",
       "      <td>Bridget Jones Baby bloody hilarious 😅 BridgetJ...</td>\n",
       "    </tr>\n",
       "    <tr>\n",
       "      <th>3</th>\n",
       "      <td>@Elaminova sparkling water makes your life spa...</td>\n",
       "      <td>joy</td>\n",
       "      <td>@elaminova sparkle water make life sparkly</td>\n",
       "    </tr>\n",
       "    <tr>\n",
       "      <th>4</th>\n",
       "      <td>I'm tired of everybody telling me to chill out...</td>\n",
       "      <td>joy</td>\n",
       "      <td>tired everybody tell chill everything ok fuck ...</td>\n",
       "    </tr>\n",
       "    <tr>\n",
       "      <th>...</th>\n",
       "      <td>...</td>\n",
       "      <td>...</td>\n",
       "      <td>...</td>\n",
       "    </tr>\n",
       "    <tr>\n",
       "      <th>3137</th>\n",
       "      <td>Why does Candice constantly pout #GBBO 💄😒</td>\n",
       "      <td>sadness</td>\n",
       "      <td>Candice constantly pout GBBO 💄 😒</td>\n",
       "    </tr>\n",
       "    <tr>\n",
       "      <th>3138</th>\n",
       "      <td>@redBus_in #unhappy with #redbus CC, when I ta...</td>\n",
       "      <td>sadness</td>\n",
       "      <td>@redBus_in unhappy redbus cc talk week initiat...</td>\n",
       "    </tr>\n",
       "    <tr>\n",
       "      <th>3139</th>\n",
       "      <td>@AceOperative789 no pull him afew weeks ago, s...</td>\n",
       "      <td>sadness</td>\n",
       "      <td>@AceOperative789 pull afew week ago sadly s ga...</td>\n",
       "    </tr>\n",
       "    <tr>\n",
       "      <th>3140</th>\n",
       "      <td>I'm buying art supplies and I'm debating how s...</td>\n",
       "      <td>sadness</td>\n",
       "      <td>buy art supply debate buy acrylic paint</td>\n",
       "    </tr>\n",
       "    <tr>\n",
       "      <th>3141</th>\n",
       "      <td>@sainsburys Could you ask your Chafford Hundre...</td>\n",
       "      <td>sadness</td>\n",
       "      <td>@sainsburys ask Chafford store turn car park l...</td>\n",
       "    </tr>\n",
       "  </tbody>\n",
       "</table>\n",
       "<p>2851 rows × 3 columns</p>\n",
       "</div>"
      ],
      "text/plain": [
       "                                                   text    label  \\\n",
       "0     You must be knowing #blithe means (adj.)  Happ...      joy   \n",
       "1     Old saying 'A #smile shared is one gained for ...      joy   \n",
       "2     Bridget Jones' Baby was bloody hilarious 😅 #Br...      joy   \n",
       "3     @Elaminova sparkling water makes your life spa...      joy   \n",
       "4     I'm tired of everybody telling me to chill out...      joy   \n",
       "...                                                 ...      ...   \n",
       "3137          Why does Candice constantly pout #GBBO 💄😒  sadness   \n",
       "3138  @redBus_in #unhappy with #redbus CC, when I ta...  sadness   \n",
       "3139  @AceOperative789 no pull him afew weeks ago, s...  sadness   \n",
       "3140  I'm buying art supplies and I'm debating how s...  sadness   \n",
       "3141  @sainsburys Could you ask your Chafford Hundre...  sadness   \n",
       "\n",
       "                                        preprocess_text  \n",
       "0                 know blithe mean adj   Happy cheerful  \n",
       "1     old say smile share gain day @YEGlifer @scott_...  \n",
       "2     Bridget Jones Baby bloody hilarious 😅 BridgetJ...  \n",
       "3            @elaminova sparkle water make life sparkly  \n",
       "4     tired everybody tell chill everything ok fuck ...  \n",
       "...                                                 ...  \n",
       "3137                   Candice constantly pout GBBO 💄 😒  \n",
       "3138  @redBus_in unhappy redbus cc talk week initiat...  \n",
       "3139  @AceOperative789 pull afew week ago sadly s ga...  \n",
       "3140            buy art supply debate buy acrylic paint  \n",
       "3141  @sainsburys ask Chafford store turn car park l...  \n",
       "\n",
       "[2851 rows x 3 columns]"
      ]
     },
     "execution_count": 22,
     "metadata": {},
     "output_type": "execute_result"
    }
   ],
   "source": [
    "df_test"
   ]
  },
  {
   "cell_type": "code",
   "execution_count": 23,
   "id": "e0a6050e",
   "metadata": {
    "execution": {
     "iopub.execute_input": "2024-04-29T13:37:18.429621Z",
     "iopub.status.busy": "2024-04-29T13:37:18.429313Z",
     "iopub.status.idle": "2024-04-29T13:37:18.442420Z",
     "shell.execute_reply": "2024-04-29T13:37:18.441472Z"
    },
    "papermill": {
     "duration": 0.030885,
     "end_time": "2024-04-29T13:37:18.444742",
     "exception": false,
     "start_time": "2024-04-29T13:37:18.413857",
     "status": "completed"
    },
    "tags": []
   },
   "outputs": [
    {
     "data": {
      "text/html": [
       "<div>\n",
       "<style scoped>\n",
       "    .dataframe tbody tr th:only-of-type {\n",
       "        vertical-align: middle;\n",
       "    }\n",
       "\n",
       "    .dataframe tbody tr th {\n",
       "        vertical-align: top;\n",
       "    }\n",
       "\n",
       "    .dataframe thead th {\n",
       "        text-align: right;\n",
       "    }\n",
       "</style>\n",
       "<table border=\"1\" class=\"dataframe\">\n",
       "  <thead>\n",
       "    <tr style=\"text-align: right;\">\n",
       "      <th></th>\n",
       "      <th>text</th>\n",
       "      <th>label</th>\n",
       "      <th>preprocess_text</th>\n",
       "      <th>label_num</th>\n",
       "    </tr>\n",
       "  </thead>\n",
       "  <tbody>\n",
       "    <tr>\n",
       "      <th>0</th>\n",
       "      <td>You must be knowing #blithe means (adj.)  Happ...</td>\n",
       "      <td>joy</td>\n",
       "      <td>know blithe mean adj   Happy cheerful</td>\n",
       "      <td>2</td>\n",
       "    </tr>\n",
       "    <tr>\n",
       "      <th>1</th>\n",
       "      <td>Old saying 'A #smile shared is one gained for ...</td>\n",
       "      <td>joy</td>\n",
       "      <td>old say smile share gain day @YEGlifer @scott_...</td>\n",
       "      <td>2</td>\n",
       "    </tr>\n",
       "    <tr>\n",
       "      <th>2</th>\n",
       "      <td>Bridget Jones' Baby was bloody hilarious 😅 #Br...</td>\n",
       "      <td>joy</td>\n",
       "      <td>Bridget Jones Baby bloody hilarious 😅 BridgetJ...</td>\n",
       "      <td>2</td>\n",
       "    </tr>\n",
       "    <tr>\n",
       "      <th>3</th>\n",
       "      <td>@Elaminova sparkling water makes your life spa...</td>\n",
       "      <td>joy</td>\n",
       "      <td>@elaminova sparkle water make life sparkly</td>\n",
       "      <td>2</td>\n",
       "    </tr>\n",
       "    <tr>\n",
       "      <th>4</th>\n",
       "      <td>I'm tired of everybody telling me to chill out...</td>\n",
       "      <td>joy</td>\n",
       "      <td>tired everybody tell chill everything ok fuck ...</td>\n",
       "      <td>2</td>\n",
       "    </tr>\n",
       "    <tr>\n",
       "      <th>5</th>\n",
       "      <td>#GBBO can cheer me up ☺️</td>\n",
       "      <td>joy</td>\n",
       "      <td>GBBO cheer ☺ ️</td>\n",
       "      <td>2</td>\n",
       "    </tr>\n",
       "    <tr>\n",
       "      <th>6</th>\n",
       "      <td>&amp;amp; as much as I hate for a dude to cheat, w...</td>\n",
       "      <td>joy</td>\n",
       "      <td>amp hate dude cheat woman forego please man la...</td>\n",
       "      <td>2</td>\n",
       "    </tr>\n",
       "    <tr>\n",
       "      <th>7</th>\n",
       "      <td>@GOT7Official @jrjyp happy birthday jin young!...</td>\n",
       "      <td>joy</td>\n",
       "      <td>@got7official @jrjyp happy birthday jin young ...</td>\n",
       "      <td>2</td>\n",
       "    </tr>\n",
       "    <tr>\n",
       "      <th>8</th>\n",
       "      <td>@GOT7Official @jrjyp happy birthday jin young!...</td>\n",
       "      <td>joy</td>\n",
       "      <td>@got7official @jrjyp happy birthday jin young ...</td>\n",
       "      <td>2</td>\n",
       "    </tr>\n",
       "  </tbody>\n",
       "</table>\n",
       "</div>"
      ],
      "text/plain": [
       "                                                text label  \\\n",
       "0  You must be knowing #blithe means (adj.)  Happ...   joy   \n",
       "1  Old saying 'A #smile shared is one gained for ...   joy   \n",
       "2  Bridget Jones' Baby was bloody hilarious 😅 #Br...   joy   \n",
       "3  @Elaminova sparkling water makes your life spa...   joy   \n",
       "4  I'm tired of everybody telling me to chill out...   joy   \n",
       "5                           #GBBO can cheer me up ☺️   joy   \n",
       "6  &amp; as much as I hate for a dude to cheat, w...   joy   \n",
       "7  @GOT7Official @jrjyp happy birthday jin young!...   joy   \n",
       "8  @GOT7Official @jrjyp happy birthday jin young!...   joy   \n",
       "\n",
       "                                     preprocess_text  label_num  \n",
       "0              know blithe mean adj   Happy cheerful          2  \n",
       "1  old say smile share gain day @YEGlifer @scott_...          2  \n",
       "2  Bridget Jones Baby bloody hilarious 😅 BridgetJ...          2  \n",
       "3         @elaminova sparkle water make life sparkly          2  \n",
       "4  tired everybody tell chill everything ok fuck ...          2  \n",
       "5                                     GBBO cheer ☺ ️          2  \n",
       "6  amp hate dude cheat woman forego please man la...          2  \n",
       "7  @got7official @jrjyp happy birthday jin young ...          2  \n",
       "8  @got7official @jrjyp happy birthday jin young ...          2  "
      ]
     },
     "execution_count": 23,
     "metadata": {},
     "output_type": "execute_result"
    }
   ],
   "source": [
    "df_test['label_num']=df_test[\"label\"].map({'fear':0,'anger':1 ,'joy':2 ,'sadness':3})\n",
    "df_test.head(9)"
   ]
  },
  {
   "cell_type": "code",
   "execution_count": 24,
   "id": "220da664",
   "metadata": {
    "execution": {
     "iopub.execute_input": "2024-04-29T13:37:18.475168Z",
     "iopub.status.busy": "2024-04-29T13:37:18.474858Z",
     "iopub.status.idle": "2024-04-29T13:37:18.478854Z",
     "shell.execute_reply": "2024-04-29T13:37:18.477943Z"
    },
    "papermill": {
     "duration": 0.021181,
     "end_time": "2024-04-29T13:37:18.480701",
     "exception": false,
     "start_time": "2024-04-29T13:37:18.459520",
     "status": "completed"
    },
    "tags": []
   },
   "outputs": [],
   "source": [
    "#x_train, x_test, y_train, y_test= train_test_split(df['preprocess_text'],df['label_num'] ,\n",
    " #                                                  test_size=0.2 , random_state=42 ,\n",
    "  #                                                 stratify=df[\"label_num\"]\n",
    "   # )"
   ]
  },
  {
   "cell_type": "markdown",
   "id": "988d2a52",
   "metadata": {
    "papermill": {
     "duration": 0.014728,
     "end_time": "2024-04-29T13:37:18.510242",
     "exception": false,
     "start_time": "2024-04-29T13:37:18.495514",
     "status": "completed"
    },
    "tags": []
   },
   "source": [
    "4. Feature Engineering  "
   ]
  },
  {
   "cell_type": "code",
   "execution_count": 25,
   "id": "6ed84cf1",
   "metadata": {
    "collapsed": true,
    "execution": {
     "iopub.execute_input": "2024-04-29T13:37:18.541628Z",
     "iopub.status.busy": "2024-04-29T13:37:18.541328Z",
     "iopub.status.idle": "2024-04-29T13:37:18.697505Z",
     "shell.execute_reply": "2024-04-29T13:37:18.696566Z"
    },
    "jupyter": {
     "outputs_hidden": true
    },
    "papermill": {
     "duration": 0.180444,
     "end_time": "2024-04-29T13:37:18.705975",
     "exception": false,
     "start_time": "2024-04-29T13:37:18.525531",
     "status": "completed"
    },
    "tags": []
   },
   "outputs": [
    {
     "name": "stdout",
     "output_type": "stream",
     "text": [
      "{'know': 3645, 'blithe': 797, 'mean': 4116, 'adj': 183, 'happy': 2855, 'cheerful': 1173, 'old': 4734, 'say': 5724, 'smile': 6023, 'share': 5858, 'gain': 2563, 'day': 1658, 'yeglifer': 7369, 'scott_mckeen': 5755, 'bridget': 900, 'jones': 3488, 'baby': 557, 'bloody': 802, 'hilarious': 2953, 'bridgetjonesbaby': 901, 'elaminova': 2047, 'sparkle': 6125, 'water': 7109, 'make': 3996, 'life': 3800, 'sparkly': 6128, 'tired': 6693, 'everybody': 2194, 'tell': 6518, 'chill': 1197, 'everything': 2197, 'ok': 4731, 'fuck': 2523, 'fake': 2278, 'fucking': 2528, 'gbbo': 2595, 'cheer': 1171, 'amp': 324, 'hate': 2874, 'dude': 1982, 'cheat': 1166, 'woman': 7266, 'forego': 2446, 'please': 5048, 'man': 4009, 'lazy': 3733, 'pointless': 5071, 'got7official': 2713, 'jrjyp': 3521, 'birthday': 750, 'jin': 3452, 'young': 7386, 'princejinyoungday': 5186, 'happyjinyoungday': 2858, 'got7': 2712, 'race': 5314, 'advance': 201, 'extra': 2247, 'achievement': 159, 'individual': 3212, 'charle': 1151, 'towne': 6752, 'optimism': 4772, 'inspire': 3257, 'watch': 7107, 'football': 2441, 'match': 4075, 'commentary': 1355, 'rejoice': 5446, 'find': 2372, 'transmission': 6773, 'city': 1244, 'like': 3815, 'today': 6709, 'joyful': 3513, 'twd': 6848, 'come': 1343, 'soon': 6083, 'taudeltaphidk': 6472, 'thank': 6559, 'obama': 4691, 'cut': 1578, 'elated': 2049, 'home': 2993, 'ddogsscout': 1667, 'oh': 4724, 'odd': 4709, 'cheerfulness': 1175, 'big': 729, 'boss': 844, 'offer': 4718, 'muzzle': 4406, 'flash': 2399, 'blinding': 795, 'accidental': 150, 'guy': 2804, 'good': 2697, 'friend': 2504, 'gemma': 2601, 'simmons': 5938, 'bright': 905, 'spot': 6165, 'premiere': 5162, 'far': 2301, 'agentsofshield': 235, 'beautiful': 662, 'lord': 3905, 'glad': 2658, 'amazing': 308, 'live': 3851, 'ly': 3959, 'broadcast': 916, 'kelli': 3591, 'peterson': 4972, 'lively': 3855, 'musically': 4397, 'talk': 6442, 'sadness': 5679, 'time': 6680, 'want': 7085, 'distract': 1865, 'laughter': 3718, 'shopping': 5902, 'eating': 2022, 'mhchat': 4188, 'oi': 4727, 'thewiggymess': 6625, 'absolutely': 142, 'kill': 3618, '30': 63, 'min': 4227, 'later': 3715, 'cry': 1541, 'grindah': 2764, 'hahahahahahaha': 2819, 'nyc': 4679, 'tomorrow': 6719, 'samheughan': 5701, 'barbour': 607, 'accept': 145, 'challenge': 1131, 'feel': 2331, 'exhilaration': 2226, 'victory': 7022, 'langston_hunter': 3701, 'yeah': 7365, 'bro': 914, 'ea': 2007, 'hella': 2922, 'exhilarate': 2224, 'sad': 5674, 'remember': 5464, 'margaret': 4036, 'thatcher': 6565, 'dead': 1669, 'brown': 929, 'nosing': 4620, 'listen': 3844, 'lot': 3913, 'housing': 3038, 'minister': 4236, 'gavinbarwellmp': 2592, 'nhf16': 4534, 'impress': 3177, 'apkrawczynski': 396, 'possibly': 5116, 'kg': 3605, 'buy': 985, 'player': 5043, 'glen': 2667, 'minority': 4237, 'owner': 4820, 'martin': 4063, 'roth': 5628, 'leave': 3752, 'shoe': 5896, 'effect': 2039, 'brexit': 892, 'talented': 6441, 'foreigner': 2447, 'unwelcome': 6944, 'c4new': 996, 'thing': 6631, 'keep': 3584, 'blackish': 773, 'rollin': 5607, 'toddler': 6710, 'cope': 1455, 'new': 4506, 'arrival': 440, 'try': 6824, 'cheerfully': 1174, 'ask': 460, 'american': 316, 'schools': 5741, 'draw': 1944, 'mini': 4233, 'comic_strip': 1350, 'fold': 2432, 'meditative': 4127, 'relaxing': 5451, 'think': 6632, 'need': 4481, 'halloween': 2829, 'malkarii': 4006, 'korgoth': 3653, 'barbaria': 604, 'brutality': 931, 'king': 3628, 'julian': 3538, 'hilarity': 2954, 'ariel': 429, 'hot': 3030, 'love': 3922, 'memory': 4151, 'randomly': 5335, 'pop': 5098, 'ninto': 4567, 'head': 2893, 'an': 334, 'idiot': 3128, 'age': 233, 'turtletitan2003': 6843, 'laugh': 3717, 'bit': 753, 'course': 1484, 'aria': 428, 'shake': 5845, 'calm': 1017, 'mirth': 4244, 'mikey': 4218, 'actually': 172, 'ireneestry': 3319, 'wait': 7069, 'hun': 3074, 'cuddle': 1554, 'gossip': 2709, 'god': 2687, 'hear': 2900, 'voice': 7051, 'moment': 4300, 'fail': 2271, 'bf': 719, 'drive': 1959, 'way': 7117, 'long': 3894, 'spend': 6146, '15': 22, 'hold': 2987, 'well': 7155, 'lucky': 3944, 'work': 7280, 'katherinemansfield': 3576, 'failure': 2272, 'dealingwithfailure': 1673, 'tend': 6525, 'loosen': 3901, 'drunk': 1972, 'pretty': 5177, 'chirp': 1204, 'burp': 970, 'celebrate': 1107, 'office': 4719, 'nation': 4448, 'brother': 928, 'get': 2625, 'reparation': 5477, 'angel': 352, 'delight': 1718, 'let': 3773, 'wonderful': 7269, 'people': 4940, 'beyourself': 717, 'late': 3712, 'night': 4556, 'compliment': 1373, 'behappy': 678, 'terribledebatequestion': 6536, 'give': 2656, 'afternoon': 230, 'twitter': 6858, 'cleverpeople': 1274, 'paraplyene': 4866, 'soupp': 6102, 'read': 5369, 'fun': 2538, 'lighthearte': 3813, 'right': 5543, 'double': 1920, 'cavity': 1096, 'point': 5070, 'play': 5042, 'christmas': 1223, 'music': 4395, 'room': 5618, 'winter': 7243, 'rn': 5568, 'luis': 3945, 'ortiz': 4785, 'duck': 1981, 'ustinov': 6976, 'fight': 2359, 'goldenboyboxe': 2694, 'future': 2551, 'look': 3896, 'box': 854, 'encounter': 2096, 'tribez': 6794, 'castlez': 1086, 'meet': 4130, 'bartolomeo': 613, 'download': 1928, 'game': 2570, 'carolyntopol': 1072, 'ciara': 1233, 'sci': 5743, 'fi': 2349, 'movie': 4354, 'julie': 3539, 'jen': 3432, 'stare': 6205, 'claire': 1250, 'phone': 4986, 'joey': 3466, 'bolt': 827, 'cab': 997, 'honk': 3008, 'lmao': 3867, 'brooke56_56': 925, 'cheerchick': 1172, 'jeep': 3421, 'jeepgirl': 3423, 'idriveajeep': 3131, 'jeepjeep': 3424, 'little': 3848, 'sniffle': 6042, 'end': 2102, 'song': 6082, 'suppose': 6364, 'joyous': 3515, 'rodrigo': 5595, 'duterte': 1996, 'isis': 3333, 'economy': 2025, 'etc': 2172, 'xenostateofmind': 7340, 'yes': 7375, 'nmake': 4584, 'nshe': 4644, 'deserve': 1760, 'happiness': 2850, 'wake': 7072, 'instantly': 3263, 'jpodhoretz': 3519, 'respect': 5499, 'gleeful': 2666, 'amstrado_cpc': 326, 'shittysufanart': 5888, 'single': 5954, 'tear': 6497, 'delete': 1716, 'monster': 4311, 'bring': 910, 'generation': 2608, 'despair': 1767, 'quoteoftheday': 5309, 'if': 3132, 'wild': 7223, 'dailyquote': 1600, 'quote': 5308, 'place': 5028, 'honor': 3009, 'role': 5603, 'hopefully': 3013, 'reason': 5388, 'everyday': 2195, 'noorbazzi14': 4609, 'lowkey': 3932, 'anna': 369, 'lol': 3885, 'hi': 2941, 'atkins': 486, 'favourite': 2319, 'coach': 1304, 'smart': 6015, 'care': 1064, 'redwine': 5413, 'glee': 2665, 'tabstamlyn': 6430, 'lara_hunt1': 3704, 'sure': 6367, 'clean': 1266, 'kindness': 3627, 'weakness': 7126, 'act': 163, 'silly': 5934, '100': 6, 'be': 651, 'forté': 2463, 'chrisbrown': 1212, 'teambreezy': 6490, 'breezy': 885, 'envy': 2143, 'relentless': 5453, 'aim': 254, 'pour': 5131, 'rain': 5327, 'positive': 5111, 'attitude': 505, 'art': 444, 'continually': 1429, 'master': 4074, 'move': 4351, 'weekend': 7146, 'sugar': 6325, 'daddy': 1592, 'replace': 5480, 'niggas': 4555, 'drink': 1956, 'sparkling': 6127, 'demon': 1733, 'modern': 4291, 'family': 2288, 'especially': 2162, 'phil': 4977, 'instagramer': 3261, 'selfie': 5800, 'bestmeselfie': 709, 'me': 4112, 'bestmecameraisgreat': 708, 'emojigrid': 2089, 'likeforlike': 3816, 'girl': 2649, 'boy': 857, 'tattoos': 6471, '6pack': 93, 'author_lb': 514, 'awesome': 538, 'yr': 7401, 'grandson': 2733, 'run': 5650, 'cross': 1532, 'country': 1480, 'simon': 5940, 'whitfield': 7199, '18': 26, 'nmichael': 4587, 'carrick': 1074, 'strike': 6285, 'net': 4500, 'pressure': 5173, 'fanz': 2300, 'mou': 4343, 'ruthwalford95': 5663, 'year': 7366, 'bad': 567, 'event': 2191, 'begin': 676, 'privately': 5195, 'hope': 3012, '1st': 36, 'ditzkoff': 1871, 'metaphor': 4178, 'world': 7284, 'jpod': 3518, 'pronouncing': 5228, 'humor': 3071, 'successful': 6314, 'lip': 3838, 'silence': 5932, 'nd': 4471, 'avoid': 529, 'problem': 5200, 'geometry': 2615, 'hannah': 2844, 'start': 6207, 'ms': 4370, 'canning': 1043, 'pp': 5139, 'whufc_hub': 7208, 'westhamtransfer': 7171, 'thehammer': 6594, 'string': 6286, 'performance': 4950, 'you': 7383, 'shabazz': 5840, 'easy': 2019, 'apologize': 398, 'jeffprobst': 3428, 'jovial': 3509, 'tribalcouncil': 6793, 'different': 1808, 'dark': 1633, 'fellow': 2336, 'simply': 5946, 'survivor': 6381, 'celebration': 1108, 'filthyfrank': 2368, 'vid': 7023, 'die': 1803, 'dumteedum': 1989, 'ian': 3101, 'pavel': 4919, 'charlie': 1153, 'bet': 711, 'rob': 5573, 'cackle': 1001, 'happen': 2848, 'thearcher': 6575, 'manutd': 4029, 'saf': 5681, 'will': 7225, 'tolerate': 6717, 'bs': 932, 'messenger': 4172, 'imagine': 3154, 'teppu': 6529, 'got': 2711, 'animate': 361, 'madhouse': 3977, 'tho': 6640, 'gt': 2781, 'lt': 3936, 'highly': 2948, 'decompose': 1689, 'jk': 3453, 'week': 7144, 'strong': 6289, 'go': 2683, 'cailamarsai': 1006, 'black_ishabc': 770, 'lose': 3908, 'glass': 2664, 'mrbabyboogaloo': 4363, 'town': 6751, 'un': 6891, 'arm': 432, 'lung': 3952, 'freedom': 2489, 'inside': 3250, 'color': 1335, 'count': 1475, 'jawbone': 3404, 'razor': 5362, 'free': 2488, 'sqlbek': 6171, 'liver': 3857, 'symmetry': 6419, 'key': 3602, 'aesthetically': 208, 'pleasing': 5051, 'possible': 5115, 'twin': 6857, 'pistol': 5018, 'deaththekid': 1677, 'bot': 845, 'oii': 4728, 'oiii': 4729, 'louis_tomlinson': 3919, 'nthank': 4651, '16': 24, 'mind': 4228, 'follow': 2434, 'gift': 2642, 'x225': 7329, '884': 104, 'steeeevie': 6228, 'luvvvv': 3957, 'timehop': 6682, 'literally': 3847, 'crack': 1500, 'post': 5117, 'ago': 240, 'byekandace': 993, 'jigaboo': 3448, 'daveweigel': 1645, 'laurel': 3724, 'hearty': 2907, 'handshake': 2839, 'bhavnay': 720, 'not': 4623, 'smooth': 6030, 'thick': 6629, 'texture': 6552, 'iced': 3111, 'coffee': 1314, 'uk': 6880, 'leejarvis10': 3754, 'pal': 4845, 'underlord': 6911, 'cheery': 1177, 'anime': 364, 'feeling': 2332, 'hard': 2861, 'accomplish': 152, 'notice': 4629, 'fu': 2521, 'ke': 3583, '22': 46, 'minute': 4240, 'bestshow4life': 710, 'straight': 6268, 'paradigm': 4862, 'shift': 5878, 'level': 3781, 'teach': 6486, 'greatdismal': 2746, 'bencjacobs': 695, 'inspired': 3258, 'convinced': 1443, 'win': 7231, 'strongman': 6292, 'basset': 622, 'hound': 3035, 'present': 5169, 'brave': 871, 'ydxef': 7363, 'alternate': 299, 'reality': 5379, 'poetryfound': 5069, 'comment': 1354, 'section': 5788, 'poem': 5066, 'thumb': 6657, 'disappoint': 1829, 'thatbritishdude': 6564, 'okay': 4733, 'spiritually': 6154, 'weighty': 7150, 'experience': 2237, 'counterintuitively': 1477, 'recognize': 5400, 'hindsight': 2963, 'levity': 3782, 'daily': 1597, 'grace': 2723, 'thegoatshow': 6592, 'gamegrumps': 2572, 'suck': 6316, 'wormhole': 7289, 'escape': 2159, 'weird': 7151, 'accurate': 155, 'p_dortch7': 4826, 'sacrifice': 5673, 'markdice': 4048, 'agreed': 242, 'nonsense': 4604, 'soros': 6092, 'get_quenched16': 2626, 'attempt': 500, 'western': 7168, 'degenerate': 1711, 'imply': 3170, 'dprk': 1933, 'stoop': 6263, 'devastate': 1781, 'nuclear': 4663, 'retaliation': 5510, 'girlfriend': 2651, 'cook': 1446, 'dinner': 1817, 'spag': 6119, 'blow': 803, 'help': 2923, 'buoyant': 963, 'gen': 2602, 'millenials': 4222, 'joemrusso': 3462, 'birthdayyyyyy': 751, 'miss': 4252, 'show': 5912, 'mind_console': 4229, 'thousand': 6649, 'word': 7276, 'hide': 2943, 'fact': 2266, 'teamfollowback': 6491, '21': 45, 'niv': 4570, 'smell': 6019, 'aroma': 437, 'heart': 2901, 'lifelong': 3805, 'depravity': 1748, 'merriment': 4166, 'dadwroteaporno': 1594, 'kingsplace': 3629, 'instructional': 3267, 'powerpoint': 5138, 'presentation': 5170, 'concerned': 1378, 'uncle': 6902, 'buck': 944, 'unclebuck': 6904, 'push': 5285, 'prescription': 5167, 'pot': 5122, 'prohibitionist': 5219, 'rub': 5642, 'hand': 2837, 'cannabis': 1042, 'slavery': 5991, 'chrisloesch': 1214, 'dloesch': 1885, 'book': 830, 'burning': 968, 'awful': 540, 'guilt': 2789, 'social': 6057, 'sharing': 5861, 'hat': 2873, 'ethandolan': 2176, 'graysondolan': 2743, 'ifiwerepresident': 3133, 'nmy': 4589, 'goal': 2684, 'miserable': 4247, 'co': 1303, 'civil': 1247, 'realization': 5380, 'self': 5799, 'learning': 3749, 'convert': 1440, 'lean': 3745, 'door': 1916, 'open': 4757, 'success': 6313, 'x33': 7330, 'iniesta': 3237, 'idolize': 3130, 'barca': 608, 'jtkantor': 3529, 'organ': 4779, 'kick': 3608, 'sayswhopodcast': 5725, 'break': 878, 'goofiest': 2703, 'mrrobot': 4366, 'gennneral': 2610, 'thanks': 6560, 'natong': 4451, 'duha': 1984, 'survivormillennialsvsgenx': 6382, 'essdotx': 2168, 'forgiving': 2454, 'negro': 4489, 'press': 5172, 'interest': 3281, 'favor': 2317, 'oppressor': 4769, 'reginaltsquirge': 5434, 'add': 177, 'jaunty': 3402, 'bow': 852, 'nor': 4610, 'bell': 688, 'tweet': 6849, 'loser': 3909, 'content': 1423, 'short': 5903, 'npagliaro1': 4640, 'swap': 6394, 'neighborhood': 4491, 'excited': 2215, 'nat': 4445, 'tonight': 6727, 'medium': 4128, 'bb18': 635, 'set': 5826, 'ideal': 3120, 'facing': 2265, 'honestly': 3005, 'karl': 3569, 'menninger': 4154, '2ndhalfwealth': 62, 'nice': 4540, 'whistle': 7197, 'outside': 4801, 'apartment': 394, 'continue': 1430, 'xiankiefer': 7342, 'thelincoln': 6602, 'sprightly': 6167, 'cuz': 1583, 'reinvigorate': 5444, 'harry': 2865, 'potter': 5125, 'series': 5820, 'kid': 3614, 'early': 2012, 'mood': 4319, 'style': 6305, 'zales': 7413, 'stop': 6264, 'shop': 5901, 'store': 6265, 'kinda': 3626, 'wish': 7249, 'mischievous': 4245, 'kiss': 3632, 'playful': 5044, 'mariamveiszadeh': 4040, 'sick': 5923, 'half': 2825, 'tjsotomayor': 6700, 'snow': 6045, 'pig': 5002, 'lmaooo': 3869, 'achieve': 158, 'excite': 2214, 'scare': 5730, 'bob': 814, 'proctor': 5205, 'red': 5407, 'sox': 6115, 'team': 6489, 'equivalent': 2153, 'tiger': 6673, 'woods': 7274, 'heyday': 2938, 'mercy': 4163, 'wanna': 7083, 'matter': 4082, 'peregrinator1': 4946, 'admittedly': 186, 'jedi': 3420, 'dysfunctional': 2005, 'peacekeepers': 4929, 'space': 6117, 'take': 6436, 'picture': 4997, 'awkward': 543, 'nme': 4586, 'nconclusion': 4468, 'pictureday2016': 4998, 'ornot': 4783, 'ipswich': 3315, 'tigers': 6674, 'luck': 3942, 'homecoming': 2994, 'ukulele': 6882, 'bag': 573, 'fall': 2281, 'apart': 393, 'welll': 7157, 'joys': 3516, 'problemsolve': 5201, 'demonstrating': 1734, 'explain': 2239, 'jamesjoyce': 3381, 'ulysses': 6888, 'endearing': 2103, 'yesterday': 7378, 'sept': 5817, '2016': 42, 'instal': 3262, 'stratagem': 6274, 'include': 3191, 'audacity': 508, 'harbour': 2860, 'tower': 6750, 'tenaciously': 6524, 'partydelightsuk': 4881, '5679787': 86, 'dm': 1887, 'party': 4880, 'letdown': 3774, 'patient': 4900, 'affliction': 216, 'faithful': 2275, 'prayer': 5148, 'romans': 5611, '12': 14, 'wahrbear': 7068, 'marinarchy': 4043, 'diam0ndsapph1re': 1798, 'openly': 4760, 'anti': 383, 'science': 5744, 'call': 1013, 'smoking': 6029, 'weed': 7143, 'pull': 5265, 'somebody': 6072, 'perfume': 4952, 'bout': 850, 'melissamccarthy': 4143, 'spy': 6170, 'favorite': 2318, 'actress': 170, 'theboss': 6583, 'bjerkedanielle': 765, 'funnysaying': 2547, 'ninaturner': 4566, 'bernblade': 704, 'lisavikingstad': 3842, 'manchester': 4014, 'united': 6932, 'efl': 2041, 'lostgermain': 3912, 'spar': 6123, 'prince': 5185, 'reach': 5366, 'hilt': 2960, 'icy': 3115, 'eye': 2251, 'aaron': 131, 'mourinho': 4345, 'speak': 6129, 'ref': 5417, 'thenicebot': 6606, 'wsjnordics': 7320, 'mpn': 4358, 'demilovato': 1726, 'sevechamber': 5829, 'apply': 410, 'verify': 7007, 'drake': 1940, 'bcwinechat': 649, 'common': 1358, 'method': 4182, 'bc': 647, 'wine': 7237, 'davuuwart': 1657, 'kermischocolate': 3596, 'upbeat': 6948, 'piece': 5000, 'walk': 7077, 'history': 2973, 'usually': 6978, 'arty': 449, 'docu': 1892, 'type': 6862, 'trace': 6755, 'wrath': 7306, 'friedrich': 2502, 'nietzsche': 4549, 'friedrichnietzsche': 2503, 'recipe': 5396, 'kind': 3625, 'za_buhmaid': 7410, 'sweety': 6405, 'sweet': 6402, 'wondrful': 7271, 'luv': 3955, 'black': 769, '43': 74, 'school': 5740, 'my': 4409, 'wl': 7259, 'lv': 3958, 'fulfilling': 2534, 'peaceful': 4927, 'person': 4960, 'face': 2261, 'hubs': 3057, 'wearetyphoon': 7129, 'kyle': 3670, 'solo': 6066, 'album': 267, 'yo': 7381, 'kyleclark': 3671, 'ur': 6957, 'news': 4514, '9news': 109, 'lolz': 3887, 'ankitaverma45': 367, 'honey5991': 3007, 'karma': 3570, 'cencerne': 1113, 'definitely': 1708, 'siguemeytesigo': 5930, 'snapchat': 6037, 'manuellynch99': 4026, 'venezuela': 7002, 'jessicaz00': 3440, 'zrlondon': 7426, 'ditto': 1870, 'atmosphere': 492, 'philippplein': 4981, 'cheerleader': 1176, 'stunt': 6303, 'londonevents': 3889, 'lane': 3700, 'witness': 7253, 'debut': 1682, 'talent': 6440, 'backbone': 560, 'club': 1291, 'coys': 1493, 'tweet_faver': 6850, 'reaper': 5386, 'story': 6267, 'wiki': 7222, 'joe': 3459, 'quinn': 5306, 'bitch': 754, 'pillow': 5007, 'line': 3832, 'kurt': 3666, 'lovelier': 3925, 'great': 2744, 'mate': 4076, 'send': 5807, 'pic': 4994, 'thankyou': 6561, 'amy': 329, 'artburstltd': 445, 'xxxx': 7349, 'cedricyarbrough': 1104, 'forward': 2464, 'kudo': 3662, 'pilot': 5008, 'speechless_abc': 6142, 'speechless': 6141, 'eve': 2189, 'izzy': 3362, 'paige': 4833, 'sing': 5950, 'jeffbridg': 3427, 'job': 3458, 'mom': 4299, 'dad': 1590, 'heaven': 2909, 'trump': 6815, 'lackey': 3680, 'don': 1903, 'truly': 6814, 'bizarre': 762, 'sight': 5927, 'raygemini': 5361, 'haha': 2814, '40': 72, 'sis': 5960, 'see': 5791, 'mum': 4384, 'bribe': 896, 'parent': 4867, 'giggle': 2644, 'loveet': 3924, 'harry_style': 2866, 'beat': 659, '96': 108, '127': 15, 'wasteful': 7105, 'morning': 4330, 'nlet': 4578, 'enjoy': 2124, 'ndon': 4475, 'worry': 7292, 'skive': 5980, 'freshers2016': 2496, 'nail': 4426, 'sunbed': 6343, 'gym': 2807, 'priority': 5191, 'student': 6299, 'studentnurse': 6300, 'pamper': 4849, 'past': 4887, 'midnight': 4204, 'loud': 3915, 'bang': 593, 'rape': 5340, 'case': 1076, 'edinburgh': 2029, 'nosleep': 4621, 'matildaswish': 4078, 'matilda': 4077, 'chair': 1129, 'provide': 5249, 'access': 147, 'paki': 4842, 'applaud': 407, 'sharif': 5860, 'speech': 6140, 'wonder': 7268, 'understand': 6913, 'said': 5685, 'nthey': 4655, 'token': 6713, 'glasgowgirls': 2663, 'uproarious': 6954, 'important': 3171, 'uplifting': 6952, 'stratfordeast': 6275, 'wonderstruck': 7270, 'blush': 809, 'valeriebot': 6984, 'manage': 4010, 'pink': 5014, 'lipstick': 3840, 'brand': 868, 'white': 7198, 'dress': 1953, 'izn': 3361, 'hell': 2921, 'u20': 6869, 'rugby': 5646, 'rooster': 5621, 'nrl': 4642, 'roosters': 5622, 'dee5479': 1693, 'electro': 2056, 'pure': 5278, 'enjoyment': 2126, 'exhilarating': 2225, 'captivating': 1055, 'poetic': 5067, 'raw': 5357, 'exciting': 2217, 'sharpen': 5862, 'pencil': 4938, '1999': 32, 'travelanswerman': 6780, 'possibility': 5114, 'endless': 2104, 'becca': 665, 'unplug': 6938, 'matrix': 4079, 'stay': 6218, 'salty': 5697, 'surfing': 6371, 'sunset': 6352, 'aloha': 290, 'grateful': 2739, 'write': 7312, 'dominichussein': 1901, 'pitch': 5020, 'pitchonfox': 5021, 'global_tv': 2672, '72': 96, 'collegekill': 1334, 'banger': 594, 'sit': 5963, '2013': 41, 'doing': 1899, 'alia': 275, 'kzfqr': 3674, 'beautyfulli_ami': 664, 'sg': 5837, 'sam': 5700, 'jasperino': 3400, 'session': 5825, 'class': 1256, 'cancel': 1036, 'funeral': 2543, 'appropriate': 414, 'cscheiwiller': 1546, 'ready': 5374, 'body': 816, 'unreal': 6940, 'whoisthiscaleb': 7202, 'leap': 3746, 'foot': 2440, 'dramatically': 1943, 'plant': 5035, 'seat': 5783, 'tune': 6837, 'grind': 2763, 'gear': 2599, 'gideon': 2639, 'skinny': 5977, 'improve': 3179, 'relationship': 5449, 'journey': 3508, 'romance': 5609, 'metaphysic': 4179, 'htt': 3055, 'idea': 3119, 'collect': 1332, 'relevant': 5454, 'socialmedia': 6058, 'automatic': 518, 'pls': 5057, 'worldsapp': 7287, 'appsworld': 416, 'danielfeuer': 1625, 'merci': 4162, 'usernameregenerated': 6975, 'sign': 5928, 'copy': 1456, 'joe_sugg': 3460, 'juggle': 3537, 'ball': 585, 'it': 3346, 'funny': 2545, 'pun': 5270, 'punny': 5276, 'change': 1138, '29': 57, 'interview': 3291, 'death': 1676, 'sister': 5962, 'crush': 1540, 'fictional': 2353, 'animated': 362, 'character': 1147, 'instead': 3264, 'real': 5376, 'missrbberry': 4262, 'blainehale': 777, 'kurtstilinski': 3667, 'beaconscott11': 652, 'sstilinski_24': 6185, 'cider': 1235, 'holds': 2988, 'german': 2621, 'driverminnie': 1961, 'joyannreid': 3512, 'totally': 6741, 'piss': 5017, 'walterdonovanss': 7081, 'mrb_rides_again': 4362, 'evil': 2202, 'rich': 5534, 'crony': 1531, 'intelligence': 3275, 'gov': 2719, 'academia': 144, 'fodder': 2429, 'rheafraserx': 5532, 'awfy': 541, 'disallow': 1828, 'proverb': 5248, '27': 55, 'ointment': 4730, 'doth': 1919, 'sweetness': 6404, 'counsel': 1474, 'truthfmdawnbreak': 6821, 'second': 5784, 'season': 5781, 'function': 2539, 'regard': 5430, 'camshaft': 1030, 'company': 1363, 'cqhshjsi': 1499, 'close': 1284, 'revision': 5522, 'direction': 1821, 'endlesspossibilitie': 2105, 'amwriting': 328, 'countryside': 1482, 'pi6ie': 4993, 'join': 3482, 'cakeclubhour': 1007, 'pm': 5063, 'bizhour': 763, 'barbarasgarden': 603, 'rejoicing': 5447, 'opening': 4759, 'mail': 3991, 'internationaldayofpeace': 3285, 'division': 1878, 'yeldarbkere': 7370, 'souls': 6098, 'fan': 2290, 'b4caferacer': 554, 'cloud': 1286, 'elate': 2048, 'jmomahony': 3455, 'support': 6361, 'ahh': 245, 'nheart': 4533, 'nso': 4645, 'nmore': 4588, 'number': 4666, 'nof': 4596, 'star': 6202, 'nkindly': 4576, 'nharry': 4531, '90': 106, 'jackevans711': 3366, 'whiney': 7192, 'jerkass': 3436, 'heel': 2916, 'iamjericho': 3099, 'wcw': 7120, 'luchaunderground': 3939, 'proud': 5244, 'finish': 2377, 'wetter': 7173, 'dry': 1974, 'tip': 6691, 'val': 6983, 'guffaw': 2788, 'alicereidy': 276, 'italian': 3347, 'elicit': 2060, 'infinite': 3225, 'wave': 7113, 'unconceivable': 6906, 'bother': 846, 'poor': 5095, 'nwhat': 4674, 'unable': 6893, 'quiet': 5305, 'btw': 939, 'thy': 6663, 'midst': 4205, 'thee': 6588, 'mighty': 4208, 'save': 5720, 'joy': 3511, 'nzephaniah': 4687, '17': 25, 'kjv': 3636, 'airingoutmyscro': 256, 'we': 7123, 'll': 3865, 'na': 4418, 'wink': 7239, 'pass': 4882, 'small': 6013, 'omg': 4738, 'nol': 4600, 'hug': 3061, 'crazymac17': 1508, 'squishyjiminie': 6178, 'aww': 546, 'message': 4170, 'atrumping': 494, 'hahahahahaha': 2818, 'gosh': 2707, 'racism': 5315, 'alive': 279, 'choice': 1206, 'aldub62ndweeksary': 270, 'car': 1058, 'wesszzz': 7165, 'watching': 7108, 'food': 2438, 'andrewzimmern': 349, 'devon': 1790, 'ave': 526, 'eat': 2021, 'nihari': 4560, 'af': 209, 'paul': 4910, 'glorious': 2677, 'forgot': 2455, 'boxer': 855, 'currently': 1571, 'commando': 1353, 'starbucks': 6203, 'liberated': 3794, 'angelina': 353, 'jolie': 3486, 'peaceispossible': 4928, 'ondoguber': 4743, 'nov26': 4633, 'jciondokingdom': 3414, 'cuttie_dove': 1581, 'lekibeat': 3762, 'brennan': 890, 'pulpit': 5266, 'park': 4870, 'baptist': 599, 'church': 1230, 'surrey': 6378, 'midweek': 4207, 'service': 5824, 'vernon': 7010, 'welcome': 7154, 'nephew': 4494, 'bellario': 690, 'nthere': 4654, 'thou': 6644, 'interrupt': 3289, 'st': 6186, 'luke': 3946, '14': 20, 'nhe': 4532, 'birth': 749, 'bravo': 872, 'seangrandillo': 5776, 'beg': 675, 'lbc_charlotte': 3734, 'wall': 7078, 'ya': 7351, 'talkin': 6444, 'shit': 5884, 'chuckin': 1228, 'ma': 3964, 'deuce': 1780, 'kanye': 3564, 'brightonchoir': 907, 'mjparanzino': 4275, 'enthusiastic': 2135, 'bunch': 961, 'jesus': 3443, 'snuggle': 6047, 'embrace': 2078, 'rest': 5505, 'sweetembrace': 6403, 'mrfisher81': 4365, '_jusdee': 121, 'djolder': 1882, 'therealpeela': 6615, 'video': 7024, 'lucina': 3941, 'fantastic': 2297, 'foundation': 2466, 'goosebump': 2704, 'hrs': 3051, '_bluecouture': 115, 'realise': 5378, 'regardless': 5431, 'use': 6971, '1barkcom': 33, 'entertaining': 2134, 'jay_roseee': 3407, 'tiller': 6676, 'scar': 5729, 'realize': 5381, 'some': 6071, 'lil': 3819, 'caramel': 1059, 'lover': 3928, 'pale': 4846, 'green': 2750, 'light': 3811, 'hover': 3041, 'high': 2945, 'moon': 4320, 'shine': 5880, 'alohajonathan': 291, 'atlantafx': 490, 'clip': 1281, 'jail': 3373, 'scene': 5735, 'sexuality': 5834, 'greggdoyelstar': 2752, 'certain': 1120, 'angry': 356, 'protest': 5242, 'national': 4449, 'anthem': 381, 'flag': 2395, 'cover': 1488, 'amendment': 314, 'buzzinnnnnn': 989, 'ryan': 5666, 'murphy': 4391, 'create': 1513, 'ahs': 249, 'lady': 3684, 'eyelash': 2253, 'verizon': 7009, 'status': 6217, 'facebook': 2262, 'opinion': 4765, 'hemmings': 2925, 'nif': 4550, 'flower': 2420, 'garden': 2578, 'ni': 4538, 'x16': 7328, '092': 4, 'elliot_eastwick': 2067, 'rapper': 5343, 'kip': 3630, 'occasionalgod': 4702, 'horror': 3023, 'popular': 5101, 'discomfort': 1834, 'enjoyable': 2125, 'true': 6812, 'render': 5471, 'pleasure': 5052, 'francoise': 2478, 'de': 1668, 'motteville': 4342, 'ryuredwings2': 5668, 'discover': 1838, 'gif': 2641, 'update': 6949, 'imessage': 3159, 'evening': 2190, 'forget': 2451, 'robinhoodhour': 5582, 'bizitalk': 764, 'southyorkshire': 6113, 'mansfieldhour': 4024, 'sheffieldhour': 5871, 'nottshour': 4632, 'ballon': 587, 'firework': 2383, 'text': 6551, 'amaze': 307, 'wednesday': 7140, 'visit': 7044, 'inmate': 3244, 'arkham': 431, 'deliver': 1719, 'fruit': 2514, 'basket': 618, 'bouquet': 849, 'enhanced': 2121, 'interrogation': 3288, '7we4k': 100, 'lordderply': 3906, 'yugioh': 7407, 'bsnl': 935, 'nnow': 4591, 'bb': 634, 'speed': 6143, 'nbut': 4464, 'lest': 3771, 'weather': 7131, 'damn': 1610, 'sophierblake': 6088, 'skyspeedway': 5986, 'kelvin_tatum': 3593, 'chrislouisiwsc': 1215, 'kelvin': 3592, 'chris': 1211, 'blood': 801, 'mucus': 4378, 'choke': 1208, 'swallow': 6391, 'wrong': 7317, 'answer': 380, 'movement': 4353, 'persuasivefuck': 4966, 'ios10': 3311, 'app': 400, 'educate': 2035, 'child': 1191, 'grow': 2774, 'value': 6988, 'price': 5179, 'strictlysimilak': 6284, 'english': 2119, 'farmhouse': 2302, 'cocktail': 1308, 'johngdryden': 3475, 'gud': 2785, 'sir': 5958, 'maureenkamash': 4092, 'question': 5301, 'slowly': 6009, 'traditionalist': 6759, 'bore': 837, 'rule': 5648, 'ignore': 3137, 'lilymacintyre': 3825, 'soul': 6097, 'ff': 2347, 'manihaaamir': 4020, 'adrence': 193, 'dance': 1616, 'bed': 666, 'hyp': 3092, 'letsdance': 3778, 'dirtydancinginthemoonlight': 1825, 'hyper': 3094, 'nawaz': 4456, 'adresse': 194, 'uno': 6937, 'produce': 5206, 'kashmire': 3573, 'pak': 4840, 'wel': 7153, 'demilterization': 1727, 'talkative': 6443, 'able': 137, 'mile': 4220, 'nflonfox': 4521, 'thedoctorcarson': 6587, 'foxsport': 2471, 'bomb': 828, 'mix': 4268, 'stuff': 6301, 'nerdist': 4495, 'cool': 1450, 'stephenbyrne86': 6239, 'nhlstorenyc': 4537, 'teamna_wch': 6494, 'hc_men': 2891, 'steenfox': 6231, 'exact': 2207, 'akon': 261, 'chuckle': 1229, 'dutch': 1995, 'driver': 1960, 'theory': 6610, 'quit': 5307, 'driving': 1962, 'transpo': 6775, 'option': 4774, 'chiropractor': 1203, 'swear': 6396, 'ass': 469, 'tf': 6553, 'broke': 921, 'boys': 858, 'tryna': 6826, 'gf': 2632, 'fuckin': 2527, 'b4': 553, 'smack': 6011, 'bitchass': 755, '2be': 59, '1xfly': 37, 'otherkinok': 4788, 'paradisoadam': 4863, 'expect': 2233, 'dublinmarathon': 1979, 'oct': 4706, '30th': 67, 'mel': 4137, 'sue': 6320, 'stephaliciousd': 6236, '10': 5, 'fat': 2306, 'useless': 6973, 'maybe': 4096, 'amirite': 321, 'screamqueen': 5764, '2nd': 61, 'episode': 2149, 'twice': 6855, 'plan': 5033, 'gratitude': 2740, 'david': 1646, 'rast': 5349, 'obfuscate': 4692, 'magazine': 3982, 'passage': 4883, 'unite': 6931, 'order': 4777, 'thine': 6630, 'conjunction': 1402, 'treat': 6785, 'quotient': 5312, 'sufficiently': 6324, 'leaqiwy': 3747, 'coffeeking12': 1315, 'jsavite': 3523, 'inject': 3239, 'coke': 1320, 'obviously': 4699, 'idc': 3118, 'predict': 5156, '2020': 43, 'term': 6532, 'nit': 4569, 'managers': 4013, 'administrators': 184, 'lil_powwow': 3820, 'jweiler0528': 3556, 'pummel': 5268, 'jauntily': 3401, 'utterly': 6980, 'sidedly': 5925, 'fast': 2305, 'cherie_fitz': 1184, 'extremely': 2249, 'tweetermeyer': 6851, 'version': 7012, 'stock': 6258, 'list': 3843, 'living': 3860, 'editing': 2031, 'fit': 2387, 'law': 3728, 'productivityatitsfin': 5210, 'alooftroye': 293, 'davidplotz': 1651, 'sort': 6094, 'cynicism': 1585, 'branch': 867, 'sunday': 6344, '25': 51, 'ironman': 3324, '70': 94, 'downtown': 1931, 'participant': 4875, 'millieetylerx': 4223, 'reflect': 5421, 'reginald': 5433, 'denny': 1737, 'charlotte': 1155, 'gun': 2796, 'lobby': 3875, '_aiseela': 113, 'gladness': 2659, 'renew': 5472, 'singing': 5953, 'zeph': 7417, 'amystery': 333, 'livelife': 3853, 'humbleness': 3069, 'itriborg': 3351, 'vigorous': 7027, 'fine': 2374, 'hestia': 2936, 'display': 1855, 'childlike': 1195, 'lovely': 3926, 'have': 2884, 'convos': 1445, 'cute': 1579, 'marilynmonroe': 4042, 'keepsmiling': 3585, 'bird': 748, 'cow': 1490, 'moo': 4317, 'sound': 6099, 'nature': 4453, 'ensure': 2131, 'pain': 4835, 'hip': 2965, 'squat': 6173, 'youthfulness': 7397, 'spry': 6168, 'leon': 3767, 'letter': 3779, 'super': 6354, 'mario': 4045, 'galaxy': 2565, 'spell': 6145, 'mr': 4361, 'gay': 2593, 'montalvo': 4313, 'jaxster3': 3406, 'bitches': 756, 'nick_offerman': 4542, 'meganomullally': 4134, 'summerof69tour2016': 6338, 'mcharlesworth7': 4104, 'hair': 2822, 'salon': 5694, 've': 6999, 'shawarma': 5865, 'stomach': 6260, 'prison': 5193, 'entice': 2136, 'beauty': 663, 'truth': 6819, 'allow': 286, 'amen': 313, 'viquintis': 7038, 'plop': 5056, 'discord': 1836, 'lizbon': 3863, 'anomalily': 377, 'gerikkransky': 2620, 'sorry': 6093, 'inappropriate': 3183, 'combine': 1340, 'remind': 5465, 'delicious': 1717, 'british': 911, 'dish': 1847, 'menus': 4159, 'beerclub': 673, 'y2jake85': 7350, 'yessir': 7377, 'sweden': 6400, 'lundqvist': 3951, 'collab': 1328, 'rapping': 5344, 'prolly': 5221, 'fire': 2382, 'fieldyates': 2356, 'matthewberrytmr': 4086, 'stephania_espn': 6237, 'mikeclaynfl': 4213, 'frankcaliendo': 2481, 'goddamn': 2688, 'celebrity': 1109, 'draft': 1936, 'classic': 1257, 'jtkola': 3530, 'danmericacnn': 1627, 'astros': 481, 'attendance': 502, 'greatday': 2745, 'path': 4895, 'richness': 5536, 'extend': 2244, 'widow': 7215, 'reinervshunter': 5443, 'staystrong': 6221, 'yourebeautiful': 7391, 'naivety': 4427, 'blind': 792, 'stevestratford9': 6246, 'paultowheyjr': 4916, 'classicdrwho': 1259, 'bbc': 637, 'bbcdoctorwho': 638, 'imo': 3166, 'companion': 1362, 'monsters': 4312, 'communitysleepcoach': 1360, 'narcoleptic': 4438, 'puppy': 5277, 'human': 3064, 'position': 5110, 'seek': 5793, 'th': 6558, 'pizza': 5026, 'performers_coll': 4951, 'crew': 1520, 'gorgeous': 2706, 'newbie': 4510, 'solange': 6064, 'fave': 2316, 'irenelove83': 3320, 'here': 2930, 'brock': 919, 'sable': 5671, 'tag': 6432, 'mrs': 4367, 'awol': 545, 'rise': 5554, 'eternal': 2173, 'aico': 252, 'immolation': 3163, 'succeed': 6312, 'mother': 4338, 'akt': 262, 'again': 231, 'philippian': 4980, 'teamgrout': 6493, 'congress': 1401, 'attend': 501, 'midterm': 4206, 'liveliness': 3854, 'differently': 1809, 'constraint': 1417, 'qmiv': 5293, 'batman': 627, 'animation': 363, 'icyemmax': 3116, 'sip': 5957, 'earth': 2015, 'shattering': 5864, 'sex': 5832, 'darn': 1638, 'lead': 3739, 'demise': 1728, 'li': 3787, 'zerobot': 7419, 'warm': 7090, 'universal': 6933, 'language': 3702, 'william': 7226, 'arthur': 446, 'ward': 7088, 'confident': 1391, 'college': 1333, 'rep': 5476, 'debate': 1679, 'evolution': 2203, 'wenniss': 7163, 'north': 4616, 'okashohime': 4732, 'return': 5514, 'focus': 2428, 'pastel': 4888, 'haired': 2824, 'wawa': 7116, 'tooooo': 6735, 'squeal': 6174, 'raise': 5328, 'eyebrow': 2252, 'headfirst_dom': 2895, 'hoe': 2984, 'special': 6133, 'sardesairajdeep': 5713, 'narendramodi': 4440, 'abt': 143, 'dvlpt': 1998, 'nything': 4684, 'dat': 1641, 'modi': 4294, 'the': 6569, 'cost': 1472, 'jstor': 3526, 'lingua': 3834, 'obscura': 4696, 'article': 447, 'reflection': 5422, 'ksudsm': 3661, 'ksu': 3660, 'recruiter': 5405, 'instructor': 3268, 'tumble': 6835, 'gradschool': 2726, 'johncrookshanks': 3474, 'elizabeth': 2065, 'smith': 6025, 'travel': 6779, 'taurus': 6474, 'female': 2339, 'jewel': 3444, 'glow': 2679, 'moonlight': 4321, 'jimrichmoriarty': 3451, 'yell': 7371, 'surprise': 6374, 'surpriiise': 6373, 'wicked': 7214, 'grin': 2762, 'coworker': 1492, 'workplace': 7282, 'jade': 3370, 'xavierdleau': 7332, 'lochte': 3878, 'howcaniapply': 3043, 'radioscarboro': 5320, 'lethbridgecity': 3777, 'on': 4741, 'offline': 4722, 'beepbeep': 671, 'ginger_naylor': 2646, 'connie': 1403, 'hey': 2937, 'fear': 2323, 'bottle': 847, 'collapse': 1329, 'brianabanksxoxo': 894, 'nibble': 4539, 'toystoriesint': 6754, 'fab': 2260, 'screen': 5765, 'can': 1031, 'evolve': 2204, 'toy': 6753, 'lunatic': 3949, 'asylum': 482, 'flourish': 2419, 'mindfulness': 4231, 'zen': 7416, 'warrior': 7096, '_wednesdaychild': 126, 'pakallman': 4841, 'link': 3836, 'unintentional': 6929, 'mistersalesman': 4267, 'thinkpostsdaily': 6634, 'necessary': 4479, 'sometime': 6078, 'wildrovertour': 7224, 'website': 7136, 'hassle': 2872, 'iongroadhome': 3309, 'eleanor_bink': 2052, 'blake': 780, 'reynolds': 5529, 'bless': 788, 'beaut': 661, 'couple': 1483, 'macengelprof': 3967, 'theater': 6577, 'serve': 5822, 'thehulk': 6596, 'melissa': 4142, 'benoist': 701, 'grant': 2735, 'gustin': 2802, 'musical': 4396, 'crossover': 1535, 'origin': 4780, 'arrowverse': 442, 'readanerd': 5370, 'chuck': 1227, 'barberceleste': 606, 'insta': 3259, 'propensity': 5230, 'large': 3706, 'determine': 1778, 'offensive': 4717, 'ratio': 5352, 'thought': 6646, 'pochettino': 5064, 'complimentary': 1374, 'attention': 503, 'turn': 6840, 'middlesbrough': 4202, 'thfc': 6627, 'bbclondonsport': 639, 'incredible': 3196, 'pakistan': 4844, 'victim': 7020, 'terrorism': 6541, 'development': 1783, 'control': 1434, 'comforting': 1347, 'jubilant': 3531, 'passionate': 4886, 'breezyweeke': 886, 'snap': 6036, 'msleamichele': 4374, 'doubt': 1921, 'medicine': 4124, 'hurt': 3083, 'vile': 7028, 'scum': 5769, 'inhuman': 3236, 'knocks': 3644, 'struggle': 6296, 'equally': 2151, 'action': 165, 'rollerblade': 5606, 'goes': 2689, 'skate': 5972, 'protester': 5243, 'wear': 7128, 'profitable': 5215, 'fx': 2553, 'money': 4305, 'manager': 4012, 'client': 1276, 'profit': 5214, 'vbadawey': 6997, 'choose': 1210, 'diversity': 1876, 'justin': 3548, 'sunniness': 6349, 'msdhoni': 4371, 'dhoni': 1796, 'bcoz': 648, 'calmness': 1018, 'finisher': 2378, 'miltirian': 4225, 'husband': 3086, 'humanbeing': 3065, 'piersgough': 5001, 'thoroughly': 6643, 'imaginative': 3153, 'developers': 1782, 'sager': 5684, 'islingtonsq': 3338, 'sophtulig': 6089, 'personally': 4963, 'prefer': 5158, 'finally': 2371, 'brace': 861, 'outlanderhome': 4797, 'film': 2365, 'tobiasmenzies': 6707, 'beastfiretimdog': 658, 'gaming': 2573, 'site': 5964, 'ps2': 5255, '360': 70, 'vitriolic': 7048, 'america': 315, 'goat': 2685, 'urclassless': 6959, 'yawn': 7360, 'actor': 168, 'drug': 1971, 'overdose': 4808, 'highlight': 2946, 'practice': 5144, 'compassion': 1365, 'dalai': 1603, 'lama': 3689, 'menglishmusic': 4153, 'brilliant': 909, 'quickly': 5304, 'sheet': 5870, 'payet': 4924, 'zaza': 7415, 'photograph': 4988, 'secret': 5785, 'impractical': 3175, 'jokers': 3485, 'practically': 5143, 'genius': 2609, 'bqquinn': 860, 'good4thesoul': 2698, 'impracticaljoker': 3176, 'bingewatche': 746, 'ilofitt': 3147, 'spiritual': 6153, 'mental': 4155, 'physical': 4990, 'facet': 2263, 'fitlife': 2388, 'somong_mgmt': 6080, 'bust': 978, 'elite': 2063, 'dc': 1664, 'inner': 3245, 'cities': 1242, 'rebuild': 5391, 'cont2': 1420, 'pixelmonsteryt': 5025, 'teamge0': 6492, 'izedeptic': 3360, 'ztumtum': 7427, 'crimtidetv': 1524, 'ltgrandslam': 3937, 'slinkercorn': 6004, 'bahahahaha': 574, 'dean': 1674, 'george': 2617, 'patton': 4909, 'sowerash007': 6114, 'chicken': 1190, 'noodle': 4606, 'soup': 6101, 'woah': 7262, 'overtime': 4813, 'mackinnon': 3972, 'wow': 7302, 'wch2016': 7119, 'irony': 3325, 'taylor': 6476, 'lautner': 3727, 'cold': 1322, 'pawpaw': 4922, 'ny': 4677, 'webcast': 7134, 'missing': 4256, 'bway': 991, 'gershwin': 2624, 'struck': 6295, 'nblushe': 4462, 'annoying': 375, 'weekly': 7147, 'choir': 1207, 'kwoir': 3668, 'theartworksuk': 6576, 'musiclondon': 4399, 'crossfit': 1534, 'houston': 3039, 'la': 3675, 'homefolk': 2995, 'propriety': 5236, 'regime': 5432, 'ajafue': 258, 'ear': 2010, 'ruth': 5662, 'hubby': 3056, 'cashcow': 1079, 'sunriseon7': 6351, 'inglorious': 3234, 'distinguished': 1864, 'auction': 507, 'joviality': 3510, 'touch': 6742, 'vawyzad': 6996, 'curve': 1574, 'friday': 2500, 'sooooo': 6085, 'bulldogslway': 955, 'babylonian': 558, 'convince': 1442, 'killgrave': 3620, 'literal': 3846, 'nightmare': 4559, 'bratzhead': 870, 'llnp': 3866, 'jaredwyand': 3396, 'expression': 2243, 'racist': 5316, 'soboleskih': 6054, 'homoaesthetic': 3002, 'yesyesyes': 7379, 'jd': 3415, 'cahracter': 1005, 'similar': 5937, 'blaine': 776, 'ability': 136, 'tough': 6745, 'dayveesutton': 1661, 'pumpkin': 5269, 'to': 6703, 'enrique': 2129, 'sub': 6307, 'busquet': 977, 'vincent': 7031, 'hattrick': 2880, 'summerof69': 6337, 'belly': 692, 'butt': 981, 'jape': 3394, 'marcorubio': 4033, 'mention': 4158, 'aged': 234, 'daughter': 1644, 'occasion': 4701, 'trepidation': 6791, 'spursofficial': 6169, 'contract': 1431, 'extension': 2245, 'meogysdailyvocabenhancment': 4160, 'elation': 2050, 'quality': 5296, 'state': 6211, 'pride': 5181, 'yeg': 7368, 'motivation': 4341, 'entrepreneur': 2141, 'crazace76': 1506, 'pixel': 5024, 'appreciate': 411, 'nuse': 4667, 'theirs': 6598, 'shawnstockman': 5867, 'frighteningly': 2508, 'apple': 408, 'disgrace': 1843, 'freshman': 2497, 'pre': 5152, 'jmrescue': 3456, 'horse': 3026, 'equestrianhour': 2152, 'shorty': 5905, 'wavy': 7115, 'daviistuart': 1654, 'philrosenthal': 4984, 'ihwph': 3140, 'nyou': 4680, 'prospect': 5239, 'blast': 783, 'playing': 5045, 'testimony': 6547, 'pastor': 4889, 'jeremy': 3435, 'house': 3037, 'fellowship': 2337, 'praise': 5145, 'gospel': 2708, 'coffey1617': 1316, 'dick': 1801, 'recently': 5394, 'learn': 3748, 'retweet': 5515, 'teasing': 6499, 'flirt': 2416, 'xdresser': 7339, 'roleplayer': 5604, 'confession': 1390, 'underdeskloser': 6908, 'beingbrilliant': 682, 'johnmurray': 3478, 'genuinely': 2614, 'wobble': 7263, 'mywrldsbl': 4415, 'wolf': 7264, 'hihi': 2949, 'peoplelikemebecause': 4941, 'wit': 7250, 'personality': 4962, 'middleeasteye': 4201, 'peace': 4926, 'search': 5779, 'announce': 371, 'chrissyteigen': 1218, 'nicolerichie': 4548, 'adopt': 187, 'thursday': 6661, 'killerinasuit': 3619, 'getting': 2631, 'ban': 591, 'lurk': 3953, 'corner': 1461, 'underneath': 6912, 'sofa': 6061, 'eyepatch': 2254, 'erinandrews': 2156, 'dwts': 2001, 'raiders': 5325, 'oakland': 4690, 'kcbsnews': 3581, 'nfl': 4519, 'lott': 3914, 'schaaf': 5738, 'stadium': 6189, 'epicurus': 2148, 'dependent': 1746, 'morrow': 4335, 'bop': 835, 'bump': 960, 'actual': 171, 'tasted': 6466, 'cooked': 1447, 'taste': 6465, 'safe': 5682, 'ingest': 3232, 'gothictana': 2716, 'deviant': 1786, 'enigmatic': 2122, 'bellboy': 691, 'correct': 1467, 'ring': 5548, 'iwldpe': 3358, 'nadyaginsburg': 4422, 'unfailingly': 6918, 'incredibly': 3197, 'maker': 3998, 'negative': 4487, 'anxietyrelief': 387, 'openminde': 4761, 'nerve': 4496, 'settle': 5828, 'aflcatsswan': 222, 'proudlysydney': 5246, 'goswans': 2710, 'sydneyswans': 6417, 'swanssupport': 6393, 'brad': 862, 'pitt': 5022, 'trashy': 6778, 'modicum': 4295, 'lame': 3690, 'political': 5083, 'vs': 7062, 'lfc': 3783, 'west': 7166, 'ham': 2832, 'chelsea': 1180, 'council': 1473, 'ice': 3110, 'warmth': 7091, 'melt': 4145, 'taylorlautner': 6477, 'twilight': 6856, 'catch': 1090, 'adrian_ver': 197, 'basic': 616, 'charm': 1158, 'darren': 1639, 'deepbreathe': 1696, 'peep': 4935, 'bullskitcomedy': 958, 'fundraiser': 2542, 'fri': 2499, 'thescottblock': 6619, 'pie': 4999, 'faultlessfacade': 2312, 'she': 5869, 'response': 5501, 'perceive': 4942, 'force': 2445, 'tone': 6723, 'slide': 5999, 'onto': 4754, 'holiday': 2989, 'ghastinoir': 2636, 'brigetjonesbaby': 904, 't_newhouse13': 6428, 'granny': 2734, 'mon': 4303, 'celtic': 1111, 'soak': 6049, 'wee': 7142, 'ffs': 2348, 'drop': 1967, 'girlandlurchers': 2650, 'yep': 7374, 'drool': 1965, 'enews': 2112, 'simmy_hanley': 5939, 'schrise': 5742, 'nearly': 4478, 'ps': 5254, 'someonesanidiot': 6074, 'sean10lynagh': 5775, 'lawsuit': 3730, 'nascar': 4443, 'beer': 672, '07': 1, 'accommodate': 151, 'loss': 3910, 'veryeloise': 7013, 'gunna': 2797, 'decide': 1686, 'lea': 3738, 'tour': 6746, 'clear': 1268, 'stream': 6276, 'of': 4712, 'also': 297, 'tht': 6656, 'system': 6425, 'ure': 6960, 'healthy': 2899, 'form': 2458, 'worship': 7295, 'warfare': 7089, 'embitteredicon': 2076, 'steve': 6245, 'murmur': 4390, 'shirt': 5883, 'hashtag': 2871, 'brag': 864, 'interested': 3282, 'badg': 568, 'reclaim': 5398, 'cluboftheyear': 1292, 'ari': 427, 'pov': 5134, 'kx4': 3669, 'ensue': 2130, 'renown': 5474, 'expectation': 2234, 'solution': 6068, 'principle': 5188, 'hsnhzmjsc': 3053, 'beings': 683, 'xgame': 7341, 'plenty': 5054, 'cheddar': 1169, 'cheese': 1178, 'howl': 3045, 'bezza': 718, 'bakeoff': 579, 'yap_yip': 7357, 'uncertainty': 6900, 'halsey': 2831, 'tease': 6498, 'smirk': 6024, 'scottlocker220': 5758, 'notification': 4630, 'nick': 4541, '715d1': 95, 'steam': 6227, 'port': 5107, 'vice': 7019, 'billie': 740, 'jean': 3419, 'soundtrack': 6100, 'decision': 1687, 'promis': 5223, 'glacierqxeen': 2657, 'whoo': 7205, 'greet': 2751, 'thenthapple': 6608, 'cause': 1093, 'situation': 5966, 'boggle': 818, 'mrstarax': 4369, 'plategotate': 5039, 'dj_musicologist': 1881, 'disney': 1852, '1994': 31, 'thelionke': 6603, 'influence': 3228, 'williamshakespeare': 7227, 'hamlet': 2833, 'eltonjohn': 2070, 'jackhoward': 3367, 'squirrel': 6177, 'core': 1458, 'plum': 5059, 'julwhite': 3540, 'kaijinboyfriend': 3560, 'while': 7188, 'technology': 6503, 'wise': 7248, 'combination': 1339, 'indermethil': 3201, 'cb': 1098, 'marcbartra': 4032, 'mebbe': 4119, 'priny_baby': 5189, 'happppy': 2853, 'happppyyyyyy': 2854, 'happppppyyyyy': 2852, 'haaapppyyyy': 2810, 'chapter22': 1146, 'bdaygirl': 650, 'carras16': 1073, 'mbmclisse': 4098, 'sanatana': 5704, 'lopez': 3904, 'entire': 2137, 'russian': 5660, 'test': 6546, 'meldonium': 4141, 'americans': 318, 'cowboystwitter': 1491, 'folk': 2433, 'review': 5521, 'andiymouse': 344, 'jordana_brown': 3497, 'f1ghtcamp': 2259, 'squad': 6172, 'adult': 198, 'remain': 5459, 'amidst': 320, 'joke': 3484, 'particularly': 4878, 'richardegrant': 5535, 'ealingcomedies': 2008, 'infectious': 3222, 'survive': 6380, 'spin': 6150, 'stair': 6193, 'jellyleg': 3431, 'ot': 4787, 'bridesmaid': 898, 'carnal': 1068, 'addition': 180, 'separate': 5815, 'rfpbax': 5530, 'wuffinart': 7323, 'heartfelt': 2906, 'condolence': 1388, 'root': 5623, 'canal': 1035, 'therapy': 6613, 'reputation': 5487, 'comfortable': 1346, 'procedure': 5202, 'dental': 1739, 'eflcup': 2042, 'powerful': 5137, 'shitty': 5887, 'romcom': 5612, 'outta': 4803, 'planet': 5034, 'uranus': 6958, 'power': 5135, 'all': 280, 'vixx': 7049, 'lethalweapon': 3775, 'suicidal': 6328, 'vet': 7015, 'ptsd': 5262, 'xmaseveevil1': 7343, 'msm': 4375, 'fool': 2439, 'hawkings': 2888, 'corridor': 1470, 'lakeline': 3687, 'autocorrect': 516, 'dehydrated': 1713, 'exhausted': 2223, 'stress': 6281, 'whu': 7207, 'bill': 737, 'nthat': 4652, 'least': 3750, 'afc': 210, 'swim': 6408, 'denser': 1738, 'swimming': 6410, 'scary': 5733, 'semore': 5805, 'keepthetradition': 3587, 'senpai_vanilla': 5808, 'height': 2920, 'swan': 6392, 'likely': 3817, 'attack': 498, 'nhlnycsweepstake': 4536, 'canada': 1032, 'sports': 6163, 'seed': 5792, 'johnson': 3480, 'chase': 1160, 'championship': 1135, 'meth': 4181, 'documentary': 1893, 'arrive': 441, 'cave': 1095, 'glance': 2660, 'elevens_eggos': 2059, 'el': 2045, 'gently': 2613, 'selbsie': 5797, 'yapyap': 7358, 'avid': 528, 'fanfiction': 2295, 'patron': 4905, 'lie': 3799, 'offalonehugot': 4713, 'clinging': 1278, 'attachment': 497, 'wednesdaywisdom': 7141, 'tooth': 6736, 'follower': 2435, 'apocalypse': 397, 'aspie': 467, 'refuse': 5429, 'stifle': 6250, 'overhear': 4810, 'shout': 5911, 'distance': 1863, 'meter': 4180, 'manner': 4021, 'timetoclimbthetable': 6685, 'matthew': 4084, '13': 18, 'ncould': 4470, 'shoot': 5898, 'christ': 1219, 'bkero': 767, 'whispersystem': 7196, 'mobile': 4286, 'device': 1787, 'horrible': 3019, 'afraid': 226, 'one': 4744, 'riinkanei': 5547, 'gag': 2560, 'tim': 6679, 'ferriss': 2343, 'hustle': 3087, 'pedicure': 4933, 'nervous': 4497, 'ticklish': 6666, 'band': 592, 'nevertrump': 4504, 'promote': 5225, 'hatred': 2879, 'fuel': 2531, 'shamefull': 5851, 'unequal': 6917, 'dangerous': 1622, 'worrying': 7293, 'nowadays': 4637, 'terrify': 6539, 'shitworldforourkid': 5889, 'scared': 5731, 'sleep': 5995, 'easportsfifa': 2018, 'sport': 6161, 'technical': 6500, 'suprise': 6366, 'f1abraham': 2258, 'holy': 2992, 'fix': 2391, 'mtv': 4377, 'teenmom': 6513, 'jamespiotr': 3383, 'feature': 2327, 'preponderance': 5165, 'war': 7087, 'biblemotivate': 724, 'worried': 7291, 'n1peter': 4416, 'nthrow': 4657, 'faith': 2274, 'leadership': 3741, 'mindfu': 4230, 'chelsysayshi': 1182, 'adweek': 205, 'touché': 6744, 'pay': 4923, 'adweekchat': 206, 'intimidate': 3295, 'dumb': 1986, 'mess': 4169, 'ecosystem': 2026, 'apprehension': 412, 'going': 2691, 'dentist': 1740, 'plus': 5061, 'haunt': 2881, 'forever': 2450, 'bennyn_pr': 700, 'assistance': 473, 'concern': 1377, 'resolve': 5495, 'email': 2072, 'info': 3229, 'ap': 392, 'inha': 3235, 'seol': 5814, 'banter': 596, 'rly': 5564, 'awe': 537, 'willing': 7228, 'deal': 1672, 'littlepiece': 3849, 'customer': 1575, 'involve': 3306, 'eventually': 2192, 'completely': 1371, 'wash': 7097, 'dreamornightmare': 1950, 'dream': 1948, 'retarded': 5511, '10000': 8, 'busy': 980, 'regret': 5436, 'hall': 2828, 'alarm': 264, 'department': 1743, 'britishairway': 913, 'security': 5789, 'queue': 5302, 'shocking': 5894, 'russiainsider': 5659, 'surprising': 6376, 'russia': 5658, 'epic': 2146, 'centre': 1115, 'texans': 6549, 'prime': 5184, 'tnf': 6702, 'local': 3876, 'immediately': 3160, 'designatedsurvivor': 1763, 'transition': 6772, 'chaos': 1141, 'rage': 5323, 'ughh': 6874, 'sdr3': 5771, 'fuckthisanime': 2530, 'restless': 5507, 'annoy': 372, 'tripadvisoruk': 6800, 'bully': 959, 'alternative': 300, 'tripadvisor': 6799, 'news24': 4515, 'fmf': 2424, 'intimidation': 3296, 'violence': 7035, 'disruption': 1859, 'demand': 1724, 'silent': 5933, 'rat': 5350, 'nam': 4430, 'indoor': 3213, 'weak': 7124, 'jshayevitz': 3524, 'israel': 3342, 'hitler': 2975, 'guise': 2791, 'middleeast': 4200, 'kevinrouth': 3601, 'gameface': 2571, 'nikesupport': 4562, 'strongly': 6291, 'discourage': 1837, 'nikerun': 4561, 'difficulty': 1811, 'overcome': 4806, 'cheryl': 1186, 'janecky': 3390, 'cookie': 1448, 'gfunk85': 2633, 'officialpe': 4721, 'reign': 5439, 'terror': 6540, 'daddyion': 1593, 'cliff': 1277, 'horrific': 3022, 'createsyria': 1514, 'intalert': 3272, 'talkingpeace': 6445, 'buildingpeace': 952, 'adoredelano': 190, 'ill': 3145, 'vip': 7037, 'ticket': 6665, 'famous': 2289, 'admire': 185, 'nspeaking': 4646, 'cnn': 1300, 'lemon': 3764, 'do': 1890, 'report': 5483, 'anymore': 390, 'away': 535, 'issue': 3344, 'shawty': 5868, 'lo': 3872, 'dey': 1792, 'clock': 1282, 'bwana86': 990, 'panic': 4855, 'emoji': 2088, 'missiles': 4255, 'indianarmy': 3206, '1977': 30, 'middle': 4199, 'road': 5571, 'filmmaker': 2366, 'threat': 6650, 'note': 4626, 'total': 6740, 'acknowledgement': 161, 'anxiety': 385, 'curculiunculus': 1567, 'system1politics': 6426, 'politic': 5082, 'loathing': 3874, 'candidate': 1040, 'rockcock64': 5588, 'cum': 1560, 'alikhansay': 277, 'isi': 3332, 'decade': 1683, 'shame': 5850, 'skynews': 5984, 'elephant': 2058, 'hunt': 3081, 'shower': 5914, 'lay': 3731, 'hour': 3036, 'dread': 1946, 'pant': 4858, 'remainder': 5460, 'devenmiddleton': 1785, 'abroad': 139, 'goin': 2690, 'destaneex': 1772, 'prosyndicate': 5240, 'egx': 2043, 'srsly': 6182, 'mask': 4069, 'james': 3380, 'baldwin': 584, 'romero': 5613, 'dreadful': 1947, 'seriously': 5821, '11': 12, 'month': 4315, 'hillaryclinton': 2957, 'evidently': 2201, 'realdonaldtrump': 5377, 'norm': 4612, 'tax': 6475, 'fuuuuuuuck': 2552, 'stageschool': 6191, 'flatter': 2403, 'shock': 5892, 'drama': 1942, 'mar_de_palabras': 4031, 'madness': 3978, 'freak': 2484, 'ruin': 5647, 'paranoia': 4865, 'kohara19': 3649, 'rare': 5345, 'land': 3698, 'octopus': 4708, 'physically': 4991, 'threaten': 6651, 'insignificant': 3252, 'appear': 404, 'disapprove': 1832, 'cooking': 1449, 'penny': 4939, 'cleave': 1271, 'fraction': 2475, 'rojo': 5602, 'mufc': 4379, 'billradkeradio': 742, 'happening': 2849, 'aspire': 468, 'olympia': 4736, 'musician': 4398, 'kuowrecord': 3665, 'shimian': 5879, 'dk': 1883, 'table': 6429, 'surprisingly': 6377, 'arms': 436, 'dps': 1934, 'dish_answer': 1848, 'contact': 1421, 'whathappenedtocustomerservice': 7180, 'rooney': 5620, 'brendancoot': 888, 'outrage': 4800, 'nominate': 4601, 'corrupt': 1471, 'receive': 5392, 'donation': 1905, 'groupon_uk': 2773, 'sky': 5981, 'holidays': 2990, 'customerservicefail': 1577, 'sandrosmom': 5705, 'jaimeotero': 3375, 'privacy': 5194, 'incognito': 3192, 'mode': 4288, 'alarmist': 266, 'kimpiggie': 3623, 'kristasaidthis': 3655, 'tipo': 6692, 'terrible': 6535, 'trvial': 6823, 'cantsleep': 1048, 'goodafternoon': 2699, 'whn': 7200, 'exist': 2227, 'timeless': 6683, 'comcast': 1342, 'charge': 1148, '150': 23, 'cable': 999, 'robbery': 5575, 'india': 3202, 'ominous': 4740, 'current': 1570, 'step': 6235, 'spidey': 6148, 'sense': 5809, 'tangle': 6453, 'spider': 6147, 'directly': 1823, 'away_label_not': 536, 'hunger': 3076, 'pang': 4854, 'roll': 5605, 'trc': 6783, 'scootsyit': 5747, 'texas': 6550, 'refugee': 5425, 'terrorist': 6542, 'wakeup': 7073, 'pray': 5147, 'foxandfriend': 2468, 'ddcl2519': 1665, 'abc': 133, 'harm': 2864, 'deplorable': 1747, 'humane': 3066, 'tamrabarney': 6452, 'shannonbeador': 5853, 'rhoc_kellydodd': 5533, 'tamra': 6451, 'swing': 6411, 'nkelly': 4574, 'needstobeadmitte': 4484, 'majority': 3995, 'partner': 4879, 'hardwork': 2862, 'ibishotelsuk': 3107, 'ibishotels_fr': 3106, 'ibishotelbr': 3105, 'ibishotel': 3102, 'ibishotelbdg': 3104, 'ibishotel1': 3103, 'put': 5287, 'consistently': 1412, 'tape': 6459, 'sushi': 6385, 'tobi': 6706, 'anbu': 339, 'hang': 2841, 'seafood': 5773, 'rip': 5552, 'dancing': 1618, 'nicky57672': 4546, 'himani': 2962, 'caballero': 998, 'sweeperkeepernot': 6401, 'diana_bud': 1800, 'mania': 4019, 'hiking': 2952, 'boot': 832, 'bakewell': 581, 'parisdennard': 4869, 'tie': 6670, 'outmagazine': 4798, 'heck': 2912, 'horrid': 3021, 'atlabps': 488, 'basketball': 619, 'dsworld18': 1977, 'ground': 2771, 'southampton': 6107, 'youngster': 7387, 'matty': 4089, 'targett': 6461, 'jake': 3376, 'hesketh': 2935, 'particular': 4877, 'austin': 510, 'formidable': 2459, 'tulsa': 6834, 'police': 5077, 'manufacture': 4027, 'murder': 4387, 'carry': 1075, 'burner': 967, 'maxlevelz': 4095, 'ghost': 2638, 'cramp': 1503, 'leg': 3758, 'cardio': 1062, 'mwahaha': 4408, 'zorefx': 7425, 'malaysian': 4004, 'arrest': 439, 'suspect': 6386, 'foreigners': 2448, 'malaysia': 4003, 'mesa': 4168, 'drill': 1955, 'zipper': 7422, 'stuck': 6298, 'bathroom': 626, 'scissor': 5745, 'asktrumponequestion': 463, 'multitaske': 4382, 'induce': 3214, 'laser': 3708, 'vista': 7046, 'lens': 3765, 'implantation': 3169, 'laservista': 3709, 'conversion': 1439, 'random': 5334, 'passenger': 4884, 'melbourne': 4140, 'metrotrain': 4183, 'astound': 478, 'youwouldntreadaboutit': 7400, 'fright': 2505, 'annafifield': 370, 'washingtonpost': 7101, 'deck': 1688, 'fla': 2394, 'nc': 4465, 'nv': 4672, 'unbelievable': 6897, 'guard': 2784, 'gangster': 2574, 'paige_christian': 4834, 'nelson': 4493, 'mandela': 4016, 'shy': 5922, 'rosie': 5626, 'strongwoman': 6293, 'weakman': 7125, 'consistency': 1410, 'rough': 5629, 'johncarpenter': 3473, 'flick': 2412, 'rihababyj': 5546, 'aw': 531, 'chelseahandler': 1181, 'fraud': 2482, 'celebeffer': 1106, 'drcolj': 1945, 'drshow': 1969, 'muslims': 4402, 'usa': 6966, 'commit': 1357, 'islam': 3334, 'ahsaftershow': 250, 'trixiemattel': 6802, 'therealedhansen': 6614, 'mamasita': 4008, 'hunk': 3079, 'believe': 687, 'bles': 787, 'upset': 6955, 'incorrect': 3195, 'comma': 1352, 'grammar': 2730, 'hesitation': 2934, 'backtoschool': 564, 'promise': 5224, 'theanswer': 6574, 'spiritu': 6152, 'lanadelrey': 3697, 'ocelottacash': 4705, 'tfw': 6556, 'butterfly': 982, 'tummy': 6836, 'ipmcogsaward': 3314, 'glizzy': 2670, 'ride': 5538, 'varneyco': 6995, 'sheriffclarke': 5875, 'agree': 241, 'rioter': 5551, 'destroy': 1773, 'property': 5232, 'injure': 3240, 'citizen': 1243, 'zero': 7418, 'tolerance': 6716, 'policy': 5079, 'riot': 5550, 'kernel': 3597, 'sweating': 6399, 'sneeze': 6041, 'hiccup': 2942, 'snot': 6044, 'clearly': 1269, 'chilli': 1198, 'windy': 7236, 'bike': 734, 'wind': 7234, 'rear': 5387, 'activate': 166, 'telford': 6517, '106': 10, 'gingermckchav': 2647, 'michcorsille': 4193, 'arevamartin': 422, 'harvardblsa': 2869, 'sharebluemedia': 5859, 'apparently': 402, 'cop': 1454, 'edit': 2030, 'father': 2307, 'bride': 897, 'wrap': 7305, 'makingamurder': 4001, 'brendan': 887, 'appeal': 403, 'crime': 1521, 'reallife': 5383, 'persuasion': 4965, 'awkwardly': 544, 'sourfruitjunkie': 6105, 'jakidash': 3378, 'wedding': 7138, 'virtually': 7042, 'statement': 6213, 'refer': 5418, 'main': 3992, 'denial': 1736, 'mea': 4113, 'phin_maccool': 4985, 'faithhill': 2276, 'pronounced_e': 5227, 'excitement': 2216, 'bullet': 956, 'journal': 3506, 'picoftheday': 4996, 'funnypic': 2546, 'virgin': 7039, 'cafe': 1002, 'devil': 1788, 'back': 559, 'justin_gau': 3549, 'jamesmelville': 3382, 'certainly': 1121, 'multitude': 4383, 'ghastly': 2637, 'bee': 668, 'wowairsupport': 7303, 'helpful': 2924, 'queen': 5298, 'steppingstone': 6243, 'greatness': 2749, 'oprah': 4770, 'winfrey': 7238, 'gambieranger': 2567, 'david__osland': 1647, 'leader': 3740, 'encourage': 2097, 'supporter': 6362, 'deselect': 1759, 'imtarakate': 3180, 'uggh': 6872, 'stretch': 6283, 'imagination': 3152, 'downhill': 1927, 'alarming': 265, 'rate': 5351, 'muslim': 4400, 'cite': 1241, 'infidel': 3224, 'haven': 2885, 're': 5365, 'disabled': 1826, 'washing': 7098, 'facility': 2264, 'wheelchair': 7185, 'bind': 745, 'stoke': 6259, 'prayerful': 5149, 'dallas': 1604, 'atlanta': 489, 'stranger': 6272, 'nytimes': 4686, 'president': 5171, 'terrorize': 6543, 'city_tv': 1245, 'lunch': 3950, 'feud': 2346, 'rocky': 5594, 'remake': 5461, 'corey': 1459, 'vote': 7059, 'nicole': 4547, 'snacole': 6034, 'paulsgonnawin': 4914, 'finale': 2370, 'halfamill': 2826, 'wittyneeraj': 7256, 'shehla': 5872, 'rashid': 5348, 'kaniyah': 3563, 'kumar': 3664, 'indians': 3207, 'fakedemocracy': 2279, 'escotony': 2161, 'hesitate': 2933, 'chat': 1162, 'askdysonus': 461, 'dyson': 2006, 'com': 1336, 'jdwmaguire': 3417, 'roy': 5634, 'hodgson': 2983, 'northampton': 4617, 'shudder': 5920, 'reading': 5372, 'tweetinderkaul': 6853, 'rupasubramanya': 5652, 'chandanwriter': 1137, 'thequint': 6611, 'shivaroor': 5890, 'convict': 1441, 'rush': 5655, 'trp': 6809, 'hog': 2985, 'tread': 6784, 'homilyhour': 3000, 'indiegame': 3208, 'dlc': 1884, 'worth': 7297, '130': 19, 'plain': 5031, 'lunacy': 3948, '20odd': 44, 'astounded': 479, 'gambinodeejay': 2569, 'linda76graham': 3829, 'mikeeshy': 4215, 'nand': 4433, 'youtube': 7398, 'noooooo': 4608, 'gbbouk': 2596, 'maryberry': 4066, 'endofanera': 2106, '2b': 58, 'channel4': 1140, 'lameduck': 3691, 'notallaboutthemoney': 4624, 'lucidhurricane': 3940, 'alzeidenfeld': 302, 'davismattek': 1655, 'fi_gpp_quote': 2350, 'loughyfi': 3918, 'fantasyinsider': 2299, 'handle': 2838, 'owe': 4816, 'gpphallmonitor': 2722, 'narley': 4441, 'cornflakedaddy': 1463, 'youngvulgarian': 7388, 'sooo': 6084, 'terrorstatepak': 6544, 'invitadate': 3304, 'invade': 3300, 'pok': 5074, 'dispute': 1857, 'incite': 3189, 'suspicion': 6387, 'base': 614, 'tatoo': 6470, 'athletic': 485, 'build': 950, 'durag': 1993, 'normal': 4613, 'hmiglino': 2977, 'cparks777': 1496, 'coco_wms': 1310, 'bodyfit67': 817, 'truthequalsfact': 6820, 'politicususa': 5087, 'anxious': 388, 'election': 2054, 'fearful': 2324, 'stephen': 6238, 'responsible': 5503, 'headache': 2894, 'amphabio': 325, 'hotrodarchie': 3034, 'qadkins79': 5290, 'hillarysheath': 2958, 'left': 3757, 'ntac': 4649, 'moviestvnetwork': 4355, 'defending': 1703, 'industry': 3216, 'permission': 4957, 'thomaslennon': 6642, 'aaronrodgers12': 132, 'qb': 5291, 'sb': 5726, 'bbcwaste': 642, 'tad': 6431, 'afneil': 223, 'blessspalde': 790, 'isa': 3330, 'unga': 6924, 'mouth': 4350, 'chatter': 1163, 'tremble': 6787, 'chart': 1159, 'cernovich': 1119, 'hills': 2959, 'wood': 7273, 'chance': 1136, 'hit': 2974, 'simplymayamarie': 5947, 'stillstanding_b': 6251, 'crazy': 1507, 'challengesophie': 1132, 'tedx': 6507, 'map': 4030, 'inspiration': 3256, 'stayunstoppable': 6223, 'tomsteinfort': 6721, 'gaga': 2561, 'nigeriainfofm': 4552, 'league': 3743, 'selection': 5798, 'low': 3929, 'esteem': 2171, 'surround': 6379, 'winners': 7241, 'marcus': 4035, 'roho': 5600, 'travelfail': 6782, 'virginaus': 7040, 'etihad': 2180, 'delay': 1715, 'obvs': 4700, 'its_just_huong': 3352, 'gryffindor': 2780, 'wifi': 7218, 'isp': 3341, 'rivertide': 5560, 'suites': 6330, 'seaside': 5780, 'oregon': 4778, '53ms': 84, 'ping': 5013, 'complete': 1370, 'rover': 5632, 'venkysout': 7004, 'afghanistan': 221, 'sarwar': 5714, 'danish': 1626, 'slam': 5988, 'breed': 884, 'address': 181, 'eliroth': 2062, 'thegreeninferno': 6593, 'ineedtherapy': 3219, 'october': 4707, 'cooler': 1451, 'tv': 6844, 'cgasparino': 1125, 'gas': 2586, 'rudeness': 5645, 'joshgad': 3503, 'son': 6081, 'mute': 4403, 'priorjoan': 5192, 'mizque': 4273, 'nactually': 4420, 'typical': 6863, 'supporters': 6363, 'nthis': 4656, 'birtherism': 752, 'source': 6104, 'mindset': 4232, 'philosophy': 4983, 'thoughtsbecomething': 6648, 'lifehack': 3803, 'pleasert': 5050, 'strand': 6269, 'maself': 4068, 'dunno': 1991, 'gaff': 2559, 'building': 951, 'filter': 2367, 'psyched': 5256, 'chapter': 1145, 'newbeginning': 4509, 'timetoprovemyself': 6687, 'morethanready': 4328, 'caseycdutch': 1077, 'm_rath': 3963, 'cresbot': 1519, 'dw': 2000, 'cheek': 1170, 'attractive': 506, 'tbh': 6478, 'tasting': 6467, 'whisky': 7194, 'dufftown': 1983, 'autumn': 520, 'festival': 2344, 'murraymcdavid': 4392, 'dram': 1941, 'scmciafiin': 5746, 'seanlthewriter': 5777, 'marshall': 4059, 'claretnblues': 1254, 'forest': 2449, 'gate': 2588, 'cunt': 1563, 'bald': 583, 'dburka': 1663, 'comic': 1349, 'sans': 5709, 'comicsan': 1351, 'emilysmissaert': 2083, 'navinrmal': 4455, 'revelation': 5519, 'benjysarlin': 698, 'margieomero': 4038, 'monmouthpoll': 4308, 'flip': 2415, 'wisconsin': 7246, 'thejonfedor': 6599, 'abdophoto': 134, 'size': 5970, 'asp': 465, 'jump': 3542, 'shriekfest': 5918, 'volunteer': 7056, 'inquiry': 3248, 'aol': 391, 'pridefulsamurai': 5182, 'aka': 260, 'gmbremer': 2682, 'shoulder': 5907, 'legit': 3759, 'reassure': 5390, 'ryleycathryn': 5667, 'mack_shepp': 3970, 'haww': 2889, 'indian': 3205, 'funding': 2541, 'bla': 768, 'balochistan': 589, 'kulbhoshan': 3663, 'yadhav': 7352, 'ttp': 6828, 'sethwieck': 5827, 'ted': 6504, 'bubledygook': 942, 'masse': 4071, 'distrust': 1868, 'decry': 1691, 'talks': 6447, 'foyer': 2472, 'moscow': 4336, 'fortify': 2460, 'reply': 5482, 'cept': 1117, 'wife': 7217, 'makemytripcare': 3997, 'avoidmmt': 530, 'center': 1114, 'nalso': 4429, 'sleepy': 5997, 'active': 167, 'mlb': 4279, 'joeybats19': 3467, 'probably': 5199, 'flashback': 2400, 'moving': 4356, 'jordanchariton': 3499, 'dem': 1723, 'depression': 1753, 'ndream': 4476, 'andisbench': 343, 'warrensarahh': 7095, 'cjkiid': 1248, 'mista_nightmare': 4264, 'takeabreak': 6437, 'stand': 6198, 'habitual': 2811, 'liar': 3789, 'bbtoom': 646, 'perfect': 4948, 'example': 2211, 'ignorant': 3136, 'competitor': 1367, 'oddnmacabre': 4710, 'nyquil': 4681, 'fam': 2286, 'basshunter': 623, 'southpark20': 6111, 'southpark': 6110, 'etimsnet': 2181, 'minus': 4239, 'till': 6675, 'designer': 1764, 'model': 4289, 'fashion': 2303, 'breakdown': 880, 'floss': 2418, 'lilpeachbbyy': 3823, 'cal': 1008, 'roger_dagenham': 5596, 'aye': 547, 'brief': 902, 'window': 7235, 'business': 976, 'qualify': 5295, 'calling': 1014, 'employment': 2095, 'mary': 4065, 'berry': 707, 'mariah': 4039, 'bass': 620, 'rap': 5339, 'blasting': 784, 'ahead': 244, 'accusd': 156, 'hr': 3047, 'violation': 7034, 'kashmir': 3572, 'refusd': 5428, 'foment': 2436, 'mqm': 4360, 'zh': 7420, 'hrc': 3048, 'rid': 5537, 'dems': 1735, 'merk': 4165, 'public': 5263, 'figure': 2361, 'unhappy': 6925, 'trouble': 6805, 'ganypede': 2575, 'michael': 4192, 'england': 2118, 'welshgasdoc': 7160, 'plaidcymru': 5030, 'reesmarshall239': 5416, 'prejudice': 5160, 'disabledlivesmatter': 1827, 'bbcnew': 640, 'amychozick': 331, 'jswatz': 3527, 'downstairs': 1930, 'bash': 615, 'hrjdjd': 3049, 'theonesoleshoe': 6609, 'exemplify': 2220, 'espouse': 2163, 'lament': 3692, 'voter': 7060, 'argue': 425, 'camp': 1025, 'wrexham': 7309, 'holidog': 2991, 'paw': 4920, 'tailster': 6434, 'regular': 5437, 'emilyhd26': 2082, 'ellshd': 2068, 'dedicate': 1692, 'archangel': 419, 'machine': 3968, 'beep': 670, 'nnurse': 4592, 'vital': 7047, 'nmatt': 4585, 'poundstretcher': 5130, 'firm': 2384, 'embarrassing': 2074, 'lack': 3678, 'defensive': 1705, 'depth': 1756, 'owlman2011': 4818, 'charitypricey': 1150, 'jon_newsome': 3487, 'prawnsandowl': 5146, 'smith_alister': 6026, 'mikeconnelly9': 4214, 'average': 527, '22000': 47, 'massif': 4073, 'idinamenzel': 3125, 'release': 5452, 'idinaparty': 3126, 'fingerscrosse': 2376, 'idina': 3124, 'soft': 6062, 'modestmouse': 4292, 'modestmouseband': 4293, 'azyraizelo': 552, 'xd': 7337, 'judgelynntoler': 3533, 'specter': 6139, 'written': 7316, 'sentence': 5811, 'bouchetpetersen': 848, 'libe': 3792, 'dom_albertini': 1900, 'daviddoucet': 1648, 'imposuture': 3173, 'intellectuelle': 3274, 'préjugés': 5253, 'intolérance': 3297, 'personnalitéautoritaire': 4964, 'wholegrainne': 7204, 'finland': 2379, 'timebreaker': 6681, 'radio': 5319, 'mutli': 4405, 'directional': 1822, 'mike': 4210, 'cheap': 1164, 'mixing': 4270, 'monsoonuk': 4309, 'fufill': 2532, 'refund': 5426, 'ugly': 6875, 'separation': 5816, 'lifeofdesiign': 3807, 'lifeofdesiigner': 3808, 'peiyophobilia': 4936, 'advice': 204, 'anirudhofficial': 366, 'shot': 5906, 'iam_str': 3098, 'energetic': 2110, 'xtremly': 7347, 'tap': 6458, 'moonpendent13': 4322, 'mirror': 4243, 'summon': 6339, 'thomashcrown': 6641, 'laurakfillault': 3720, 'historic': 2971, 'evangelical': 2187, 'donatists': 1906, 'clergy': 1273, 'fmr': 2426, 'circle': 1238, 'arc': 418, 'emotionally': 2092, 'prepare': 5164, 'loismackey': 3882, 'dory': 1918, 'nah': 4423, 'avatar': 525, 'emblem': 2077, 'name': 4431, 'gender': 2603, 'mission': 4258, 'capitalone': 1051, 'urge': 6961, 'productive': 5209, 'houstontexan': 3040, '20': 38, '3rd': 71, 'champ': 1133, 'sike': 5931, 'flight': 2413, 'easyjet': 2020, 'fly': 2422, 'alwaysdelaye': 301, 'fb': 2322, 'and': 342, 'or': 4775, 'goodmorning': 2701, 'critical': 1528, 'condition': 1387, 'pave': 4918, 'miracle': 4242, 'complain': 1368, 'sin': 5949, 'forgiveness': 2453, 'cazzrhughe': 1097, 'reflective': 5423, 'shooting': 5899, 'fairly': 2273, 'joyofbearde': 3514, 'haunting': 2882, 'genre': 2611, 'mannersaboveall': 4022, 'louder': 3916, 'cheesy': 1179, 'morningmika': 4332, 'pac': 4827, 'morning_joe': 4331, 'msnbc': 4376, 'momentum': 4301, 'trumppence16': 6817, 'maga': 3981, 'gmail': 2681, 'migraine': 4209, 'hangover': 2842, 'exhaust': 2222, 'gad': 2558, 'chronic': 1226, 'defend': 1702, 'surfacesupport': 6369, 'profoundly': 5216, 'disappointing': 1831, '500': 80, 'remedy': 5462, 'defect': 1701, 'product': 5208, 'microsoft': 4198, 'sell': 5802, 'fish': 2386, 'jonriley7': 3495, 'voteyourconscience': 7061, 'succumb': 6315, 'patriotact': 4904, 'platform': 5040, 'huge': 3062, 'congrat': 1398, 'voidmovie': 7053, 'usapremiere': 6969, 'thevoid': 6623, 'featurefilm': 2328, 'scaryshit': 5734, 'combat': 1338, 'tool': 6732, 'trade': 6758, 'hh': 2940, 'younusalgohar': 7389, 'banwahhabism': 598, 'amwrite': 327, 'creaking': 1510, 'noise': 4597, 'kitchen': 3635, 'creak': 1509, 'wtf': 7322, 'advantage': 202, 'uofw': 6946, 'christie': 1222, 'westernuhistory': 7169, 'fr': 2474, 'marybethstart': 4067, 'peter': 4971, 'dardanella': 1629, 'poorthing': 5097, 'deep': 1695, 'shawnmende': 5866, 'tesco': 6545, 'visa': 7043, 'electron': 2057, '55': 85, 'unique': 6930, 'compare': 1364, 'confused': 1395, 'jpennifan': 3517, 'divorce': 1879, 'reference': 5420, 'indiamarshall': 3203, 'nervousness': 4498, 'adrenaline': 192, 'nhad': 4528, 'concert': 1379, 'soloist': 6067, 'mild': 4219, 'senatorreid': 5806, 'daneggenwpost': 1620, 'painting': 4838, 'orange': 4776, 'election2016': 2055, 'koishiteruze': 3650, 'thefienprint': 6589, 'fashioned': 2304, 'robbie': 5576, 'aghast': 237, 'the_east_end': 6572, 'air': 255, 'raid': 5324, 'false': 2284, 'inbound': 3184, 'shall': 5848, 'cage': 1004, 'hysterical': 3096, 'opheliamcfly_gd': 4764, 'madrid': 3979, 'zidane': 7421, 'unuh': 6943, 'joeyskawaii': 3468, 'physiatrist': 4989, 'brooke': 924, 'sotoventure': 6096, 'ridicule': 5540, 'guess': 2786, 'breadf2man': 876, 'sunapology': 6341, 'mackenzie': 3971, 'dontbuythesun': 1913, 'keyshamackie': 3604, 'footy': 2444, 'major': 3994, 'essay': 2167, 'certified': 1122, 'consumate': 1418, 'diplomat': 1819, 'anthonyeinzig': 382, 'heartbreaking': 2905, 'nyscheretohelp': 4683, 'nysc': 4682, 'jumpship': 3543, 'nasty': 4444, 'unprofessional': 6939, 'asklloydsbank': 462, 'exec': 2219, 'complaint': 1369, 'clown': 1288, 'appearance': 405, 'hometown': 2997, 'rd': 5364, 'rpt': 5637, 'pakis': 4843, 'wr': 7304, 'tsd': 6827, 'shut': 5921, 'dn': 1889, 'congis': 1397, 'oblige': 4694, 'expose': 2241, 'them': 6605, 'revive': 5523, 'badlaofuri': 571, 'jeff': 3426, 'jeffrey': 3429, 'tremor': 6789, 'carlymarierozy': 1067, 'makeupsue': 3999, 'vulnerable': 7064, 'welp': 7159, 'med': 4121, 'empire': 2094, 'exterior': 2246, 'hopelessness': 3014, 'anxietyprobz': 386, 'rent': 5475, 'todofuku': 6711, 'paint': 4837, 'credit': 1516, 'fee': 2330, 'uplift': 6951, 'yellowsuburbia': 7373, 'nawazsharif': 4458, 'pose': 5109, 'unacceptable': 6894, 'dialogue': 1797, 'meaindia': 4114, 'icing': 3112, 'tart': 6463, 'kipling': 3631, 'derbyshire': 1758, 'recognise': 5399, 'process': 5203, 'mentalhealth': 4156, 'complexptsd': 1372, 'n_harrill': 4417, 'imbecile': 3157, 'interpretingall': 3287, 'mikefar1974': 4216, 'metalmilitia74': 4177, 'cmvazquez103': 1298, 'zachzaidman': 7412, 'geordietommy': 2616, 'xbox': 7334, 'goodbye': 2700, 'tremendous': 6788, 'lthechat': 3938, 'herrera': 2932, 'prove': 5247, 'rashford': 5347, 'possess': 5113, 'undergraduate': 6909, 'degree': 1712, 'adulthood': 199, 'nojobsinbiology': 4598, 'exercise': 2221, 'limb': 3826, 'sacred': 5672, 'danger': 1621, 'f1': 2257, 'cacke': 1000, 'mad': 3975, 'injustice': 3242, 'smash': 6017, 'neighbour': 4492, 'charlotteprotest': 1156, '_adam_price': 112, 'walespolitics': 7076, 'editorially': 2033, 'ron': 5614, 'davies': 1653, 'bicycle': 727, 'tcarrel': 6481, 'exactly': 2208, 'misogynist': 4248, 'psychopath': 5260, 'narcissist': 4437, 'conartist': 1376, 'revolt': 5524, 'newly': 4512, 'engage': 2114, 'stevie': 6247, 'disguise': 1845, 'throat': 6652, 'leather': 3751, 'jacket': 3365, 'wii': 7220, 'internet': 3286, 'proportion': 5233, 'assume': 474, 'knowledge': 3646, 'magpie': 3988, 'gather': 2590, 'swoop': 6414, 'ethic': 2178, 'archippusawakene': 420, 'entirelybyhisgrace': 2138, 'susanbrodigan': 6384, 'lyricconcert': 3961, 'ha': 2809, 'attcare': 499, '_juliasteiner': 120, 'mikeandmolly': 4211, 'parallel': 4864, 'nflfantasy': 4520, 'df': 1793, 'wordvof': 7279, 'pope': 5099, 'john': 3470, 'ii': 3141, 'septa': 5818, '45': 75, 'counting': 1479, 'ctt': 1550, 'strange': 6270, 'lovemysleep': 3927, 'darcomafloy': 1628, 'im': 3149, 'crying': 1542, 'hahahaha': 2817, 'ikaw': 3143, 'talaga': 6439, 'tagagising': 6433, 'ko': 3647, 'shet': 5877, 'awake': 533, 'so': 6048, 'thisbhuge': 6637, 'afford': 218, 'swarbleflop': 6395, 'lightskinjesusp': 3814, 'historically': 2972, 'vantage': 6994, 'palm': 4847, 'sweat': 6397, 'rlly': 5563, 'chloemcaleese': 1205, 'roanoke': 5572, 'ahsroanoke': 251, 'thesideudy': 6621, 'scott': 5754, 'steiner': 6233, 'injury': 3241, 'ccot': 1103, 'ceiestialfoxx': 1105, 'disturb': 1869, 'respond': 5500, 'chick': 1189, 'offtop': 4723, 'hut': 3088, 'commercial': 1356, 'mcds': 4102, 'cure': 1568, 'intimate': 3294, 'hartramsey': 2868, 'lonely': 3892, 'lonelines': 3890, 'aloneinthecity': 292, 'trust': 6818, 'wallet': 7079, 'lifeguard': 3802, 'swimmer': 6409, 'vc': 6998, 'ysjfc': 7403, 'mcrichard': 4108, 'adorable': 189, 'scream': 5763, 'sim': 5936, 'dual': 1978, 'lock': 3879, 'network': 4502, 'laptop': 3703, 'c1tyoffl1nt': 995, 'joeprich': 3463, 'author': 513, 'stephenke': 6240, 'writer': 7313, 'billmaher': 741, 'stance': 6197, 'radical': 5318, 'islamic': 3335, 'anoint': 376, 'salutetroye': 5698, 'simonschuster': 5943, 'buzzfeed': 987, 'bernards': 703, 'cujo': 1557, 'anybody': 389, 'patsy1207': 4908, 'markheardusa': 4051, 'theinquisitr': 6597, 'fuc': 2522, 'andreasarahco': 346, 'heely': 2918, 'campus': 1029, 'moses': 4337, 'ntoday': 4660, 'debates2016': 1680, 'insult': 3271, 'jonnyowenfilm': 3493, 'ringsiderobbie1': 5549, 'train': 6763, 'froch': 2510, 'kessler': 3600, 'crowder_rachel': 1537, 'lilliegregg': 3822, 'mug': 4380, 'fame': 2287, 'freeloader': 2490, 'ilovetailgate': 3148, 'beak': 653, 'iq': 3316, 'skeletonslock': 5973, 'pleased': 5049, 'winner': 7240, 'ericnobody': 2155, 'armouredskeptic': 435, 'invest': 3302, 'concession': 1380, 'shortsightedness': 5904, 'management': 4011, 'hoco': 2982, 'saturday': 5716, 'o2': 4688, '5k': 87, 'dirt': 1824, 'apology': 399, 'customerservice': 1576, 'mse': 4372, 'resolvercouk': 5496, 'revolve': 5527, 'global': 2671, 'evrn': 2205, 'nawazfightsforkashmir': 4457, 'excuse': 2218, 'lifecoach': 3801, 'cringe': 1525, 'theurbanologist': 6622, 'tunnel': 6838, 'grimy': 2761, 'fox': 2467, 'view': 7025, 'noveliciouss': 4634, 'breathless': 883, 'curlygirlmimi': 1569, 'girly': 2654, 'frighten': 2506, 'soywax': 6116, 'limited': 3828, 'edition': 2032, 'candle': 1041, 'scentedscream': 5736, 'sreeniv51294598': 6180, 'hahaha': 2816, 'dear': 1675, 'discuss': 1841, 'value4tax': 6989, 'hopkins_alison': 3016, 'queensbury': 5299, 'route': 5631, 'station': 6216, 'morrison': 4334, 'festoon': 2345, 'rubbish': 5644, 'idk': 3129, 'yahoofantasy': 7353, 'mistake': 4265, 'marry': 4057, 'eeiry': 2038, 'cat': 1089, 'tall': 6449, 'lesbian': 3769, 'discriminatory': 1840, 'religion': 5456, 'mandate': 4015, 'charlieeblacker': 1154, 'sufc': 6322, 'marcos': 4034, 'meetingmyabuserincourt': 4131, 'dvsurvivor': 1999, 'kcbbcxo': 3579, 'overwhelming': 4815, 'cue': 1555, 'card': 1060, 'page': 4832, 'script': 5766, 'mfa': 4186, 'gradschoolproblem': 2727, 'someonetelltinafeytohireme': 6075, 'skysportsrl': 5987, 'decent': 1685, 'referee': 5419, 's_moore24': 5669, 'terrific': 6538, 'debscov65': 1681, '864': 103, 'provider': 5250, 'negotiate': 4488, '32': 68, 'ijb': 3142, 'resource': 5498, 'justintrudeau': 3551, 'cp24': 1495, 'globalnewsto': 2673, 'ikhra': 3144, 'benglaze': 697, 'amal': 304, 'clooney': 1283, 'prosecute': 5238, 'bush': 974, 'blair': 778, 'upside': 6956, 'down': 1924, 'berniebrocialist': 705, 'swingish': 6412, 'clinton': 1279, 'unhumanright': 6926, 'undp_pakistan': 6916, 'wat': 7106, 'lecture': 3753, 'curb': 1566, 'participate': 4876, 'noam': 4594, 'chomsky': 1209, 'alloa': 285, 'sucker': 6317, 'punch': 5271, 'simon_barrett': 5941, 'blairwitchmovie': 779, 'mexico': 4185, 'thebadgerboy': 6579, 'check': 1167, 'saintskipper5': 5691, 'dailyecho': 1598, 'foxnew': 2469, 'blacklivesmatter': 774, 'ep': 2145, 'finger': 2375, 'raury': 5354, 'lib': 3791, 'timetogrind': 6686, 'aefadul22': 207, 'temperment': 6522, 'perilous': 4953, 'entry': 2142, 'rockandpop': 5587, 'pomte': 5091, 'muse': 4394, 'exitaso': 2231, 'supremacist': 6365, 'differ': 1806, 'culture': 1559, 'online': 4751, 'instill': 3265, 'harvest': 2870, 'contentment': 1425, 'paultripp': 4917, 'democracy': 1730, 'mob': 4285, 'mentality': 4157, 'mass': 4070, 'hysteria': 3095, 'monger': 4306, 'oligarchy': 4735, 'scroll': 5767, 'beetrootrabbit': 674, 'tuesday': 6833, 'verilyberrily': 7008, 'emmmmerla': 2086, 'xx': 7348, '_miasienna': 122, 'asleep': 464, 'samsteinhp': 5703, 'propose': 5235, 'untouchable': 6941, 'depay': 1744, 'ish': 3331, 'icuminhoesasse': 3114, 'jamieyate': 3389, 'strive': 6288, 'jamie': 3384, 'pats': 4907, 'belichick': 685, 'awestruck': 539, 'christyfrink': 1224, 'stephenyeargin': 6241, 'el_brandino': 2046, 'hook': 3010, 'backward': 565, 'recommend': 5401, 'smoke': 6027, 'leafyishere': 3742, 'bicep': 725, 'hmm': 2978, 'atsu': 495, 'photo': 4987, 'cherry': 1185, 'uwu': 6981, 'torrebe': 6739, 'te': 6484, 'gusta': 2801, 'gotvng': 2717, 'cn': 1299, 'yellow': 7372, 'submarine': 6308, 'los': 3907, 'blancos': 782, 'waveafterwave': 7114, 'rmavil': 5566, 'roommate': 5619, 'firstworldprob': 2385, 'scotydoesntkn0': 5759, 'espresso': 2164, 'ddnewshindi': 1666, 'stink': 6253, 'uriattack': 6964, 'lgcanada': 3786, 'tokyo': 6714, 'outfits': 4795, 'lace': 3677, 'drinking': 1958, '_hallospaceboy': 117, 'dailygrindhouse': 1599, 'diverse': 1875, 'onus': 4755, 'group': 2772, 'border': 836, 'dunsscottus': 1992, 'faithnguns': 2277, 'buggaze': 948, 'patriot_musket': 4903, 'owen': 4817, 'garriott': 2583, 'lived': 3852, 'sami749263491': 5702, 'whahibbi': 7178, 'sect': 5787, 'synonymous': 6420, 'skyfootball': 5982, 'untrusted': 6942, 'iam': 3097, 'loose': 3900, 'ccgdavidson': 1102, 'thinking': 6633, 'population': 5102, 'entrenepuer': 2140, 'up': 6947, 'sme': 6018, 'proactive': 5197, 'accountancy': 154, 'westelm': 7167, 'ship': 5881, '19': 28, 'whereismyfurniture': 7187, 'drain': 1939, 'energy': 2111, 'sotire': 6095, 'needtosleepforhour': 4485, 'insomniacs': 3255, 'guilty': 2790, 'sociopath': 6060, 'jeepers': 3422, 'creepers': 1518, 'horrormoviesareb': 3025, 'horrorfilm': 3024, 'tweetingacct': 6854, 'amandacarpenter': 305, 'teamtrump': 6496, 'pledge': 5053, 'petulant': 4974, 'postrump': 5121, 'whaaaooo': 7177, 'worldpeaceday': 7285, 'bake': 578, 'stressed': 6282, 'ntfcvmufc': 4650, 'evanoblezada': 2188, 'alistairbrammer': 278, 'jonjonbriones': 3492, 'cast': 1085, 'misssaigonuk': 4263, 'fathomevent': 2308, 'da': 1587, 'gump': 2795, 'ppl': 5140, 'diet': 1805, 'stephtikkanen': 6242, 'qdoba': 5292, 'slow': 6007, 'eng': 2113, 'uhh': 6878, 'meee': 4129, 'moreisbetter': 4326, 'takadad2': 6435, 'rhe': 5531, 'though': 6645, 'rlike': 5562, 'ronly': 5617, 'sugita': 6327, 'tame': 6450, 'contrast': 1432, 'behaviour': 680, 'camouflage': 1024, 'garment': 2582, 'shell': 5873, 'prof': 5211, 'caroline': 1071, 'adhd': 182, 'irrelevant': 3326, 'nanyone': 4435, 'evict': 2199, 'significant': 5929, 'aside': 458, 'cantpay': 1047, 'specialist': 6134, 'basically': 617, 'unlikely': 6936, 'mcdavid': 4100, 'breakaway': 879, 'backpack': 563, 'fill': 2364, '5kin26min': 88, 'flatfeet': 2402, '01starblazer': 0, 'rockies': 5590, 'dbacks': 1662, 'combined': 1341, 'atrocious': 493, 'nl': 4577, 'date': 1642, 'tran': 6767, 'blowjob': 804, 'tfb': 6554, 'mack': 3969, 'ohio': 4725, 'bewdley': 715, 'eurythmics': 2184, 'polish': 5081, 'gothic': 2715, 'metal': 4175, 'exit': 2230, 'claim': 1249, 'us': 6965, 'ancestry': 340, 'remotely': 5467, 'waterfall': 7110, 'burst': 971, 'corningfootball': 1464, 'boil': 819, 'stlcard': 6256, 'spamvicious': 6122, 'candice': 1039, 'candace': 1038, 'pout': 5132, 'moocowward': 4318, 'mrsajhargreave': 4368, 'melly77': 4144, 'garybarlow': 2585, '60th': 90, '25k': 52, 'sorelos': 6091, 'bitter': 761, 'virginmedia': 7041, 'disconnect': 1835, 'whilst': 7190, 'furious': 2548, 'frown': 2512, 'shae_caitlin': 5843, 'emilsonwheel': 2081, 'etherealmystic': 2177, 'desire': 1765, 'kkk': 3638, 'minimum': 4234, 'wattch': 7112, 'madden': 3976, 'cutefunnyanimal': 1580, 'luvcaps19': 3956, 'dog': 1896, 'provoke': 5252, 'reaction': 5368, 'ahole': 248, 'animosity': 365, 'hillary': 2956, 'conspiracy': 1413, 'perception': 4943, 'yay': 7361, 'bmth': 810, 'fanfuckingtastic': 2296, 'hotel': 3031, 'atm': 491, 'amyah': 330, 'throw': 6653, 'temper': 6520, 'tantrum': 6456, 'damnit': 1612, 'crystaldiamondo': 1543, 'impossible': 3172, 'unwittingly': 6945, 'trigger': 6796, 'ferocious': 2342, 'hath': 2878, 'fury': 2550, 'sportingtommo': 6162, 'asfcofficial': 451, 'sting': 6252, 'resent': 5491, 'greatly': 2748, 'scorning': 5752, 'labor': 3676, 'detention': 1776, 'resettle': 5493, 'asylumseeker': 483, 'manu': 4025, 'nauru': 4454, 'congratulations': 1400, 'bbnicole': 644, 'bbmichelle': 643, 'monday': 4304, 'mbc': 4097, 'allo': 284, 'spam': 6121, 'launch': 3719, 'encryption': 2101, 'default': 1699, 'shady': 5842, 'jongdae': 3490, 'ex': 2206, 'rumour': 5649, 'wgm': 7175, 'angrily': 355, 'competition': 1366, 'motivate': 4340, 'everytime': 2198, 'philosopher': 4982, 'dj': 1880, 'kyos': 3673, 'csgo': 1547, 'thereval': 6617, 'require': 5488, 'burn': 966, 'beating': 660, 'loot': 3902, 'optic': 4771, 'toussaintromain': 6749, 'xboxmad': 7336, 'robotbrush': 5585, 'ballmer': 586, 'delivery': 1720, 'track': 6756, 'potato': 5123, 'errrr': 2157, 'infuriate': 3231, 'thebarmyarmy': 6580, 'div': 1872, 'andybarmyarmy': 351, 'revenge': 5520, 'leictershireaway': 3760, 'therey': 6618, 'agirlhasno_name': 239, 'mdlmurray': 4110, 'looney': 3898, 'toon': 6734, 'divide': 1877, 'anger': 354, 'package': 4830, 'yal': 7354, 'aggravate': 236, 'difference': 1807, 'dyke': 2002, 'rarely': 5346, 'block': 799, 'germantownbronco': 2622, 'lilleague': 3821, 'popwarner': 5103, 'broncos': 923, 'usafootball': 6967, 'offense': 4716, 'lineman': 3833, 'trek': 6786, 'fume': 2536, 'newageinsiders': 4507, 'chaoticwrestlin': 1143, 'davienne_long': 1652, 'spookyhelder': 6160, 'specifically': 6137, 'consider': 1409, 'enemy': 2109, 'usatoday': 6970, 'rocket': 5589, 'donlemon': 1908, 'politician': 5086, 'career': 1065, 'patmccrorync': 4901, 'kik': 3615, 'kikme': 3616, 'kikmessage': 3617, 'boredaf': 839, 'snapchatme': 6038, 'countrygirl': 1481, 'depart': 1742, 'inv': 3299, 'ezy864': 2256, 'louiseannexx': 3920, 'grudge': 2778, 'josefcd904': 3502, 'reddou_kun': 5411, 'deven_luca': 1784, 'supersoniclemon': 6358, 'incur': 3198, 'lily': 3824, 'readingfc': 5373, 'twojacksdetail': 6859, 'bluelivesmtr': 808, 'officer': 4720, 'conscience': 1405, 'inflame': 3226, 'fakingaleto': 2280, 'gerard': 2618, 'huff': 3059, 'lmaooooo': 3870, '__lucymellor': 111, 'tidy': 6669, 'fs': 2519, 'nahtewilly': 4424, 'afp': 224, 'intelligent': 3276, 'definitive': 1710, 'useful': 6972, 'expand': 2232, 'offend': 4714, 'tansorma': 6455, 'jamielamieee': 3385, 'gerbicapiral': 2619, 'wellermonica': 7156, 'monica': 4307, 'regularly': 5438, 'ctysmallholde': 1551, 'dare': 1630, 'buzz': 986, 'ste': 6225, 'honey': 3006, 'smendler': 6020, 'impotent': 3174, 'spray': 6166, 'gut': 2803, 'ugh': 6873, 'sopandeb': 6086, 'johnrobertsfox': 3479, 'azizansari': 551, 'stereotype': 6244, 'south': 6106, 'asians': 457, 'reporter': 5484, 'alex_philip2648': 272, 'broccoli': 918, 'rohan_connolly': 5599, 'profile': 5213, 'colleague': 1331, 'yhat': 7380, 'category': 1092, 'massexodu': 4072, 'ee': 2037, '50p': 83, 'rev': 5517, 'dr': 1935, 'earl': 2011, 'progressive': 5218, 'democrats': 1732, 'transform': 6770, 'moral': 4325, 'effective': 2040, 'repeal': 5478, 'remove': 5469, 'direct': 1820, 'affront': 219, 'constitution': 1416, 'pawn': 4921, 'fret': 2498, 'amiss': 322, 'royal': 5635, 'theladyofglenco': 6601, 'fiery': 2357, 'crash': 1505, 'jamierjn': 3386, 'pursuit': 5284, 'kai': 3559, 'discriminate': 1839, 'generate': 2607, 'irate': 3318, 'forgive': 2452, 'flint': 2414, 'emo': 2087, 'hatere': 2877, 'multiple': 4381, 'comb': 1337, 'simultaneously': 5948, 'impressive': 3178, 'ohsnap': 4726, 'daaamn': 1589, 'refunded': 5427, 'fifa': 2358, 'deadspin': 1670, 'rlblack1rob': 5561, 'convenient': 1437, 'target': 6460, 'misplaced': 4251, 'cigarette': 1236, 'irritate': 3327, 'ameliameech': 312, 'parsnip': 4873, 'factor': 2267, 'provocation': 5251, 'bulb': 953, 'worm': 7288, 'bnqo': 811, 'scorpio': 5753, 'evidence': 2200, 'klan': 3639, 'joeshennan': 3465, 'joshuamurraybm': 3505, '40am': 73, 'shennan': 5874, 'winchestergank': 7233, 'rabid': 5313, 'availablecar': 523, 'disgraceful': 1844, 'round': 5630, 'tyre': 6865, 'bedifferent': 667, 'quick': 5303, 'yannarell': 7356, 'lolgop': 3886, 'despite': 1769, 'fatigue': 2309, 'actin': 164, 'em': 2071, 'troubled': 6806, 'outweighs': 4804, 'float': 2417, 'pineapple': 5012, 'classify': 1262, 'comedy': 1345, 'shonna_ludi': 5897, '_braaaat': 116, 'resentment': 5492, 'doctor': 1891, 'jankhambram': 3392, 'enistachia': 2123, 'sauce': 5717, 'torment': 6738, 'warn': 7092, 'sensitive': 5810, 'insecure': 3249, 'worst': 7296, 'karev': 3568, 'greysabc': 2754, 'unfair': 6919, 'leo': 3766, 'philadelphia': 4979, 'where': 7186, 'barackobama': 601, 'sharpton': 5863, 'blm': 798, 'thefive': 6590, 'jessicavalenti': 3439, 'nytime': 4685, 'punk': 5274, 'daaaaaaamn': 1588, 'sophiabush': 6087, 'getitgirl': 2627, 'girlpower': 2652, 'rawr': 5359, 'chicagopd': 1188, 'panpiper': 4857, 'river': 5558, 'bridges': 899, 'sr1': 6179, 'brill': 908, 'colinoccupantz': 1326, 'jasnabadzak': 3398, 'proremain': 5237, 'ukip': 6881, 'mattstottwrite': 4087, 'nose': 4618, 'petty': 4973, 'golden': 2693, 'ocean': 4703, 'lush': 3954, 'waste': 7104, 'emmagould': 2084, 'pearsedoherty': 4931, 'harrymcgee': 2867, 'irishtime': 3321, 'lad': 3682, 'betterwithsinnfein': 714, 'cream': 1511, 'glute': 2680, 'somersetccc': 6077, 'uma1r': 6889, 'bilalmahmooduk': 736, 'muslim_scientst': 4401, 'persecute': 4958, 'disrespect': 1858, 'patriot': 4902, 'jersey': 3437, 'troye': 6807, 'dme': 1888, 'instagram': 3260, 'sh': 5839, 'caption': 1054, 'irritation': 3329, 'definition': 1709, 'vandalism': 6991, 'politicallycorrect': 5084, 'assumption': 475, 'visitor': 7045, 'njddanin123': 4572, 'ourhouse': 4794, 'onejersey': 4747, 'werealldevilsinside': 7164, 'ndoes': 4473, 'puck': 5264, 'njdevil': 4573, 'who_jn': 7201, 'quad': 5294, 'detox': 1779, 'thatsshawtylo': 6568, 'atl': 487, 'strip': 6287, 'inthefade': 3292, 'blissful': 796, 'ignorance': 3135, 'mariankeyes': 4041, 'edge': 2028, 'agin': 238, 'feic': 2334, 'ethan': 2175, 'grayson': 2742, 'jonfavs': 3489, 'community': 1359, 'zavierdaniels': 7414, 'uber': 6871, 'parking': 4871, 'blame': 781, 'homework': 2998, 'plays': 5047, 'megmuphet': 4136, 'personal': 4961, 'sinice': 5955, 'lookin': 3897, 'red_magpie': 5408, 'ali_faceache1': 274, 'joanna_caron': 3457, 'kcbfd': 3580, 'xmattxlawx': 7344, 'tub': 6830, 'thumper': 6658, 'mcternan': 4109, 'hipster': 2966, 'grape': 2736, 'jv': 3555, 'earn': 2013, 'stonington': 6262, 'waite': 7070, 'winakor': 7232, 'deluciaalexis': 1722, 'assist': 472, 'mhseccathletic': 4189, 'daynutrition': 1660, 'sliqnicq': 6005, 'trash': 6777, 'trailer': 6762, 'incense': 3186, 'daemondave': 1595, 'paulkrugman': 4911, 'stupid': 6304, 'intel': 3273, 'bin': 744, 'laden': 3683, 'faux': 2314, 'putin': 5288, 'robertb_rice': 5578, 'non': 4603, 'native': 4450, 'behalf': 677, 'saidnondnever': 5686, 'paternalism': 4894, 'johnjharwood': 3476, 'gwgmj30': 2805, 'dislike': 1850, 'magnify': 3987, 'bigotry': 732, 'lmaoo': 3868, 'overwhelmed': 4814, 'gielnorian': 2640, 'hedonismgaming': 2915, 'cmode': 1296, 'grimrail': 2759, 'isn': 3339, 'ultimately': 6886, 'daft': 1596, 'joshua': 3504, 'actorslife': 169, 'o2academybham': 4689, 'jagtron1': 3372, 'selfs': 5801, 'piggiewhopays': 5003, 'adp': 191, 'ezlabor': 2255, 'web': 7132, 'portal': 5108, 'slowest': 6008, 'displeasure': 1856, 'bil': 735, 'pro': 5196, 'liars': 3790, 'foxnews': 2470, 'datguydark': 1643, 'opportunity': 4767, 'alour': 295, 'jkramon1313': 3454, 'clppng': 1289, 'tony': 6728, 'youredumb': 7392, 'liveyourownlife': 3858, 'upload': 6953, 'file': 2363, 'university': 6934, 'server': 5823, 'cursing': 1573, 'magicandfang': 3985, 'hungary': 3075, 'mo': 4282, 'pick': 4995, 'bias': 722, 'dancer': 1617, 'worldpower': 7286, 'kjwinston11': 3637, 'afr': 225, 'entitle': 2139, 'laureeenwillam': 3723, 'wi': 7212, 'sour': 6103, 'tiny': 6689, 'justly': 3553, 'education': 2036, 'howard': 3042, 'webb': 7133, 'sutton': 6390, 'craigan': 1502, 'icq': 3113, 'poison': 5072, 'kardashians': 3567, 'howsyourdaybin': 3046, 'offended': 4715, 'kessel': 3599, 'butthurt': 983, 'callumpinner': 1016, 'missblair140': 4253, 'awh': 542, 'tiff': 6672, 'kin': 3624, 'wilt': 7230, 'valiant': 6985, 'wrathful': 7307, 'dove': 1923, 'magnanimous': 3986, 'mouse': 4349, 'shakesphere': 5847, 'swiftshimada': 6407, 'sparkles': 6126, 'nipple': 4568, 'purposely': 5283, 'flaunt': 2404, 'sexualize': 5835, 'immodest': 3162, 'thehill': 6595, 'simple': 5945, 'analogy': 335, 'fixindk': 2392, 'revoltrazor': 5525, 'dragons1015': 1938, 'remedy0': 5463, 'switch': 6413, 'host': 3028, 'thurston': 6662, 'gallen': 2566, 'queensland': 5300, 'playmaker': 5046, 'johnathon': 3472, 'insist': 3253, 'barely': 610, 'derby': 1757, 'defination': 1706, 'yu': 7405, 'frightening': 2507, 'alcoholic': 268, 'desperately': 1768, 'muppet': 4386, 'jrwild1': 3522, 'stalker': 6195, 'tedleitner': 6506, 'jesseagler': 3438, 'interesting': 3283, 'goofball': 2702, 'umbrage': 6890, 'casual': 1087, 'vic': 7018, 'loueezecee': 3917, 'notetoself': 4628, 'katherinearabis': 3575, 'misogyny': 4249, 'pathological': 4897, 'meme': 4147, 'design': 1762, 'downeysduckle': 1925, 'susan_wilde': 6383, 'oohincense': 4756, 'thecanarysay': 6584, 'nigga': 4554, 'uhhhhh': 6879, 'jacqueline_69': 3369, 'gurl': 2798, 'tribute': 6795, 'snapme': 6039, 'nude': 4664, 'cumtribute': 1561, 'cock': 1307, 'noris_prosk8r2': 4611, 'risk': 5555, 'board': 812, 'digger_forum': 1813, 'synthetic': 6422, 'testosterone': 6548, 'male': 4005, 'sexist': 5833, 'ulsterwillfight': 6884, 'vanguardbear': 6992, 'pack': 4829, 'inbred': 3185, 'douglas_nat': 1922, 'one11north': 4745, 'french': 2494, 'plait': 5032, 'morn': 4329, 'stroppy': 6294, 'incurable': 3199, 'std': 6224, 'pregnancy': 5159, 'forlife': 2456, 'weirdsmell': 7152, 'charlotteriot': 1157, 'passion': 4885, 'mourning': 4348, 'stayhome': 6220, 'whyout': 7211, 'wiener': 7216, 'splash': 6155, 'dunk': 1990, 'paulsherard': 4915, 'margarethaynie': 4037, 'tony_tr3': 6729, 'programme': 5217, 'extremeworld': 2250, 'chusssss': 1232, 'plz': 5062, 'bus': 973, 'jelly': 3430, 'squirm': 6176, 'beneath': 696, 'hcllbent': 2892, 'grasp': 2737, 'loyalladymalfoy': 3933, 'scowl': 5761, 'pinch': 5009, 'rawhidevelvet': 5358, 'lululemonlime83': 3947, 'laureliver': 3725, 'fandom': 2294, 'broadly': 917, 'criminalize': 1523, 'jack': 3364, 'diesel': 1804, 'cnn_ai': 1301, 'alliex': 283, 'scrap': 5762, 'innocent': 3246, 'cooperate': 1453, 'amayyaaag': 306, 'smh': 6022, 'marlboro': 4055, 'alexis_maxwell': 273, '28': 56, 'saucepan': 5718, 'boiling': 820, 'garda': 2577, 'shaft': 5844, 'brush': 930, 'letterkenny': 3780, 'district': 1867, 'court': 1485, 'prominent': 5222, 'exasperate': 2212, 'peak': 4930, 'tgmbnquee': 6557, 'spontaneous': 6158, 'thatguy_dree': 6566, 'recklesswonder': 5397, 'summar_rose': 6335, 'turehndebushra': 6839, '_taaz_mania': 125, 'fxla': 2554, 'summar': 6334, 'russbully': 5656, '75p': 97, 'tube': 6831, 'smartie': 6016, 'plastic': 5038, 'lid': 3798, 'training': 6765, 'calculate': 1009, 'trample': 6766, 'dignity': 1814, 'escalate': 2158, 'confrontation': 1394, 'strangerpeace': 6273, 'ceremony': 1118, 'booze': 834, 'caffeine': 1003, 'homely': 2996, 'gold': 2692, 'channel': 1139, 'constantly': 1415, 'mikeburke91': 4212, 'heartbreake': 2904, 'ease': 2016, 'indignation': 3210, 'argh': 424, 'wasp': 7103, 'buzzing': 988, 'halp': 2830, 'homie': 2999, 'frustration': 2518, 'pastry': 4890, 'rupaulsdragrace': 5654, 'allstar': 287, 'rupaul': 5653, 'vengeance': 7003, 'contestant': 1427, 'tarts': 6464, 'alex': 271, 'growl': 2775, 'magicalmunicorn': 3984, 'suggest': 6326, 'meal': 4115, 'bean': 655, 'onion': 4750, 'garlic': 2581, 'takumasgirl': 6438, 'hffffhj': 2939, 'cardschatter': 1063, 'bills': 743, 'cordinator': 1457, 'difficult': 1810, 'azcardinal': 548, 'sleepnumber': 5996, 'overall': 4805, 'unimpressive': 6928, 'guest': 2787, 'jake_martin74': 3377, 'capo': 1052, 'rs': 5638, 'slightly': 6002, 'tøp': 6868, 'cancer': 1037, 'michelle': 4194, 'jared': 3395, 'thirstythursday': 6635, 'hydration': 3091, '305': 64, '912': 107, '4937': 77, 'itslit': 3353, 'miami': 4191, 'cassidyyy_0': 1084, 'johnmerro1': 3477, 'liberobility': 3795, 'dominos_uk': 1902, 'confimation': 1392, 'garthjenning': 2584, 'japanese': 3393, 'memorie_holiday': 4149, 'angryorchard': 357, 'wk': 7257, 'pokemon': 5075, 'elbow': 2051, 'rail': 5326, 'inch': 3187, 'bt_uk': 937, 'broadband': 915, 'shouldofgonewithvirgin': 5909, 'bickley_marotta': 726, 'yea': 7364, 'turnover': 6842, 'itgoeszaysway': 3349, 'identity': 3123, 'reveal': 5518, 'everton': 2193, 'americanair': 317, 'checkin': 1168, 'assign': 471, 'justinrow10': 3550, 'controller': 1435, 'tokyosexpolice': 6715, 'manga': 4018, 'overdone': 4807, 'leepg': 3755, 'nlike': 4580, 'cupboard': 1565, 'fancie': 2293, 'batternburg': 631, 'yoshi_onochin': 7382, 'canadian': 1033, 'lag': 3685, 'fixthisgame': 2393, 'sfvrefund': 5836, 'toast': 6705, 'bastard': 625, 'elitheprophet': 2064, 'chrismellini': 1216, 'thewengerway': 6624, 'majesticmata': 3993, 'happyandbashful': 2856, 'simper': 5944, 'repeat': 5479, 'yuck': 7406, 'inferno': 3223, 'humbleteej': 3070, 'courtneehendrix': 1486, 'montanashay': 4314, 'assure': 476, 'salt': 5695, 'brightly': 906, 'pedimghhms3': 4934, 'sickle': 5924, 'cell': 1110, 'pt': 5261, 'background': 561, 'jia': 3447, 'allergic': 282, 'bite': 760, 'amymarsden_wtf': 332, 'tcare': 6480, 'paper': 4860, 'showing': 5915, 'field': 2355, 'denver': 1741, 'beyoncé': 716, 'tfl': 6555, 'obstruction': 4698, 'oncoming': 4742, 'traffic': 6760, 'vehs': 7001, 'swerve': 6406, 'jbanks88': 3411, 'score': 5748, 'redzone': 5414, 'trip': 6798, 'lbs': 3735, 'td': 6482, 'un_women': 6892, 'canadianpm': 1034, 'trudeau': 6811, 'endulge': 2108, 'preaching': 5154, 'ad': 173, 'hominem': 3001, 'quanitfye': 5297, 'wwhhyyy': 7326, 'reluctantly': 5457, 'biiitttccchhhhhh': 733, 'bell_support': 689, 'fibe': 2351, 'arrange': 438, 'fedup': 2329, 'katrinadougan': 3577, 'roght': 5597, 'ridiculous': 5541, 'gargle': 2580, 'wound': 7301, 'heels': 2917, 'drunkjesus': 1973, 'rt': 5640, 'wisdom': 7247, 'potus2016': 5128, 'vibe': 7017, 'whisper': 7195, 'childish': 1194, 'gambino': 2568, 'dickpic': 1802, 'cocktribute': 1309, 'numb': 4665, 'pete': 4969, 'burns': 969, 'rvagamebreak': 5664, 'gahsbasketball': 2562, 'gajagsfootball': 2564, 'ngo': 4527, 'jags': 3371, 'israeli': 3343, 'behave': 679, 'gentleman': 2612, 'haileywiggin': 2821, 'flenner_alisha': 2409, 'muscle': 4393, 'chic': 1187, 'fil': 2362, 'yummy': 7409, 'hannahfjames': 2846, 'distraught': 1866, 'pxrfectpeach': 5289, 'jonnyp_43': 3494, 'medicnow': 4125, 'cardiac': 1061, 'medchat': 4122, 'radiox': 5321, 'chrismoyle': 1217, 'xph': 7346, 'clash': 1255, 'titan': 6696, 'titans': 6698, 'wants': 7086, 'this': 6636, 'defense': 1704, 'crimewatch': 1522, 'drift': 1954, 'boutta': 851, '50': 79, 'haney': 2840, 'stars': 6206, 'showcase': 5913, 'frisco': 2509, 'tx': 6860, 'kgb': 3606, 'withdraw': 7251, 'thatant': 6563, 'football_pollss': 2442, 'villa': 7029, 'jamiesmart': 3387, 'huh': 3063, 'fault': 2311, 'sulk': 6331, 'dak2future': 1602, 'decoration': 1690, 'stefano': 6232, 'grim': 2758, 'indignity': 3211, 'riverajose39': 5559, 'renewtherivalry': 5473, 'imyourdaddy': 3181, 'cantbeatme': 1045, 'tater': 6469, 'lyssababe615': 3962, 'wen': 7162, 'emotion': 2090, 'constant': 1414, 'waiting': 7071, 'ritujai18874': 5557, 'brian5or6': 893, 'button': 984, 'accessibility': 148, 'nwhen': 4675, 'innovation': 3247, 'fuckery': 2526, 'iphonephonehome': 3313, 'sober': 6051, 'thealexvalle': 6573, 'tio': 6690, 'valle': 6987, 'wnf': 7261, 'tier': 6671, 'hanktastic1776': 2843, 'sue51684': 6321, 'eternalritewe': 2174, 'pen': 4937, 'nffc': 4518, 'easports_mut': 2017, 'deptch': 1755, 'invalid': 3301, 'glitch': 2669, 'glasgow': 2662, 'girls': 2653, 'tonic': 6726, 'eclectic': 2023, 'range': 5336, 'barbed': 605, 'humour': 3073, 'eloquence': 2069, 'tdsnation': 6483, 'reminder': 5466, 'approach': 413, 'acknowledge': 160, 'existence': 2228, 'concur': 1385, 'government': 2720, 'expire': 2238, 'submit': 6310, 'shod_jpg': 5895, 'xo': 7345, 'library': 3796, 'warning': 7093, 'scottcarmichae1': 5757, 'murican_stuff': 4388, 'elect': 2053, 'wae': 7065, 'nutt': 4671, 'dain': 1601, 'usual': 6977, 'horoscope': 3018, 'clue': 1293, 'bon': 829, 'allume': 288, 'omgitsbrittanyy': 4739, 'wittlowry': 7255, 'thewordofgod': 6626, 'preach': 5153, 'correctly': 1469, 'comforttheafflicte': 1348, 'afflictthecomfortable': 217, 'tellthetruth': 6519, 'aboutsin': 138, 'embarrassment': 2075, 'ntime': 4658, 'sixth': 5969, 'skin': 5976, 'adamrichards_10': 175, 'moyes': 4357, 'veygraphic': 7016, 'unfollow': 6920, 'troll': 6803, 'trolling': 6804, 'collateral': 1330, 'damage': 1606, 'frustrate': 2515, 'misplace': 4250, 'adam': 174, 'bull': 954, 'xblademania': 7333, 'ankle': 368, 'wrist': 7311, 'specific': 6136, 'detail': 1774, 'aidy': 253, 'physics': 4992, 'naidy': 4425, 'tristan': 6801, 'react': 5367, 'uri': 6963, 'dump': 1988, 'gasoline': 2587, 'excel': 2213, 'violent': 7036, 'upgrade': 6950, 'aaaaarrrrgghhh': 128, 'iwanttocancel': 3357, 'delta': 1721, 'correction': 1468, '26': 54, 'flt': 2421, '1449': 21, 'depressedstride': 1751, 'storm': 6266, 'thunder': 6659, 'esraalajmy': 2166, 'ty': 6861, 'practical': 5142, 'gcse': 2597, 'exam': 2210, 'stem': 6234, 'iucifaer': 3355, 'hotpointuk': 3033, 'appalling': 401, 'faulty': 2313, 'dryer': 1975, 'replacement': 5481, 'wks': 7258, 'part': 4874, 'engineer': 2117, 'tttinplay': 6829, 'lowetide': 3931, 'hockey': 2981, 'tournament': 6748, 'marktobyrne': 4054, 'wholefood': 7203, 'amazon': 309, 'cheapair': 1165, 'silver': 5935, 'bitcoin': 758, 'evan_mcmullin': 2186, 'campaign': 1026, 'pit': 5019, 'ressssst': 5504, 'tweetin': 6852, 'likethat': 3818, 'brain': 865, 'wire': 7244, 'lightbulb': 3812, 'csnhayes': 1548, 'understandable': 6914, 'mick727xd': 4196, 'moaning': 4284, '7th': 99, 'bojackhorseman': 822, 'depressed': 1750, 'automatically': 519, 'squid': 6175, 'xbox1': 7335, 'rspca': 5639, 'mofspade': 4297, 'gene': 2604, 'slushie': 6010, 'livid': 3859, 'assess': 470, 'tenderhearte': 6526, 'invigorate': 3303, 'mechanism': 4120, 'nin': 4565, 'tragedy': 6761, 'pander': 4852, 'hmu': 2980, 'sharadk7': 5857, 'await': 532, 'avataar': 524, 'rowdy': 5633, 'kagehime3': 3558, 'starve': 6210, 'def': 1698, 'freaking': 2485, 'writerslife': 7315, 'writerproblem': 7314, 'chriswarcraft': 1225, 'species': 6135, 'cf': 1124, 'jr': 3520, 'skittles': 5979, 'snack': 6033, 'gop': 2705, 'lizardscum': 3862, 'radiatezen': 5317, 'receiving': 5393, 'vegan': 7000, 'condemn': 1386, 'fearsome': 2326, 'fawn': 2320, 'bungie': 962, 'dam': 1605, 'siva': 5967, 'fragment': 2476, 'fellwinters': 2338, 'mountain': 4344, 'victoriarghhh': 7021, 'tilt': 6678, 'southernrailuk': 6109, 'streatham': 6277, 'cmn': 1295, 'clap': 1252, 'junc': 3544, 'industrial': 3215, 'revolution': 5526, 'esque': 2165, 'footwear': 2443, 'tryin': 6825, 'tomwilcox77': 6722, 'mattgrime': 4083, 'kruzer': 3658, 'steal': 6226, 'crota': 1536, 'flawlessly': 2406, 'greatfallvoyagr': 2747, 'sum': 6333, 'congrats': 1399, 'tomourssuck': 6720, 'prayinsnotcancer': 5151, 'mia': 4190, 'barrier': 611, 'laurascoe': 3722, 'pharah_amari': 4975, 'reyes': 5528, 'snarl': 6040, 'frustrated': 2516, 'steel': 6229, 'claw': 1263, 'flex': 2411, 'dangerously': 1623, 'utter': 6979, 'damning': 1611, 'grace_thomas473': 2724, 'lately': 3713, 'ralph': 5331, 'waldo': 7075, 'emerson': 2079, 'asian': 456, 'noseriously': 4619, 'inequality': 3220, 'justice': 3547, 'existent': 2229, 'inter': 3279, 'prejudiced': 5161, 'outsider': 4802, 'felisariel': 2335, 'gypsydragoness': 2808, 'dragoness': 1937, 'nostril': 4622, 'nod': 4595, 'blewberry02cp': 791, 'income': 3193, 'rmcunliffe': 5567, 'cybernats': 1584, 'foam': 2427, 'realobietrice': 5384, 'lyric': 3960, 'smokey': 6028, 'adamsinger': 176, 'bubble': 941, 'smalloy_lwos': 6014, 'seam': 5774, 'sua': 6306, 'saraluvvxxx': 5712, 'whaaaat': 7176, 'jealous': 3418, 'conflicted': 1393, 'bitchesthecat': 757, 'teef': 6509, 'limit': 3827, 'toucherandrich': 6743, 'diver': 1874, 'steele': 6230, 'bar': 600, 'olympic': 4737, 'smackdown': 6012, 'jasonjordanjj': 3399, 'wwegable': 7325, 'sohurt': 6063, 'lgbtq': 3785, 'inform': 3230, 'entertain': 2132, 'bible': 723, 'sword': 6416, 'whore': 7206, 'mall': 4007, 'babe': 556, 'general': 2605, 'indefensible': 3200, '_mrs_peel': 124, 'lp_lisa': 3934, 'paulrgoulden': 4912, 'lisaluscious': 3841, 'baker': 580, 'frustrating': 2517, 'sirenja': 5959, 'jaxofbo': 3405, 'intend': 3277, 'paulrovla': 4913, 'result': 5509, 'sob': 6050, 'rant': 5338, 'finnick': 2380, 'cinema': 1237, 'aspect': 466, 'consciousness': 1407, 'apathy': 395, 'sentimentality': 5812, 'detector': 1775, 'dust': 1994, 'claymakerbigsi': 1264, 'toghar11': 6712, 'scott_mulligan': 5756, 'boxingfanatic': 856, 'fucker': 2525, 'proper': 5231, '4min': 78, 'smrtruinslive': 6031, 'politicaltigre': 5085, 'saifullah_uchvi': 5687, 'ji': 3446, 'dammit': 1609, 'tmobile': 6701, 'whay': 7183, 'mobilefail': 4287, 'bekind': 684, 'grumpy_pump': 2779, 'involuntarily': 3305, 'markk1872': 4052, 'kristiann1125': 3656, 'misterak47': 4266, 'bigot': 731, 'resort': 5497, 'fag': 2269, 'brooklynbreeder': 927, 'cleaner': 1267, 'hiya2247': 2976, 'horny': 3017, 'porn': 5105, 'naked': 4428, 'projection': 5220, 'poisonous': 5073, 'snake': 6035, 'patronus': 4906, 'tank': 6454, 'creat': 1512, 'rubberbath': 5643, 'iamsj': 3100, 'bushes': 975, 'slap': 5989, 'lizombi': 3864, 'uncomfortable': 6905, 'technician': 6501, 'scorned': 5751, 'bureaucrat': 965, 'scorn': 5750, 'milton': 4226, 'friedman': 2501, 'throwback': 6654, 'undifferentiated': 6915, 'patent': 4893, 'braininess': 866, 'whyanewg': 7210, 'cnnnewsroom': 1302, 'brookebcnn': 926, 'cognitive': 1317, 'dissonance': 1862, 'incident': 3188, 'pamphlet': 4850, '23': 49, 'noworkforme': 4638, 'normalize': 4614, 'frog': 2511, 'arsenal': 443, 'giroud': 2655, 'beard': 657, 'thegenghisjon': 6591, 'research': 5490, 'brietbart': 903, 'indiamissingindira': 3204, 'solve': 6069, 'bank': 595, 'nto': 4659, 'starts': 6209, 'nchase': 4466, 'nwrdsmth': 4676, 'lericoo': 3768, '35': 69, 'germany': 2623, 'russellhartness': 5657, 'mariner': 4044, 'bluejay': 807, 'wrongdoing': 7318, 'grrr': 2777, 'kailyew': 3561, 'hahah': 2815, 'transgender': 6771, 'obnoxiously': 4695, 'asf': 450, 'rosskemp': 5627, 'jbiggy13': 3412, 'tonecapone111': 6724, 'martial': 4062, 'subway': 6311, 'robart': 5574, 'chipotle': 1201, 'mysbananen': 4411, 'hc': 2890, 'rng': 5569, 'enrage': 2128, 'keithscott': 3589, 'warrant': 7094, 'talktalkcare': 6448, 'annoyed': 374, 'martinclouseau': 4064, 'ceo': 1116, 'charity': 1149, 'reasonably': 5389, 'eduardo_lac': 2034, 'crudely': 1539, 'tension': 6528, 'dp3520': 1932, 'tuber': 6832, 'available': 522, 'now': 4636, 'nliquid': 4582, 'stick': 6249, 'cone': 1389, 'teigngardener': 6514, 'cevokin': 1123, 'gardengirllucy': 2579, 'voke': 7055, 'fuming': 2537, 'vodka': 7050, 'cbsbigbrother': 1099, 'pathetic': 4896, 'hated': 2875, 'showmance': 5916, 'uglycry': 6876, 'groovybruce': 2768, 'larsrjs44': 3707, 'ashvsevildead': 455, 'groovy': 2767, 'decency': 1684, 'vancityreynolds': 6990, 'emilieragann': 2080, 'tongue': 6725, 'natalie_bloomer': 4446, 'journalism': 3507, '500k': 81, '50k': 82, '10k': 11, 'shouldofvotedfornicole': 5910, 'poorly': 5096, 'freeze': 2492, 'spill': 6149, 'myself': 4412, 'gets': 2628, 'purpose': 5282, 'donnymurray': 1911, 'gettin': 2630, 'situ': 5965, 'moan': 4283, 'polis': 5080, 'snp': 6046, 'snitch': 6043, 'azerbaijan': 549, 'baku': 582, 'prevent': 5178, 'armenian': 433, 'matt_lat': 4081, 'skittle': 5978, 'twat': 6847, 'rattata': 5353, 'pokemongo': 5076, 'bassekraah': 621, 'sunilddesai': 6346, 'jyoti1013': 3557, 'archnahr': 421, 'a2': 127, 'isolation': 3340, 'lifenabler': 3806, 'cass_pennant': 1081, 'frankbrunoboxer': 2480, 'westhamutd': 7172, 'davidgold': 1650, 'maccafrank': 3966, 'jonjoheuerman': 3491, 'westhammagazine': 7170, 'casualmind': 1088, 'karren_brady': 3571, 'joes': 3464, 'singe': 5951, 'donke': 1907, 'lion': 3837, 'potus': 5127, 'cavalierly': 1094, 'thedemocrats': 6586, 'bi_science': 721, 'opioid': 4766, 'rapid': 5342, 'pill': 5006, 'plague': 5029, 'pulse': 5267, 'impairment': 3168, 'ist': 3345, 'stacked': 6187, 'usage': 6968, 'street': 6278, 'ingestion': 3233, 'demo': 1729, 'cameronnewton': 1023, 'colinkaepernick': 1325, 'unjust': 6935, 'keithlamontscott': 3588, 'carolina': 1070, 'speakout': 6132, 'tobyirish1': 6708, 'teamnicole': 6495, 'republicans': 5486, 'graham': 2729, 'flake': 2397, 'sasse': 5715, 'hiney': 2964, 'kissing': 3633, 'waggle': 7067, 'crap': 1504, 'gon': 2696, 'dint': 1818, 'clothe': 1285, 'workout': 7281, 'kicking': 3610, 'uncle_brown22': 6903, 'notorious': 4631, 'that': 6562, 'ngive': 4526, 'hurts': 3085, 'haikuchallenge': 2820, 'poetry': 5068, 'flat': 2401, 'potential': 5124, 'doggie': 1897, 'landlord': 3699, 'doglover': 1898, 'rescuedog': 5489, 'interception225': 3280, 'argument': 426, 'simondawkins23': 5942, 'titchlar81': 6699, 'click': 1275, 'laray_jenkins2': 3705, 'sportsinsight': 6164, 'parentsofaddicts': 4868, 'wellness': 7158, 'al': 263, 'anon': 378, 'speaker': 6130, 'andrew_jrt': 347, 'semi': 5804, 'auto': 515, 'essentially': 2169, 'tommyrosen': 6718, 'intheroomsceo': 3293, 'cate_baily': 1091, 'mjpwgame': 4276, 'flaming': 2398, 'reject': 5445, 'macmel19': 3974, 'ed': 2027, '7y': 101, 'spectacle': 6138, 'youtuber': 7399, 'severe': 5830, 'anorexia': 379, 'thejuanwilliam': 6600, 'unarmed': 6895, 'deaf': 1671, 'clt': 1290, 'cup': 1564, 'tea': 6485, 'foil': 2431, 'janice': 3391, 'griffith': 2757, 'atheist_taco': 484, 'drjillstein': 1963, 'cuck': 1553, 'rank': 5337, 'youth': 7395, 'harambe': 2859, 'plasma_assassin': 5037, 'armoureddove': 434, 'ballsony0u': 588, 'dreamsandpocky': 1951, 'canon': 1044, 'buckynat': 945, 'clintwanda': 1280, 'adrian': 195, 'pouting': 5133, 'supergold2002': 6356, 'terence': 6530, 'stk': 6255, 'expensive': 2236, 'slim': 6003, 'lethalweaponfox': 3776, 'damonkwayans': 1613, 'claynecrawford': 1265, 'jordanabrewster': 3498, 'ftw': 2520, 'motif': 4339, 'talklikeapirate': 6446, 'pirate': 5016, 'minion': 4235, 'authentic': 512, 'afghan': 220, 'restaurant': 5506, 'nj': 4571, 'latimes': 3716, 'nbcnews': 4461, 'irritated': 3328, 'makin': 4000, 'ramos': 5333, 'hater': 2876, 'telegram': 6515, 'freezing': 2493, 'se': 5772, 'near': 4477, 'unfortunately': 6923, 'bret': 891, 'cena': 1112, 'balor': 590, 'jackmegawphoto': 3368, 'attach': 496, 'estate': 2170, 'camera': 1022, 'emmahobbs1': 2085, 'postcode': 5118, 'compact': 1361, 'burden': 964, 'weight': 7149, 'transmutation': 6774, 'jordysloan': 3501, 'jordy': 3500, 'matthew_meadows': 4085, 'pereg': 4945, 'parris': 4872, 'looting': 3903, 'positively': 5112, 'impact': 3167, 'ritee': 5556, 'wot': 7299, 'happond': 2851, 'moor': 4323, 'plese': 5055, 'eval': 2185, 'deed': 1694, 'andy1129298': 350, 'hopheaddarrell': 3015, 'neighbor': 4490, 'professor': 5212, 'introduce': 3298, 'nhi': 4535, 'sun': 6340, 'engulf': 2120, 'explosion': 2240, 'relunrelate': 5458, 'sailer': 5689, 'mars': 4058, 'liberal': 3793, 'affect': 214, 'infect': 3221, 'roguefatale': 5598, 'psycho': 5258, 'sane': 5707, 'gotham': 2714, 'sherri': 5876, 'martel': 4061, 'baileygazteacow': 576, 'sarahhiggins90': 5711, 'lokiscottishrap': 3884, 'loki': 3883, 'battle': 633, 'surely': 6368, 'nickmercs': 4545, 'cam': 1020, 'roid': 5601, 'thnx': 6639, 'thatsmyluck': 6567, 'kclarksc2': 3582, 'johamassc2': 3469, 'faggy': 2270, 'words': 7278, 'lingys': 3835, 'pretendinghesok': 5176, 'ruok': 5651, 'lindastein1': 3831, 'mcdanno': 4099, 'kenny': 3594, 'born': 841, 'washington': 7099, 'nkenny': 4575, 'bear': 656, 'patience': 4898, 'conversation': 1438, 'mintmilana': 4238, 'crossfire': 1533, 'cppsmeofficial': 1497, 'mmunro91': 4281, 'truthful': 6822, 'why': 7209, 'baffled': 572, 'strangefacesla': 6271, 'account': 153, 'withdrawal': 7252, 'emotional': 2091, 'huffingtonpost': 3060, 'christelle_c': 1220, 'wick': 7213, 'annoyance': 373, 'slider': 6000, 'affective': 215, 'thebabybomber': 6578, 'yankee': 7355, 'lmench': 3871, 'fattening': 2310, 'sandwich': 5706, 'coronary': 1465, 'disease': 1842, 'cmon': 1297, 'scrum': 5768, 'hegemonist': 2919, 'weekday': 7145, 'schedule': 5739, 'pereira': 4947, 'robert7019': 5577, 'itzamadhouse': 3354, 'skyler12388': 5983, 'ralso': 5332, 'belief': 686, '1beartruth': 34, 'standard': 6199, '2k': 60, 'addictive': 179, 'ashitanojoe55': 452, 'mkatju': 4277, 'logical': 3881, 'pussy': 5286, 'kylemuir17': 3672, 'ealvarezfight': 2009, 'danawhite': 1615, 'thenotoriousmma': 6607, 'belt': 693, 'aldo': 269, 'callofduty': 1015, '80': 102, 'cod': 1311, 'ggreenwald': 2634, 'bullshit': 957, 'con': 1375, 'iranians': 3317, 'byu': 994, '24': 50, 'wvu': 7324, 'gyimah': 2806, 'operate': 4763, 'spirit': 6151, 'unforgiving': 6921, 'teen': 6510, 'haircut': 2823, 'safely': 5683, 'terencecrutcher': 6531, 'suplift': 6359, 'amontanaw': 323, 'sink': 5956, 'monsta': 4310, 'teddy': 6505, 'british_airway': 912, 'concorde': 1384, 'lounge': 3921, 'terminal': 6534, 'jfk': 3445, 'sadden': 5675, 'dismal': 1851, 'depressing': 1752, 'log': 3880, 'wonk': 7272, 'proposal': 5234, 'eliminate': 2061, 'subminimum': 6309, 'wage': 7066, 'hiring': 2969, 'meaningful': 4118, 'chaotic': 1142, 'yukkikuma_cos': 7408, 'alot': 294, 'lifer': 3809, 'menforchoice': 4152, 'criticize': 1529, 'foster': 2465, 'adoption': 188, 'dull': 1985, 'the40bar': 6571, '8th': 105, 'wreckinso': 7308, 'keeptalkin': 3586, 'the40': 6570, 'brandonmanitoba': 869, 'rock': 5586, 'blue': 806, 'imediately': 3158, 'getthefirelit': 2629, 'bitcoinbelle': 759, 'pamelawjd': 4848, 'mournful': 4347, 'verse': 7011, 'xaninaany': 7331, 'leighsteinberg': 3761, 'april': 417, '25th': 53, '2010': 39, 'prouder': 5245, 'mixture': 4272, 'last': 3710, 'ccgaryrobert': 1101, 'policing': 5078, 'whileyouweresleepe': 7189, 'insomnia': 3254, 'rocktheretweet': 5593, 'netflix': 4501, 'beakmoo': 654, 'hmmmm': 2979, 'lamination': 3694, 'maturity': 4090, 'grade': 2725, 'jensenackle': 3434, 'jarpad': 3397, 'tee': 6508, 'droop': 1966, 'surfer': 6370, 'justsaye': 3554, 'arizernial': 430, 'nesquikmill': 4499, 'soldier': 6065, 'zone': 7424, 'engagement': 2115, 'cousin': 1487, 'nforget': 4522, 'hungover': 3078, 'quotes': 5310, 'quotestoliveby': 5311, 'roach': 5570, 'sg16': 5838, 'kickittomehigh': 3612, 'nswgaa': 4648, 'statevstate': 6215, 'mdw': 4111, 'layover': 3732, 'slc': 5993, 'bail': 575, 'southwestair': 6112, 'wannagetaway': 7084, 'contest': 1426, 'cont': 1419, 'weary': 7130, 'headline': 2896, 'trend': 6790, 'billclinton': 738, 'cgi2016': 1126, 'inluvwithaghost': 3243, 'intensely': 3278, 'np': 4639, 'nu': 4662, 'uncontrollable': 6907, 'ns': 4643, 'fantasy': 2298, 'yearning': 7367, 'j__a__i': 3363, 'plumber': 5060, 'conundrum': 1436, 'hoop': 3011, 'depress': 1749, 'heartbeat': 2902, 'stumble': 6302, 'shape': 5856, 'urgent': 6962, 'gloom': 2674, 'magic': 3983, 'china': 1200, 'fraudster': 2483, 'lana': 3696, 'mystery': 4414, 'newmusic': 4513, 'newsingle': 4516, 'newalbum': 4508, 'popmusic': 5100, 'pine': 5011, 'colada': 1321, 'starburst': 6204, 'batmantelltaleserie': 629, 'bolain_branden': 825, 'grimstoyshow': 2760, 'matt': 4080, 'hardy': 2863, 'sentinalsmom': 5813, 'baal': 555, 'dash': 1640, 'boost': 831, 'void': 7052, 'her': 2929, 'therapist': 6612, 'astro': 480, 'horribly': 3020, 'despondent': 1771, 'lauraroyden': 3721, 'space_gayz': 6118, 'melancholy': 4139, 'slice': 5998, 'darksocial': 1637, 'colinzalewski': 1327, 'liftsocial': 3810, 'contribute': 1433, 'society': 6059, 'thebennatan': 6581, 'szn': 6427, 'nigerialng': 4553, 'tonyattah': 6730, 'lestweforget': 3772, 'yrs': 7402, 'graduate': 2728, 'trainee': 6764, 'recruitment': 5406, 'conclude': 1382, 'wewait': 7174, 'plantingaseed': 5036, 'recovery': 5403, 'addiction': 178, 'poll': 5088, 'painful': 4836, 'bethechange': 712, 'ticcikasie1': 6664, 'sadly': 5678, 'teacher': 6487, 'define': 1707, 'opposition': 4768, 'clouded': 1287, 'phenomena': 4976, 'gloomy': 2675, 'village': 7030, 'hungergamesmockingjay2': 3077, 'disappointed': 1830, 'toomuchhype': 6733, 'thecatcampbell': 6585, 'ravenclaw': 5356, 'shouldhavebeenhufflepuff': 5908, 'ourgirl': 4792, 'michkeegan': 4195, 'benaldridge07': 694, 'ourgirlwatch': 4793, 'bokunogio': 824, 'momma': 4302, 'soprano': 6090, 'trueryuga': 6813, 'mlc': 4280, 'hs': 3052, 'knee': 3642, 'lemme': 3763, 'mlastandard': 4278, 'readership': 5371, 'grey': 2753, 'anatomy': 338, 'thixotropic': 6638, 'sudden': 6318, 'downfrontartist': 1926, 'defeat': 1700, 'cisco': 1240, '642': 91, '188': 27, 'pdf': 4925, 'ahid': 246, 'comeback': 1344, 'nevery': 4505, 'magrove86mark': 3989, 'clareftballnews': 1253, 'glove': 2678, 'mcfc': 4103, 'ctid': 1549, 'inconsolable': 3194, 'grieve': 2756, 'sigh': 5926, 'saddness': 5677, 'afterellen': 229, 'shitsuck': 5886, 'rosalilium': 5625, 'mourn': 4346, 'eun': 2183, 'dont': 1912, 'nyall': 4678, 'yesnicksearcy': 7376, 'counterparty': 1478, 'trumpie': 6816, 'pretend': 5175, 'purely': 5279, 'bojan': 823, 'muni': 4385, 'nboth': 4463, 'normally': 4615, 'deject': 1714, 'dsp': 1976, 'yters': 7404, 'viewership': 7026, '2012': 40, 'capture': 1056, 'jessimccree': 3441, 'gabriel': 2557, 'conciousness': 1381, 'pessimist': 4968, 'sail': 5688, 'uncharted': 6901, 'doorway': 1917, 'keller': 3590, 'lgbt': 3784, 'identify': 3122, 'valid': 6986, 'buddha': 946, 'sobriety': 6055, 'mets': 4184, 'jdegrom19': 3416, 'mandyjohnson': 4017, 'honest': 3003, 'southern': 6108, 'bint': 747, 'selasi': 5796, 'thi': 6628, 'sadnne': 5680, 'onefumi': 4746, 'surprised': 6375, 'sa': 5670, 'downseung': 1929, 'hrmanagement': 3050, 'expediency': 2235, 'encroach': 2100, 'rolling': 5608, 'credible': 1515, 'workplaceviolenceprevention': 7283, 'beenishparvez': 669, 'salaam': 5692, 'am': 303, 'allah': 281, 'protect': 5241, 'illness': 3146, 'nazr': 4460, 'aameen': 129, 'blessed': 789, 'darkness': 1636, 'despondency': 1770, 'sc': 5727, 'memorize': 4150, 'lam': 3688, 'ldhranousby': 3736, 'robharris': 5581, 'inclined': 3190, 'faculty': 2268, 'pret': 5174, 'reusable': 5516, 'airport': 257, 'nwe': 4673, 'hiding': 2944, 'nlong': 4583, 'overdue': 4809, 'final': 2369, 'vestige': 7014, 'childhood': 1193, 'shoal': 5891, 'tracy': 6757, 'chapman': 1144, 'dayjob': 1659, 'naynay_whore': 4459, 'luckily': 3943, 'ashleighjessica': 453, 'zacflint1': 7411, 'messageboard': 4171, 'lonley': 3895, 'startingover': 6208, 'hoggybear95': 2986, 'bantz': 597, 'notch': 4625, 'ambe': 310, 'ongoing': 4748, 'shitpost': 5885, 'hijack': 2950, 'vaguely': 6982, 'memer': 4148, 'shameless': 5852, 'sunshine': 6353, 'yourewelcome': 7393, 'nani': 4434, 'rafael': 5322, 'rvp': 5665, 'donnietrumpet': 1910, 'contain': 1422, 'economic': 2024, 'engine': 2116, 'sustainability': 6389, 'joel': 3461, 'makower': 4002, 'markmykleby': 4053, 'vergecon': 7006, 'newgrandstrategy': 4511, 'pricesjrw5614': 5180, 'ren102e906': 5470, 'slb42jcb': 5992, 'swoozyqyah': 6415, 'leahskahn': 3744, 'lackadaisical': 3679, 'bbctomenglish': 641, 'timessport': 6684, 'franglaise': 2479, 'punjabifie': 5273, 'porkistan': 5104, 'terribly': 6537, '65': 92, 'intervation': 3290, 'fredsirieix': 2487, 'peckham': 4932, 'london': 3888, 'guru': 2800, 'lindafrum': 3830, 'chipotletweet': 1202, 'gabe': 2556, 'tit': 6695, 'california': 1011, 'sissifie': 5961, 'dispirit': 1854, 'attestative': 504, 'alphanumeric': 296, 'code': 1312, 'wyrdljpyu': 7327, 'dissociating': 1861, 'equal': 2150, 'reikimuse': 5440, 'cptsd': 1498, 'bpd': 859, 'pity': 5023, 'pollute': 5089, 'syrinx': 6424, 'notebook': 4627, 'shadow': 5841, 'reecetop10': 5415, 'bk': 766, 'midfield': 4203, 'flair': 2396, 'entertainer': 2133, 'reshuffle': 5494, 'predictable': 5157, 'clearwaterjazz': 1270, 'stage': 6190, 'jazzholiday': 3409, 'riesbrother': 5542, 'jam': 3379, 'truck': 6810, 'removal': 5468, 'lamentable': 3693, 'ajvksk': 259, 'rut': 5661, 'needmotivation': 4483, 'drown': 1968, 'falure': 2285, 'worthless': 7298, 'classical': 1258, 'ancient': 341, 'permanently': 4956, 'suffer': 6323, 'perfection': 4949, 'fortunate': 2461, 'mixed': 4269, 'montreal': 4316, 'punkrock': 5275, 'postpunk': 5120, 'flaw': 2405, 'grrmspeake': 2776, 'psychology': 5259, 'messyourself': 4174, 'hamzakhawaja99': 2836, 'othrcarl': 4789, 'ix_sw': 3359, 'purenift': 5280, 'smutty': 6032, 'abhor': 135, 'somber': 6070, 'lost': 3911, 'dharmainitiative': 1794, '12years': 17, '22september2004': 48, 'oceanic815': 4704, 'mattwinton1': 4088, 'marisa_enbot': 4046, 'somewhat': 6079, 'propaganda': 5229, 'childood': 1196, 'permanent': 4955, 'underlie': 6910, 'wrinkle': 7310, 'merely': 4164, 'mark': 4047, 'twain': 6846, 'forlorn': 2457, 'coincidence': 1319, 'objective': 4693, 'captureyourmind': 1057, 'findgodnow': 2373, 'flee': 2408, 'adversity': 203, 'chillin': 1199, 'lake': 3686, 'moron': 4333, 'u23': 6870, 'smfh': 6021, 'absence': 140, 'presence': 5168, 'rosalarian': 5624, 'sanitizer': 5708, 'juspopmolly': 3546, 'cocaineandtacos': 1306, 'chaseandstatus': 1161, 'mega': 4132, 'sundownuk': 6345, 'autumnalequinox': 521, 'showroom': 5917, 'wirral': 7245, 'sunny': 6350, 'p0stcap': 4825, 'fancam': 2292, 'scfc': 5737, 'tbptv': 6479, 'clan': 1251, 'disheartened': 1849, 'booth': 833, 'livingwellihc': 3861, 'register': 5435, 'halifax': 2827, 'whip': 7193, 'damper': 1614, 'ray': 5360, 'kickinnnnn': 3611, 'breath': 882, 'acceptable': 146, 'humorous': 3072, 'bbq': 645, 'oriole': 4781, 'contention': 1424, 'redsox': 5412, 'camden': 1021, 'brians': 895, 'blackeyednblue': 772, 'onthehorn500': 4753, 'nigella': 4551, 'lawsons': 3729, 'scout': 5760, 'gem': 2600, 'john_hanna': 3471, 'dreary': 1952, 'colder': 1323, 'lippie': 3839, 'scarf': 5732, 'sweater': 6398, 'wolfcreek': 7265, 'sponsor': 6156, 'tourist': 6747, 'australia': 511, 'stayathome': 6219, 'dontvisit': 1914, 'theresa_talbot': 6616, 'fleurrbie': 2410, 'coope': 1452, 'natural': 4452, 'princesstaye': 5187, 'suicide': 6329, 'stitch': 6254, 'cutting': 1582, 'instrumental': 3270, 'artist': 448, 'meghan': 4135, 'keyboard': 3603, 'fundamental': 2540, 'hurry': 3082, 'november': 4635, 'wdwradio': 7122, 'cube': 1552, '9to5life': 110, 'bowl': 853, 'processor': 5204, 'cuisinart': 1556, 'jaime': 3374, 'garcia': 2576, 'outing': 4796, 'encouraging': 2099, 'judo': 3535, 'tis': 6694, 'nfriend': 4523, 'teenager': 6512, 'shakespeare': 5846, 'reincarnation': 5442, 'nim': 4564, 'dumbass': 1987, 'jboughton93': 3413, 'donate': 1904, 'endorse': 2107, '08': 2, 'rights': 5545, 'era': 2154, 'wdwnt': 7121, 'spooky': 6159, 'fortwilderness': 2462, 'campground': 1027, 'disneyworld': 1853, 'powerfailure': 5136, 'christianjmay': 1221, 'cityam': 1246, 'nconfidence': 4469, 'continual': 1428, 'doom': 1915, 'verge': 7005, 'thesgjournal': 6620, 'littlestokepark': 3850, 'prioritise': 5190, 'blacktolive': 775, 'fucken': 2524, 'azi': 550, 'havnt': 2887, 'tyson': 6866, 'jamiesonhelen': 3388, 'pessimism': 4967, 'le': 3737, 'xdddd': 7338, 'loner': 3893, 'tate': 6468, 'willow': 7229, 'badger': 569, 'honestandfrank': 3004, 'billcosby': 739, 'barb': 602, 'consent': 1408, 'postpone': 5119, 'sale': 5693, 'gilmour': 2645, 'gig': 2643, 'mississippi': 4259, 'pinkfloyd': 5015, 'theblue': 6582, 'davidgilmour': 1649, 'openthedoorradi': 4762, 'crock': 1530, 'blog': 800, 'indiemusic': 3209, 'nachos': 4419, 'odeoncinemas': 4711, 'bigbosspeltonen': 730, 'nlikewise': 4581, 'producer': 5207, 'murky': 4389, 'mixtape': 4271, 'nthe': 4653, 'recession': 5395, 'darkest': 1635, 'html5': 3054, 'webdesign': 7135, 'rtblitz': 5641, 'finovate': 2381, 'wlsb': 7260, 'andrewmcmeme': 348, 'insightful': 3251, 'teacherly': 6488, 'kickass': 3609, 'sav': 5719, 'affair': 213, 'somerset': 6076, 'maughm': 4091, 'devilsadvcate': 1789, 'boring': 840, 'ths': 6655, 'lauren': 3726, 'jauregui': 3403, 'dissapear': 1860, 'embarrassed': 2073, 'slight': 6001, 'whine': 7191, 'rave': 5355, 'burton': 972, 'benleubsdorf': 699, 'dykstradame': 2003, 'wsj': 7319, 'bls': 805, 'september': 5819, '09': 3, '30pm': 66, 'demetria': 1725, 'faye_catherine': 2321, 'confusion': 1396, 'woodspurge': 7275, 'fyi': 2555, 'express': 2242, 'loneliness': 3891, 'neg': 4486, 'mh': 4187, 'devrajasmine': 1791, 'image': 3151, 'bldmovs': 785, 'henderson': 2927, 'seenitbefore': 5794, '128': 16, 'mope': 4324, 'counterfeit': 1476, 'berl': 702, 'katznelson': 3578, 'heavy': 2911, 'load': 3873, 'sylvia': 6418, 'plath': 5041, 'stalin': 6194, 'purge': 5281, 'disaster': 1833, 'enzyme': 2144, 'polyphenol': 5090, 'oxidase': 4821, 'oxygen': 4822, 'applefact': 409, 'wiidfui': 7221, '1000': 7, 'cassena13': 1083, 'optimist': 4773, 'african': 227, 'nno': 4590, 'refuge': 5424, 'hireling': 2968, 'slave': 5990, 'nfrom': 4524, 'grave': 2741, 'damiandmusic': 1608, 'noah': 4593, 'thoughtful': 6647, 'dami': 1607, 'ponytail': 5093, 'standout': 6200, 'needa': 4482, 'onilink86': 4749, 'darekmeridian': 1631, 'reillygolfpro': 5441, 'realkidpoker': 5382, 'stacyacey': 6188, 'wsoptd': 7321, 'judgement': 3534, 'nightlife': 4557, 'nightlifeent': 4558, 'jazz': 3408, 'gatewayarch': 2589, 'stlouis': 6257, 'washingtonave': 7100, 'dlrwill': 1886, 'buddy': 947, 'patienceinbee': 4899, 'camposanto': 1028, 'grocery': 2765, 'pikapie': 5004, 'isle': 3337, 'wight': 7219, 'glenberube': 2668, 'donnagrantis': 1909, 'idanielsenbass': 3117, 'hannahjwelton': 2847, 'weep': 7148, 'wayward': 7118, 'yourkarma': 7394, 'cs': 1545, 'severely': 5831, 'lacking': 3681, 'badkarma': 570, 'desication': 1761, 'immense': 3161, 'patblanchfield': 4891, 'tysonwater': 6867, 'waterswife': 7111, 'panicattack': 4856, 'medication': 4123, 'typicalmoony': 6864, 'lia': 3788, 'phil500': 4978, 'nspunky': 4647, 'nan': 4432, 'nplay': 4641, 'nare': 4439, 'loved': 3923, 'ananavarro': 337, 'meaning': 4117, 'robertwesley3': 5580, 'bub': 940, 'winston': 7242, 'churchill': 1231, 'temporada': 6523, 'iron': 3323, 'autograph': 517, 'shantosh': 5855, 'enlightenment': 2127, 'imaginepeace': 3156, 'imaginelove': 3155, 'gatherp': 2591, 'strength': 6279, 'fighter': 2360, 'dreamer': 1949, 'dublinwaltz': 1980, 'bts': 938, '화양연화': 7428, 'trilogy': 6797, 'mv': 4407, 'fav': 2315, 'againstallaudss': 232, 'groovydadad': 2769, 'thelostchild5': 6604, 'unavoidable': 6896, 'bojack': 821, 'horseman': 3027, 'season1': 5782, 'shocked': 5893, 'rethink': 5512, 'backyard': 566, 'encouragement': 2098, 'fog': 2430, 'epicfail': 2147, 'feelingfedup': 2333, 'ihaveheardeverythe': 3139, 'drinkin': 1957, 'fred': 2486, 'mcdowell': 4101, 'rocknroll': 5592, 'krusty': 3657, 'krab': 3654, 'crippling': 1526, 'superseptember': 6357, 'jumia': 3541, 'user': 6974, 'barcelos': 609, 'pocx100': 5065, 'nlife': 4579, 'trial': 6792, 'dive': 1873, 'indy': 3217, 'prayingforyou': 5150, 'ndoesn': 4474, 'worse': 7294, 'coldplay': 1324, 'amid': 319, 'deepening': 1697, 'lampoon': 3695, 'deteriorada': 1777, 'wana': 7082, 'ul': 6883, 'unfortunate': 6922, 'ghanaian': 2635, 'dodge': 1894, 'stone': 6261, 'ronbaker6694': 5616, 'speeder': 6144, 'license': 3797, 'khaleesioffood': 3607, 'bb_update': 636, 'gurrie_j': 2799, 'freepizza': 2491, 'inadequacy': 3182, 'slither': 6006, 'neck': 4480, 'mpy': 4359, 'vss': 7063, 'teenageic0n': 6511, 'meruna': 4167, 'instrument': 3269, 'lesson': 3770, 'skype': 5985, 'basslesson': 624, 'groove': 2766, 'rockin': 5591, 'dylan': 2004, 'singin': 5952, '115th': 13, 'lpco': 3935, 'klassic': 3640, 'classicrock': 1261, 'klassicrock': 3641, 'onlineradio': 4752, 'desolate': 1766, '_jessicavidal': 119, 'dark_intell': 1634, 'darius': 1632, 'igda': 3134, 'fic': 2352, 'flaws': 2407, 'fearless': 2325, 'fender': 2341, 'junior': 3545, 'guitar': 2792, 'guitarrist': 2793, 'million': 4224, 'youarestrong': 7385, 'youarearise': 7384, 'tidbit': 6667, 'latenight': 3714, 'restroom': 5508, 'ncollege': 4467, 'brazy': 875, 'hedgegirl': 2914, 'relapse': 5448, 'superb': 6355, 'ios': 3310, 'bugger': 949, 'spark': 6124, 'interface': 3284, 'animal': 359, 'animals': 360, 'ntrap': 4661, 'trap': 6776, 'full': 2535, 'antoboyle': 384, 'someday': 6073, 'spain': 6120, 'borrow': 842, 'missfushigame': 4254, 'walshfreedom': 7080, 'overlook': 4811, 'localblactivist': 3877, 'convo': 1444, 'blend': 786, 'shrine': 5919, 'tide': 6668, 'vine': 7032, 'newton': 4517, 'cristinalaila1': 1527, 'disgusting': 1846, 'lower': 3930, 'sizwem01': 5971, 'kseniasolo': 3659, 'afrikaans': 228, 'misslindzo': 4261, 'bidded': 728, 'market': 4050, 'tvgirl': 6845, 'melancholic': 4138, 'idealize': 3121, 'sedate': 5790, 'tranquilizer': 6768, 'kit': 3634, 'standuptocancer': 6201, 'worn': 7290, 'topic': 6737, 'being': 681, 'dutty_wednesday': 1997, 'brawl2099': 873, 'primary': 5183, 'prescribe': 5166, 'psychiatrist': 5257, 'better_world': 713, 'ultimate': 6885, 'imachildofgod': 3150, 'whatistwerke': 7182, 'bye': 992, 'mcjamie': 4106, 'rally': 5330, 'hurting': 3084, 'mischievoustyke': 4246, 'temperature': 6521, 'doese': 1895, 'escapism': 2160, 'health': 2898, 'conscious': 1406, 'perseverance': 4959, 'wealthy': 7127, 'socal': 6056, 'recoveryfit': 5404, 'youthful': 7396, 'glorify': 2676, 'chem': 1183, 'roblox': 5583, 'termiante': 6533, 'killme': 3621, 'robloxgamer': 5584, 'syria': 6423, 'gtfo': 2782, 'grass': 2738, 'heat': 2908, 'adultingistheworst': 200, 'manunitedwriter': 4028, 'pace': 4828, 'furry': 2549, 'member': 4146, 'max': 4094, 'ozzie': 4824, '30am': 65, 'gland': 2661, 'huuuuuuuge': 3089, 'uni': 6927, 'lefluerr': 3756, 'nap': 4436, 'tilli': 6677, 'clemvsgt': 1272, 'righteous': 5544, 'salvation': 5699, 'having': 2886, 'caligraphy215': 1012, 'hype': 3093, 'jb': 3410, 'bored': 838, 'digest': 1812, 'porridge': 5106, 'hamsterwatch': 2835, 'ugotbronx': 6877, 'chrislhayes': 1213, 'pool': 5094, 'nuts': 4670, 'cali': 1010, 'unbelievably': 6898, 'tariqmateen': 6462, 'crucial': 1538, 'pk': 5027, 'kal': 3562, 'boshan': 843, 'involvement': 3307, 'sejejs': 5795, 'cibulskis': 1234, 'period': 4954, 'kardashian': 3566, 'jenner': 3433, 'stan': 6196, 'nikhiltikare': 4563, 'relieve': 5455, 'strengthen': 6280, 'immune': 3164, 'tauru': 6473, 'careful': 1066, 'sulky': 6332, 'sunlight': 6348, 'fallen': 2282, 'itnevergoe': 3350, 'skepta': 5975, 'breadrin': 877, 'sle': 5994, 'skeng': 5974, 'votage': 7058, 'nickeaney': 4544, 'conorojo': 1404, 'loool': 3899, 'nickb88': 4543, 'buster_espn': 979, 'rider': 5539, 'mchorsefayse': 4105, 'bockaguyjim': 815, 'generalgoodsman': 2606, 'nevernotdavid': 4503, 'own': 4819, 'strong_bread': 6290, 'fukc': 2533, 'savemoney': 5722, 'savelife': 5721, 'openbar': 4758, 'your': 7390, 'weddingreception': 7139, 'tonygoldmark': 6731, 'diamonde': 1799, 'cassablancas': 1082, 'voidz': 7054, 'srv': 6183, 'voodoo': 7057, 'approximately': 415, '76': 98, 'jimi': 3449, 'tanzynia': 6457, 'conclusion': 1383, 'whataloadoftat': 7179, 'mysteri759': 4413, 'stubborn': 6297, 'maw': 4093, 'mer': 4161, 'movember': 4352, 'classicmoira': 1260, 'pan': 4851, 'highlighter': 2947, 'ah': 243, 'mah': 3990, 'thunk': 6660, 'adrian_specs': 196, 'staid': 6192, 'ott': 4791, 'megane_matt': 4133, 'hikarimorou': 2951, 'raphaelslagg': 5341, 'nget': 4525, 'hero': 2931, 'blindfret': 794, 'grouch': 2770, 'sd': 5770, 'mypalalex': 4410, 'icapturpix': 3109, 'drudge_report': 1970, 'ultra': 6887, 'democratic': 1731, 'repub': 5485, 'semester': 5803, 'synth': 6421, 'backing': 562, 'depresspop': 1754, 'alt': 298, 'fuckingmeup': 2529, 'brawndo': 874, 'mikejudge': 4217, 'idiocracytoday': 3127, 'kerophibian': 3598, 'almurray': 289, 'hammer': 2834, 'modifier': 4296, 'appendix': 406, 'rippoohsavage': 5553, 'ion': 3308, 'mediocrity': 4126, 'd6vey': 1586, 'punishedsnek': 5272, 'analysis': 336, 'ethnic': 2179, 'corpse': 1466, 'govt': 2721, 'rm': 5565, 'madridistas': 3980, 'cules': 1558, 'fanbase': 2291, '1chiefsdan': 35, 'healing': 2897, 'kimdelacreme': 3622, 'srgohdatzme305': 6181, 'fpuebla3': 2473, 'osbaldo_a': 4786, 'imnotinfecte': 3165, 'bain': 577, 'cash': 1078, 'pound': 5129, 'coin': 1318, 'sunbe': 6342, 'wombletheballer': 7267, 'stategame': 6212, 'captain': 1053, 'shootthegerman': 5900, 'afcgramachroi': 211, 'ycfcnick': 7362, 'shamble': 5849, 'fiddle': 2354, 'debacle': 1678, 'ndevelope': 4472, 'fml': 2425, 'missingyou': 4257, 'micky_a_lawson': 4197, 'paddy': 4831, 'mcnair': 4107, 'joint': 3483, 'scorer': 5749, 'justlet': 3552, 'boardeveryday': 813, 'turnorder': 6841, 'pinchback21': 5010, 'techno': 6502, 'depend': 1745, 'broggersm19': 920, 'calum250284': 1019, 'retire': 5513, 'circumstantial': 1239, 'seantkin': 5778, 'coachella': 1305, 'romandanielsxxx': 5610, 'kodyknightxxx': 3648, 'troyler': 6808, 'lifeisnotafairytale': 3804, 'nadinekellman': 4421, 'creep': 1517, 'reaganrachelle': 5375, 'rclemmon': 5363, 'heartbreak': 2903, 'brendon': 889, 'relaxed': 5450, 'cornerbakery': 1462, 'ponder': 5092, 'suddenlyapple': 6319, 'shiro': 5882, 'wordpress': 7277, 'plugin': 5058, 'recommendation': 5402, 'premium': 5163, 'mac': 3965, 'jst': 3525, 'hv': 3090, 'observant': 4697, 'nhar': 4530, 'din': 1816, 'rona': 5615, 'dhona': 1795, 'nhappy': 4529, 'kentphonic': 3595, 'milk': 4221, 'cashew': 1080, 'hemp': 2926, 'nut': 4668, 'dandelion': 1619, 'jordan_grimmer': 3496, 'messin': 4173, 'aniahrose': 358, 'katethecurse': 3574, 'shannonrdk': 5854, 'funkxwidme': 2544, 'promoter': 5226, 'danhirtle': 1624, 'secreteye': 5786, 'judge': 3532, 'judy': 3536, 'sponsorship': 6157, 'cantconacon': 1046, 'hannahcolleen06': 2845, 'patchy': 4892, 'summer': 6336, '47': 76, 'areyousureimagedout': 423, 'fitness': 2389, 'telegraphnew': 6516, 'knock': 3643, 'komaebun': 3652, 'absolute': 141, 'asjoshtaylor': 459, 'hotformetour': 3032, 'metalandthegeek': 4176, 'astoldbyfangirl': 477, 'kole_holland': 3651, 'staytune': 6222, 'siwheeler78': 5968, 'gd': 2598, 'nooooo': 4607, 'andreamitchell': 345, 'berniesander': 706, 'predator': 5155, 'heckler': 2913, '5so': 89, '_iconceitedone': 118, 'roberts': 5579, 'jimmyfallon': 3450, 'rake': 5329, 'pile': 5005, 'fallsongs': 2283, 'mizzymaxx': 4274, 'bsmarz22': 934, 'ssmik2309': 6184, 'married': 4056, 'panther': 4859, 'hire': 2967, 'pr': 5141, 'speakinh': 6131, 'stevierayrob': 6248, 'elliot': 2066, 'clueless': 1294, 'kickoff': 3613, 'yard': 7359, 'macmacm43': 3973, 'jeezus': 3425, 'soberissexy': 6052, 'sobernative': 6053, 'hostel': 3029, 'overseas': 4812, 'frame': 2477, 'wotzupcapetown': 7300, 'humanjurgen': 3068, 'tenor': 6527, 'sax': 5723, 'cunninghamcolin': 1562, 'livemusic': 3856, 'capetown': 1049, 'henny': 2928, 'pete_ferriday': 4970, 'otisredding': 4790, 'charles_gaba': 1152, 'gobsmacke': 2686, '_mraminuddin': 123, 'ejainew': 2044, '_alifh': 114, 'ahmadfuadadnan': 247, 'noob': 4605, 'johnverdejo': 3481, 'mannn': 4023, 'grid': 2755, 'hill': 2955, 'bold': 826, 'coz': 1494, 'bt': 936, 'dim': 1815, 'everythin': 2196, 'earphone': 2014, 'heaviness': 2910, 'hunna_chunna': 3080, 'hack': 2812, 'mutguru': 4404, '1000s': 9, 'ibiza': 3108, 'hispan': 2970, 'crackhead': 1501, 'wal': 7074, 'mart': 4060, 'batter': 630, 'modelady24': 4290, 'tinge': 6688, 'bsg': 933, 'consistent': 1411, 'batman_ofgotham': 628, 'hue': 3058, 'breast': 881, 'gulke': 2794, 'zombieisiand': 7423, 'minw': 4241, 'witnesse': 7254, 'accident': 149, 'hav': 2883, 'sunk': 6347, 'ih': 3138, 'natesilver538': 4447, 'davmicrot': 1656, 'fivethirtyeight': 2390, 'litany': 3845, 'orrible_ive': 4784, 'humanity': 3067, 'ashleycwilson': 454, 'mrdavidhobbs': 4364, 'indycaronnbcsn': 3218, 'coverage': 1489, 'ozellem': 4823, 'carnival': 1069, 'chairperson': 1130, 'feminist': 2340, 'sadderness': 5676, 'moreofsad': 4327, 'howdoestear': 3044, 'whatislife': 7181, 'mollietebbatt': 4298, 'grandad': 2732, 'titanic': 6697, 'buchanan': 943, '1939': 29, 'roybuchanan': 5636, 'happybrithday': 2857, 'cc': 1100, 'wembley': 7161, 'prob': 5198, 'grand': 2731, 'fresher': 2495, 'wheel': 7184, 'aware': 534, 'responsibility': 5502, 'childctweet': 1192, 'vanre': 6993, 'extradition': 2248, 'pandora': 4853, 'jt': 3528, 'guanxi': 2783, 'toad': 6704, 'dada': 1591, 'markedmurderer': 4049, 'orion': 4782, 'narrow': 4442, 'gaze': 2594, 'instinct': 3266, 'him': 2961, 'unboxing': 6899, 'iphone': 3312, 'staten': 6214, 'island': 3336, 'realtimbooth': 5385, 'fond': 2437, 'crysticaro': 1544, 'exaltedchampion': 2209, 'jest': 3442, 'kara': 3565, 'wasn': 7102, 'nojustice': 4599, 'surivivor': 6372, 'nomore': 4602, 'salteruk': 5696, 'pair': 4839, 'scale': 5728, 'battery': 632, 'broken': 922, 'sussexmistress': 6388, 'sarahb45': 5710, 'msevilyne': 4373, 'missjessicawood': 4260, 'perch': 4944, 'chain': 1128, 'flybe': 2423, 'bradford': 863, 'traveler': 6781, 'corn': 1460, 'curry': 1572, 'aamnaa': 130, 'drkarthik_n': 1964, 'capita': 1050, 'gini': 2648, 'coefficient': 1313, 'ambition': 311, 'output': 4799, 'vintage': 7033, 'hackney': 2813, 'paperdresse': 4861, 'champion': 1134, 'lastyear': 3711, 'gouniversity': 2718, 'webstagram': 7137, 'blackandwhite': 771, 'itdominiccoyle': 3348, 'irishtimesbiz': 3322, 'barroso': 612, 'goldman': 2695, 'eu_commission': 2182, 'inflict': 3227, 'pottermore': 5126, 'nutella': 4669, 'ivory': 3356, 'frozen': 2513, 'empath': 2093, 'blinddogradio': 793, 'redbus_in': 5410, 'redbus': 5409, 'initiate': 3238, 'transaction': 6769, 'aceoperative789': 157, 'afew': 212, 'audio': 509, 'supply': 6360, 'acrylic': 162, 'sainsburys': 5690, 'chafford': 1127}\n"
     ]
    }
   ],
   "source": [
    "v = TfidfVectorizer()\n",
    "train= v.fit_transform(df['preprocess_text'])\n",
    "test=v.fit_transform(df_test['preprocess_text'])\n",
    "\n",
    "print(v.vocabulary_)"
   ]
  },
  {
   "cell_type": "markdown",
   "id": "35bd74dd",
   "metadata": {
    "papermill": {
     "duration": 0.0158,
     "end_time": "2024-04-29T13:37:18.738380",
     "exception": false,
     "start_time": "2024-04-29T13:37:18.722580",
     "status": "completed"
    },
    "tags": []
   },
   "source": [
    "5. Build Model "
   ]
  },
  {
   "cell_type": "code",
   "execution_count": 26,
   "id": "2381e412",
   "metadata": {
    "execution": {
     "iopub.execute_input": "2024-04-29T13:37:18.772129Z",
     "iopub.status.busy": "2024-04-29T13:37:18.771783Z",
     "iopub.status.idle": "2024-04-29T13:37:18.788583Z",
     "shell.execute_reply": "2024-04-29T13:37:18.787669Z"
    },
    "papermill": {
     "duration": 0.036066,
     "end_time": "2024-04-29T13:37:18.790495",
     "exception": false,
     "start_time": "2024-04-29T13:37:18.754429",
     "status": "completed"
    },
    "tags": []
   },
   "outputs": [
    {
     "data": {
      "text/html": [
       "<style>#sk-container-id-1 {color: black;background-color: white;}#sk-container-id-1 pre{padding: 0;}#sk-container-id-1 div.sk-toggleable {background-color: white;}#sk-container-id-1 label.sk-toggleable__label {cursor: pointer;display: block;width: 100%;margin-bottom: 0;padding: 0.3em;box-sizing: border-box;text-align: center;}#sk-container-id-1 label.sk-toggleable__label-arrow:before {content: \"▸\";float: left;margin-right: 0.25em;color: #696969;}#sk-container-id-1 label.sk-toggleable__label-arrow:hover:before {color: black;}#sk-container-id-1 div.sk-estimator:hover label.sk-toggleable__label-arrow:before {color: black;}#sk-container-id-1 div.sk-toggleable__content {max-height: 0;max-width: 0;overflow: hidden;text-align: left;background-color: #f0f8ff;}#sk-container-id-1 div.sk-toggleable__content pre {margin: 0.2em;color: black;border-radius: 0.25em;background-color: #f0f8ff;}#sk-container-id-1 input.sk-toggleable__control:checked~div.sk-toggleable__content {max-height: 200px;max-width: 100%;overflow: auto;}#sk-container-id-1 input.sk-toggleable__control:checked~label.sk-toggleable__label-arrow:before {content: \"▾\";}#sk-container-id-1 div.sk-estimator input.sk-toggleable__control:checked~label.sk-toggleable__label {background-color: #d4ebff;}#sk-container-id-1 div.sk-label input.sk-toggleable__control:checked~label.sk-toggleable__label {background-color: #d4ebff;}#sk-container-id-1 input.sk-hidden--visually {border: 0;clip: rect(1px 1px 1px 1px);clip: rect(1px, 1px, 1px, 1px);height: 1px;margin: -1px;overflow: hidden;padding: 0;position: absolute;width: 1px;}#sk-container-id-1 div.sk-estimator {font-family: monospace;background-color: #f0f8ff;border: 1px dotted black;border-radius: 0.25em;box-sizing: border-box;margin-bottom: 0.5em;}#sk-container-id-1 div.sk-estimator:hover {background-color: #d4ebff;}#sk-container-id-1 div.sk-parallel-item::after {content: \"\";width: 100%;border-bottom: 1px solid gray;flex-grow: 1;}#sk-container-id-1 div.sk-label:hover label.sk-toggleable__label {background-color: #d4ebff;}#sk-container-id-1 div.sk-serial::before {content: \"\";position: absolute;border-left: 1px solid gray;box-sizing: border-box;top: 0;bottom: 0;left: 50%;z-index: 0;}#sk-container-id-1 div.sk-serial {display: flex;flex-direction: column;align-items: center;background-color: white;padding-right: 0.2em;padding-left: 0.2em;position: relative;}#sk-container-id-1 div.sk-item {position: relative;z-index: 1;}#sk-container-id-1 div.sk-parallel {display: flex;align-items: stretch;justify-content: center;background-color: white;position: relative;}#sk-container-id-1 div.sk-item::before, #sk-container-id-1 div.sk-parallel-item::before {content: \"\";position: absolute;border-left: 1px solid gray;box-sizing: border-box;top: 0;bottom: 0;left: 50%;z-index: -1;}#sk-container-id-1 div.sk-parallel-item {display: flex;flex-direction: column;z-index: 1;position: relative;background-color: white;}#sk-container-id-1 div.sk-parallel-item:first-child::after {align-self: flex-end;width: 50%;}#sk-container-id-1 div.sk-parallel-item:last-child::after {align-self: flex-start;width: 50%;}#sk-container-id-1 div.sk-parallel-item:only-child::after {width: 0;}#sk-container-id-1 div.sk-dashed-wrapped {border: 1px dashed gray;margin: 0 0.4em 0.5em 0.4em;box-sizing: border-box;padding-bottom: 0.4em;background-color: white;}#sk-container-id-1 div.sk-label label {font-family: monospace;font-weight: bold;display: inline-block;line-height: 1.2em;}#sk-container-id-1 div.sk-label-container {text-align: center;}#sk-container-id-1 div.sk-container {/* jupyter's `normalize.less` sets `[hidden] { display: none; }` but bootstrap.min.css set `[hidden] { display: none !important; }` so we also need the `!important` here to be able to override the default hidden behavior on the sphinx rendered scikit-learn.org. See: https://github.com/scikit-learn/scikit-learn/issues/21755 */display: inline-block !important;position: relative;}#sk-container-id-1 div.sk-text-repr-fallback {display: none;}</style><div id=\"sk-container-id-1\" class=\"sk-top-container\"><div class=\"sk-text-repr-fallback\"><pre>MultinomialNB()</pre><b>In a Jupyter environment, please rerun this cell to show the HTML representation or trust the notebook. <br />On GitHub, the HTML representation is unable to render, please try loading this page with nbviewer.org.</b></div><div class=\"sk-container\" hidden><div class=\"sk-item\"><div class=\"sk-estimator sk-toggleable\"><input class=\"sk-toggleable__control sk-hidden--visually\" id=\"sk-estimator-id-1\" type=\"checkbox\" checked><label for=\"sk-estimator-id-1\" class=\"sk-toggleable__label sk-toggleable__label-arrow\">MultinomialNB</label><div class=\"sk-toggleable__content\"><pre>MultinomialNB()</pre></div></div></div></div></div>"
      ],
      "text/plain": [
       "MultinomialNB()"
      ]
     },
     "execution_count": 26,
     "metadata": {},
     "output_type": "execute_result"
    }
   ],
   "source": [
    "NB_model=MultinomialNB()\n",
    "\n",
    "#Model Training\n",
    "NB_model.fit(train, df['label_num'])"
   ]
  },
  {
   "cell_type": "code",
   "execution_count": 27,
   "id": "4d8ed954",
   "metadata": {
    "execution": {
     "iopub.execute_input": "2024-04-29T13:37:18.825388Z",
     "iopub.status.busy": "2024-04-29T13:37:18.825096Z",
     "iopub.status.idle": "2024-04-29T13:37:18.829872Z",
     "shell.execute_reply": "2024-04-29T13:37:18.828928Z"
    },
    "papermill": {
     "duration": 0.024302,
     "end_time": "2024-04-29T13:37:18.831764",
     "exception": false,
     "start_time": "2024-04-29T13:37:18.807462",
     "status": "completed"
    },
    "tags": []
   },
   "outputs": [],
   "source": [
    "y_prediction=NB_model.predict(train)"
   ]
  },
  {
   "cell_type": "code",
   "execution_count": 28,
   "id": "977abd0c",
   "metadata": {
    "execution": {
     "iopub.execute_input": "2024-04-29T13:37:18.865129Z",
     "iopub.status.busy": "2024-04-29T13:37:18.864814Z",
     "iopub.status.idle": "2024-04-29T13:37:18.871073Z",
     "shell.execute_reply": "2024-04-29T13:37:18.870255Z"
    },
    "papermill": {
     "duration": 0.02501,
     "end_time": "2024-04-29T13:37:18.872906",
     "exception": false,
     "start_time": "2024-04-29T13:37:18.847896",
     "status": "completed"
    },
    "tags": []
   },
   "outputs": [
    {
     "name": "stdout",
     "output_type": "stream",
     "text": [
      "0.973208910295003\n"
     ]
    }
   ],
   "source": [
    "print(accuracy_score(df['label_num'] , y_prediction))"
   ]
  },
  {
   "cell_type": "code",
   "execution_count": 29,
   "id": "951b04ef",
   "metadata": {
    "execution": {
     "iopub.execute_input": "2024-04-29T13:37:18.908437Z",
     "iopub.status.busy": "2024-04-29T13:37:18.908141Z",
     "iopub.status.idle": "2024-04-29T13:37:18.922397Z",
     "shell.execute_reply": "2024-04-29T13:37:18.921334Z"
    },
    "papermill": {
     "duration": 0.034312,
     "end_time": "2024-04-29T13:37:18.924366",
     "exception": false,
     "start_time": "2024-04-29T13:37:18.890054",
     "status": "completed"
    },
    "tags": []
   },
   "outputs": [
    {
     "name": "stdout",
     "output_type": "stream",
     "text": [
      "              precision    recall  f1-score   support\n",
      "\n",
      "           0       0.98      0.96      0.97       856\n",
      "           1       0.97      0.98      0.97       857\n",
      "           2       0.99      0.99      0.99       823\n",
      "           3       0.96      0.95      0.96       786\n",
      "\n",
      "    accuracy                           0.97      3322\n",
      "   macro avg       0.97      0.97      0.97      3322\n",
      "weighted avg       0.97      0.97      0.97      3322\n",
      "\n"
     ]
    }
   ],
   "source": [
    "print(classification_report(df['label_num'] , y_prediction))"
   ]
  }
 ],
 "metadata": {
  "kaggle": {
   "accelerator": "gpu",
   "dataSources": [
    {
     "datasetId": 1334611,
     "sourceId": 2222182,
     "sourceType": "datasetVersion"
    }
   ],
   "dockerImageVersionId": 30559,
   "isGpuEnabled": true,
   "isInternetEnabled": true,
   "language": "python",
   "sourceType": "notebook"
  },
  "kernelspec": {
   "display_name": "Python 3",
   "language": "python",
   "name": "python3"
  },
  "language_info": {
   "codemirror_mode": {
    "name": "ipython",
    "version": 3
   },
   "file_extension": ".py",
   "mimetype": "text/x-python",
   "name": "python",
   "nbconvert_exporter": "python",
   "pygments_lexer": "ipython3",
   "version": "3.10.12"
  },
  "papermill": {
   "default_parameters": {},
   "duration": 83.627142,
   "end_time": "2024-04-29T13:37:26.499220",
   "environment_variables": {},
   "exception": true,
   "input_path": "__notebook__.ipynb",
   "output_path": "__notebook__.ipynb",
   "parameters": {},
   "start_time": "2024-04-29T13:36:02.872078",
   "version": "2.4.0"
  }
 },
 "nbformat": 4,
 "nbformat_minor": 5
}
