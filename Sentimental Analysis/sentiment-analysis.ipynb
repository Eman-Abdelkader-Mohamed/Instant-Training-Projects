{
 "cells": [
  {
   "cell_type": "markdown",
   "id": "8b280e23",
   "metadata": {
    "papermill": {
     "duration": 0.019619,
     "end_time": "2024-04-28T09:24:16.539666",
     "exception": false,
     "start_time": "2024-04-28T09:24:16.520047",
     "status": "completed"
    },
    "tags": []
   },
   "source": [
    "## **Load necessary libraries**"
   ]
  },
  {
   "cell_type": "code",
   "execution_count": 1,
   "id": "5a448e76",
   "metadata": {
    "execution": {
     "iopub.execute_input": "2024-04-28T09:24:16.582682Z",
     "iopub.status.busy": "2024-04-28T09:24:16.582064Z",
     "iopub.status.idle": "2024-04-28T09:24:19.804666Z",
     "shell.execute_reply": "2024-04-28T09:24:19.803184Z"
    },
    "papermill": {
     "duration": 3.247757,
     "end_time": "2024-04-28T09:24:19.808034",
     "exception": false,
     "start_time": "2024-04-28T09:24:16.560277",
     "status": "completed"
    },
    "tags": []
   },
   "outputs": [],
   "source": [
    "import pandas as pd\n",
    "import seaborn as sns\n",
    "import matplotlib.pyplot as plt\n",
    "from plotly import graph_objs as go"
   ]
  },
  {
   "cell_type": "markdown",
   "id": "cc1c17f3",
   "metadata": {
    "papermill": {
     "duration": 0.021503,
     "end_time": "2024-04-28T09:24:19.849924",
     "exception": false,
     "start_time": "2024-04-28T09:24:19.828421",
     "status": "completed"
    },
    "tags": []
   },
   "source": [
    "## **Train Data for Training**"
   ]
  },
  {
   "cell_type": "code",
   "execution_count": 2,
   "id": "cb4dbd9c",
   "metadata": {
    "execution": {
     "iopub.execute_input": "2024-04-28T09:24:19.891805Z",
     "iopub.status.busy": "2024-04-28T09:24:19.891103Z",
     "iopub.status.idle": "2024-04-28T09:24:20.432384Z",
     "shell.execute_reply": "2024-04-28T09:24:20.431145Z"
    },
    "papermill": {
     "duration": 0.566634,
     "end_time": "2024-04-28T09:24:20.435519",
     "exception": false,
     "start_time": "2024-04-28T09:24:19.868885",
     "status": "completed"
    },
    "tags": []
   },
   "outputs": [],
   "source": [
    "name = ['tweet_id', 'entity', 'sentiment', 'tweet_content']\n",
    "df = pd.read_csv('/kaggle/input/twitter-entity-sentiment-analysis/twitter_training.csv', names=name)"
   ]
  },
  {
   "cell_type": "code",
   "execution_count": 3,
   "id": "c08ff80b",
   "metadata": {
    "execution": {
     "iopub.execute_input": "2024-04-28T09:24:20.477520Z",
     "iopub.status.busy": "2024-04-28T09:24:20.476115Z",
     "iopub.status.idle": "2024-04-28T09:24:20.511449Z",
     "shell.execute_reply": "2024-04-28T09:24:20.508821Z"
    },
    "papermill": {
     "duration": 0.060473,
     "end_time": "2024-04-28T09:24:20.514984",
     "exception": false,
     "start_time": "2024-04-28T09:24:20.454511",
     "status": "completed"
    },
    "tags": []
   },
   "outputs": [
    {
     "data": {
      "text/html": [
       "<div>\n",
       "<style scoped>\n",
       "    .dataframe tbody tr th:only-of-type {\n",
       "        vertical-align: middle;\n",
       "    }\n",
       "\n",
       "    .dataframe tbody tr th {\n",
       "        vertical-align: top;\n",
       "    }\n",
       "\n",
       "    .dataframe thead th {\n",
       "        text-align: right;\n",
       "    }\n",
       "</style>\n",
       "<table border=\"1\" class=\"dataframe\">\n",
       "  <thead>\n",
       "    <tr style=\"text-align: right;\">\n",
       "      <th></th>\n",
       "      <th>tweet_id</th>\n",
       "      <th>entity</th>\n",
       "      <th>sentiment</th>\n",
       "      <th>tweet_content</th>\n",
       "    </tr>\n",
       "  </thead>\n",
       "  <tbody>\n",
       "    <tr>\n",
       "      <th>0</th>\n",
       "      <td>2401</td>\n",
       "      <td>Borderlands</td>\n",
       "      <td>Positive</td>\n",
       "      <td>im getting on borderlands and i will murder yo...</td>\n",
       "    </tr>\n",
       "    <tr>\n",
       "      <th>1</th>\n",
       "      <td>2401</td>\n",
       "      <td>Borderlands</td>\n",
       "      <td>Positive</td>\n",
       "      <td>I am coming to the borders and I will kill you...</td>\n",
       "    </tr>\n",
       "    <tr>\n",
       "      <th>2</th>\n",
       "      <td>2401</td>\n",
       "      <td>Borderlands</td>\n",
       "      <td>Positive</td>\n",
       "      <td>im getting on borderlands and i will kill you ...</td>\n",
       "    </tr>\n",
       "    <tr>\n",
       "      <th>3</th>\n",
       "      <td>2401</td>\n",
       "      <td>Borderlands</td>\n",
       "      <td>Positive</td>\n",
       "      <td>im coming on borderlands and i will murder you...</td>\n",
       "    </tr>\n",
       "    <tr>\n",
       "      <th>4</th>\n",
       "      <td>2401</td>\n",
       "      <td>Borderlands</td>\n",
       "      <td>Positive</td>\n",
       "      <td>im getting on borderlands 2 and i will murder ...</td>\n",
       "    </tr>\n",
       "  </tbody>\n",
       "</table>\n",
       "</div>"
      ],
      "text/plain": [
       "   tweet_id       entity sentiment  \\\n",
       "0      2401  Borderlands  Positive   \n",
       "1      2401  Borderlands  Positive   \n",
       "2      2401  Borderlands  Positive   \n",
       "3      2401  Borderlands  Positive   \n",
       "4      2401  Borderlands  Positive   \n",
       "\n",
       "                                       tweet_content  \n",
       "0  im getting on borderlands and i will murder yo...  \n",
       "1  I am coming to the borders and I will kill you...  \n",
       "2  im getting on borderlands and i will kill you ...  \n",
       "3  im coming on borderlands and i will murder you...  \n",
       "4  im getting on borderlands 2 and i will murder ...  "
      ]
     },
     "execution_count": 3,
     "metadata": {},
     "output_type": "execute_result"
    }
   ],
   "source": [
    "# first five record\n",
    "\n",
    "df.head()"
   ]
  },
  {
   "cell_type": "code",
   "execution_count": 4,
   "id": "e670c92d",
   "metadata": {
    "execution": {
     "iopub.execute_input": "2024-04-28T09:24:20.559070Z",
     "iopub.status.busy": "2024-04-28T09:24:20.558556Z",
     "iopub.status.idle": "2024-04-28T09:24:20.572631Z",
     "shell.execute_reply": "2024-04-28T09:24:20.571165Z"
    },
    "papermill": {
     "duration": 0.039121,
     "end_time": "2024-04-28T09:24:20.575967",
     "exception": false,
     "start_time": "2024-04-28T09:24:20.536846",
     "status": "completed"
    },
    "tags": []
   },
   "outputs": [
    {
     "data": {
      "text/html": [
       "<div>\n",
       "<style scoped>\n",
       "    .dataframe tbody tr th:only-of-type {\n",
       "        vertical-align: middle;\n",
       "    }\n",
       "\n",
       "    .dataframe tbody tr th {\n",
       "        vertical-align: top;\n",
       "    }\n",
       "\n",
       "    .dataframe thead th {\n",
       "        text-align: right;\n",
       "    }\n",
       "</style>\n",
       "<table border=\"1\" class=\"dataframe\">\n",
       "  <thead>\n",
       "    <tr style=\"text-align: right;\">\n",
       "      <th></th>\n",
       "      <th>tweet_id</th>\n",
       "      <th>entity</th>\n",
       "      <th>sentiment</th>\n",
       "      <th>tweet_content</th>\n",
       "    </tr>\n",
       "  </thead>\n",
       "  <tbody>\n",
       "    <tr>\n",
       "      <th>74677</th>\n",
       "      <td>9200</td>\n",
       "      <td>Nvidia</td>\n",
       "      <td>Positive</td>\n",
       "      <td>Just realized that the Windows partition of my...</td>\n",
       "    </tr>\n",
       "    <tr>\n",
       "      <th>74678</th>\n",
       "      <td>9200</td>\n",
       "      <td>Nvidia</td>\n",
       "      <td>Positive</td>\n",
       "      <td>Just realized that my Mac window partition is ...</td>\n",
       "    </tr>\n",
       "    <tr>\n",
       "      <th>74679</th>\n",
       "      <td>9200</td>\n",
       "      <td>Nvidia</td>\n",
       "      <td>Positive</td>\n",
       "      <td>Just realized the windows partition of my Mac ...</td>\n",
       "    </tr>\n",
       "    <tr>\n",
       "      <th>74680</th>\n",
       "      <td>9200</td>\n",
       "      <td>Nvidia</td>\n",
       "      <td>Positive</td>\n",
       "      <td>Just realized between the windows partition of...</td>\n",
       "    </tr>\n",
       "    <tr>\n",
       "      <th>74681</th>\n",
       "      <td>9200</td>\n",
       "      <td>Nvidia</td>\n",
       "      <td>Positive</td>\n",
       "      <td>Just like the windows partition of my Mac is l...</td>\n",
       "    </tr>\n",
       "  </tbody>\n",
       "</table>\n",
       "</div>"
      ],
      "text/plain": [
       "       tweet_id  entity sentiment  \\\n",
       "74677      9200  Nvidia  Positive   \n",
       "74678      9200  Nvidia  Positive   \n",
       "74679      9200  Nvidia  Positive   \n",
       "74680      9200  Nvidia  Positive   \n",
       "74681      9200  Nvidia  Positive   \n",
       "\n",
       "                                           tweet_content  \n",
       "74677  Just realized that the Windows partition of my...  \n",
       "74678  Just realized that my Mac window partition is ...  \n",
       "74679  Just realized the windows partition of my Mac ...  \n",
       "74680  Just realized between the windows partition of...  \n",
       "74681  Just like the windows partition of my Mac is l...  "
      ]
     },
     "execution_count": 4,
     "metadata": {},
     "output_type": "execute_result"
    }
   ],
   "source": [
    "# last five recode\n",
    "\n",
    "df.tail()"
   ]
  },
  {
   "cell_type": "code",
   "execution_count": 5,
   "id": "d999e453",
   "metadata": {
    "execution": {
     "iopub.execute_input": "2024-04-28T09:24:20.619245Z",
     "iopub.status.busy": "2024-04-28T09:24:20.618744Z",
     "iopub.status.idle": "2024-04-28T09:24:20.627075Z",
     "shell.execute_reply": "2024-04-28T09:24:20.625760Z"
    },
    "papermill": {
     "duration": 0.034612,
     "end_time": "2024-04-28T09:24:20.630018",
     "exception": false,
     "start_time": "2024-04-28T09:24:20.595406",
     "status": "completed"
    },
    "tags": []
   },
   "outputs": [
    {
     "data": {
      "text/plain": [
       "(74682, 4)"
      ]
     },
     "execution_count": 5,
     "metadata": {},
     "output_type": "execute_result"
    }
   ],
   "source": [
    "# shape befor drop the null value\n",
    "\n",
    "df.shape"
   ]
  },
  {
   "cell_type": "code",
   "execution_count": 6,
   "id": "ab343fec",
   "metadata": {
    "execution": {
     "iopub.execute_input": "2024-04-28T09:24:20.671438Z",
     "iopub.status.busy": "2024-04-28T09:24:20.670999Z",
     "iopub.status.idle": "2024-04-28T09:24:20.712442Z",
     "shell.execute_reply": "2024-04-28T09:24:20.711255Z"
    },
    "papermill": {
     "duration": 0.067033,
     "end_time": "2024-04-28T09:24:20.717032",
     "exception": false,
     "start_time": "2024-04-28T09:24:20.649999",
     "status": "completed"
    },
    "tags": []
   },
   "outputs": [
    {
     "data": {
      "text/plain": [
       "tweet_id           0\n",
       "entity             0\n",
       "sentiment          0\n",
       "tweet_content    686\n",
       "dtype: int64"
      ]
     },
     "execution_count": 6,
     "metadata": {},
     "output_type": "execute_result"
    }
   ],
   "source": [
    "# view null value\n",
    "# there are 686 null value in tweet_content column\n",
    "\n",
    "df.isnull().sum()"
   ]
  },
  {
   "cell_type": "code",
   "execution_count": 7,
   "id": "bbeac9b9",
   "metadata": {
    "execution": {
     "iopub.execute_input": "2024-04-28T09:24:20.759239Z",
     "iopub.status.busy": "2024-04-28T09:24:20.758427Z",
     "iopub.status.idle": "2024-04-28T09:24:20.807998Z",
     "shell.execute_reply": "2024-04-28T09:24:20.806204Z"
    },
    "papermill": {
     "duration": 0.074727,
     "end_time": "2024-04-28T09:24:20.811872",
     "exception": false,
     "start_time": "2024-04-28T09:24:20.737145",
     "status": "completed"
    },
    "tags": []
   },
   "outputs": [],
   "source": [
    "# drop the all null value becuase we have lot of data\n",
    "\n",
    "df.dropna(inplace=True)"
   ]
  },
  {
   "cell_type": "code",
   "execution_count": 8,
   "id": "5dabf1ac",
   "metadata": {
    "execution": {
     "iopub.execute_input": "2024-04-28T09:24:20.854299Z",
     "iopub.status.busy": "2024-04-28T09:24:20.853056Z",
     "iopub.status.idle": "2024-04-28T09:24:20.891275Z",
     "shell.execute_reply": "2024-04-28T09:24:20.889989Z"
    },
    "papermill": {
     "duration": 0.062672,
     "end_time": "2024-04-28T09:24:20.894022",
     "exception": false,
     "start_time": "2024-04-28T09:24:20.831350",
     "status": "completed"
    },
    "tags": []
   },
   "outputs": [
    {
     "data": {
      "text/plain": [
       "tweet_id         0\n",
       "entity           0\n",
       "sentiment        0\n",
       "tweet_content    0\n",
       "dtype: int64"
      ]
     },
     "execution_count": 8,
     "metadata": {},
     "output_type": "execute_result"
    }
   ],
   "source": [
    "df.isnull().sum()"
   ]
  },
  {
   "cell_type": "code",
   "execution_count": 9,
   "id": "06147181",
   "metadata": {
    "execution": {
     "iopub.execute_input": "2024-04-28T09:24:20.938285Z",
     "iopub.status.busy": "2024-04-28T09:24:20.937829Z",
     "iopub.status.idle": "2024-04-28T09:24:20.946002Z",
     "shell.execute_reply": "2024-04-28T09:24:20.944691Z"
    },
    "papermill": {
     "duration": 0.034597,
     "end_time": "2024-04-28T09:24:20.949013",
     "exception": false,
     "start_time": "2024-04-28T09:24:20.914416",
     "status": "completed"
    },
    "tags": []
   },
   "outputs": [
    {
     "data": {
      "text/plain": [
       "(73996, 4)"
      ]
     },
     "execution_count": 9,
     "metadata": {},
     "output_type": "execute_result"
    }
   ],
   "source": [
    "# shape before drop null value\n",
    "\n",
    "df.shape"
   ]
  },
  {
   "cell_type": "code",
   "execution_count": 10,
   "id": "aa9646cf",
   "metadata": {
    "execution": {
     "iopub.execute_input": "2024-04-28T09:24:20.995050Z",
     "iopub.status.busy": "2024-04-28T09:24:20.994546Z",
     "iopub.status.idle": "2024-04-28T09:24:21.052302Z",
     "shell.execute_reply": "2024-04-28T09:24:21.050425Z"
    },
    "papermill": {
     "duration": 0.085495,
     "end_time": "2024-04-28T09:24:21.055748",
     "exception": false,
     "start_time": "2024-04-28T09:24:20.970253",
     "status": "completed"
    },
    "tags": []
   },
   "outputs": [
    {
     "name": "stdout",
     "output_type": "stream",
     "text": [
      "<class 'pandas.core.frame.DataFrame'>\n",
      "Index: 73996 entries, 0 to 74681\n",
      "Data columns (total 4 columns):\n",
      " #   Column         Non-Null Count  Dtype \n",
      "---  ------         --------------  ----- \n",
      " 0   tweet_id       73996 non-null  int64 \n",
      " 1   entity         73996 non-null  object\n",
      " 2   sentiment      73996 non-null  object\n",
      " 3   tweet_content  73996 non-null  object\n",
      "dtypes: int64(1), object(3)\n",
      "memory usage: 2.8+ MB\n"
     ]
    }
   ],
   "source": [
    "df.info()"
   ]
  },
  {
   "cell_type": "code",
   "execution_count": 11,
   "id": "3797b090",
   "metadata": {
    "execution": {
     "iopub.execute_input": "2024-04-28T09:24:21.099670Z",
     "iopub.status.busy": "2024-04-28T09:24:21.099176Z",
     "iopub.status.idle": "2024-04-28T09:24:21.371834Z",
     "shell.execute_reply": "2024-04-28T09:24:21.370356Z"
    },
    "papermill": {
     "duration": 0.298546,
     "end_time": "2024-04-28T09:24:21.374783",
     "exception": false,
     "start_time": "2024-04-28T09:24:21.076237",
     "status": "completed"
    },
    "tags": []
   },
   "outputs": [
    {
     "data": {
      "text/html": [
       "<style type=\"text/css\">\n",
       "#T_438ba_row0_col1 {\n",
       "  background-color: #023858;\n",
       "  color: #f1f1f1;\n",
       "}\n",
       "#T_438ba_row1_col1 {\n",
       "  background-color: #04639b;\n",
       "  color: #f1f1f1;\n",
       "}\n",
       "#T_438ba_row2_col1 {\n",
       "  background-color: #5a9ec9;\n",
       "  color: #f1f1f1;\n",
       "}\n",
       "#T_438ba_row3_col1 {\n",
       "  background-color: #fff7fb;\n",
       "  color: #000000;\n",
       "}\n",
       "</style>\n",
       "<table id=\"T_438ba\">\n",
       "  <thead>\n",
       "    <tr>\n",
       "      <th class=\"blank level0\" >&nbsp;</th>\n",
       "      <th id=\"T_438ba_level0_col0\" class=\"col_heading level0 col0\" >sentiment</th>\n",
       "      <th id=\"T_438ba_level0_col1\" class=\"col_heading level0 col1\" >tweet_id</th>\n",
       "    </tr>\n",
       "  </thead>\n",
       "  <tbody>\n",
       "    <tr>\n",
       "      <th id=\"T_438ba_level0_row0\" class=\"row_heading level0 row0\" >1</th>\n",
       "      <td id=\"T_438ba_row0_col0\" class=\"data row0 col0\" >Negative</td>\n",
       "      <td id=\"T_438ba_row0_col1\" class=\"data row0 col1\" >22358</td>\n",
       "    </tr>\n",
       "    <tr>\n",
       "      <th id=\"T_438ba_level0_row1\" class=\"row_heading level0 row1\" >3</th>\n",
       "      <td id=\"T_438ba_row1_col0\" class=\"data row1 col0\" >Positive</td>\n",
       "      <td id=\"T_438ba_row1_col1\" class=\"data row1 col1\" >20655</td>\n",
       "    </tr>\n",
       "    <tr>\n",
       "      <th id=\"T_438ba_level0_row2\" class=\"row_heading level0 row2\" >2</th>\n",
       "      <td id=\"T_438ba_row2_col0\" class=\"data row2 col0\" >Neutral</td>\n",
       "      <td id=\"T_438ba_row2_col1\" class=\"data row2 col1\" >18108</td>\n",
       "    </tr>\n",
       "    <tr>\n",
       "      <th id=\"T_438ba_level0_row3\" class=\"row_heading level0 row3\" >0</th>\n",
       "      <td id=\"T_438ba_row3_col0\" class=\"data row3 col0\" >Irrelevant</td>\n",
       "      <td id=\"T_438ba_row3_col1\" class=\"data row3 col1\" >12875</td>\n",
       "    </tr>\n",
       "  </tbody>\n",
       "</table>\n"
      ],
      "text/plain": [
       "<pandas.io.formats.style.Styler at 0x7a7271a10ee0>"
      ]
     },
     "execution_count": 11,
     "metadata": {},
     "output_type": "execute_result"
    }
   ],
   "source": [
    "# view all sentiment\n",
    "\n",
    "temp = df.groupby('sentiment').count()['tweet_id'].reset_index().sort_values(by='tweet_id',ascending=False)\n",
    "temp.style.background_gradient()"
   ]
  },
  {
   "cell_type": "code",
   "execution_count": 12,
   "id": "194f3ff4",
   "metadata": {
    "execution": {
     "iopub.execute_input": "2024-04-28T09:24:21.420362Z",
     "iopub.status.busy": "2024-04-28T09:24:21.419747Z",
     "iopub.status.idle": "2024-04-28T09:24:21.864939Z",
     "shell.execute_reply": "2024-04-28T09:24:21.863446Z"
    },
    "papermill": {
     "duration": 0.472798,
     "end_time": "2024-04-28T09:24:21.868102",
     "exception": false,
     "start_time": "2024-04-28T09:24:21.395304",
     "status": "completed"
    },
    "tags": []
   },
   "outputs": [
    {
     "data": {
      "text/plain": [
       "<Axes: xlabel='sentiment', ylabel='count'>"
      ]
     },
     "execution_count": 12,
     "metadata": {},
     "output_type": "execute_result"
    },
    {
     "data": {
      "image/png": "[encoded data removed]",
      "text/plain": [
       "<Figure size 600x400 with 1 Axes>"
      ]
     },
     "metadata": {},
     "output_type": "display_data"
    }
   ],
   "source": [
    "# plot sentiment graph\n",
    "\n",
    "plt.figure(figsize=(6,4))\n",
    "sns.countplot(x='sentiment',data=df)"
   ]
  },
  {
   "cell_type": "code",
   "execution_count": 13,
   "id": "24ebc59d",
   "metadata": {
    "execution": {
     "iopub.execute_input": "2024-04-28T09:24:21.913032Z",
     "iopub.status.busy": "2024-04-28T09:24:21.912552Z",
     "iopub.status.idle": "2024-04-28T09:24:22.499286Z",
     "shell.execute_reply": "2024-04-28T09:24:22.496949Z"
    },
    "papermill": {
     "duration": 0.613896,
     "end_time": "2024-04-28T09:24:22.503130",
     "exception": false,
     "start_time": "2024-04-28T09:24:21.889234",
     "status": "completed"
    },
    "tags": []
   },
   "outputs": [
    {
     "data": {
      "text/html": [
       "        <script type=\"text/javascript\">\n",
       "        window.PlotlyConfig = {MathJaxConfig: 'local'};\n",
       "        if (window.MathJax && window.MathJax.Hub && window.MathJax.Hub.Config) {window.MathJax.Hub.Config({SVG: {font: \"STIX-Web\"}});}\n",
       "        if (typeof require !== 'undefined') {\n",
       "        require.undef(\"plotly\");\n",
       "        requirejs.config({\n",
       "            paths: {\n",
       "                'plotly': ['https://cdn.plot.ly/plotly-2.27.0.min']\n",
       "            }\n",
       "        });\n",
       "        require(['plotly'], function(Plotly) {\n",
       "            window._Plotly = Plotly;\n",
       "        });\n",
       "        }\n",
       "        </script>\n",
       "        "
      ]
     },
     "metadata": {},
     "output_type": "display_data"
    },
    {
     "data": {
      "text/html": [
       "<div>                            <div id=\"b15661fb-9b75-4523-9372-c15ebf16d317\" class=\"plotly-graph-div\" style=\"height:525px; width:100%;\"></div>            <script type=\"text/javascript\">                require([\"plotly\"], function(Plotly) {                    window.PLOTLYENV=window.PLOTLYENV || {};                                    if (document.getElementById(\"b15661fb-9b75-4523-9372-c15ebf16d317\")) {                    Plotly.newPlot(                        \"b15661fb-9b75-4523-9372-c15ebf16d317\",                        [{\"text\":[\"Negative\",\"Positive\",\"Neutral\",\"Irrelevant\"],\"title\":{\"text\":\"Funnel-Chart of Sentiment Distribution\"},\"values\":[22358,20655,18108,12875],\"type\":\"funnelarea\"}],                        {\"template\":{\"data\":{\"histogram2dcontour\":[{\"type\":\"histogram2dcontour\",\"colorbar\":{\"outlinewidth\":0,\"ticks\":\"\"},\"colorscale\":[[0.0,\"#0d0887\"],[0.1111111111111111,\"#46039f\"],[0.2222222222222222,\"#7201a8\"],[0.3333333333333333,\"#9c179e\"],[0.4444444444444444,\"#bd3786\"],[0.5555555555555556,\"#d8576b\"],[0.6666666666666666,\"#ed7953\"],[0.7777777777777778,\"#fb9f3a\"],[0.8888888888888888,\"#fdca26\"],[1.0,\"#f0f921\"]]}],\"choropleth\":[{\"type\":\"choropleth\",\"colorbar\":{\"outlinewidth\":0,\"ticks\":\"\"}}],\"histogram2d\":[{\"type\":\"histogram2d\",\"colorbar\":{\"outlinewidth\":0,\"ticks\":\"\"},\"colorscale\":[[0.0,\"#0d0887\"],[0.1111111111111111,\"#46039f\"],[0.2222222222222222,\"#7201a8\"],[0.3333333333333333,\"#9c179e\"],[0.4444444444444444,\"#bd3786\"],[0.5555555555555556,\"#d8576b\"],[0.6666666666666666,\"#ed7953\"],[0.7777777777777778,\"#fb9f3a\"],[0.8888888888888888,\"#fdca26\"],[1.0,\"#f0f921\"]]}],\"heatmap\":[{\"type\":\"heatmap\",\"colorbar\":{\"outlinewidth\":0,\"ticks\":\"\"},\"colorscale\":[[0.0,\"#0d0887\"],[0.1111111111111111,\"#46039f\"],[0.2222222222222222,\"#7201a8\"],[0.3333333333333333,\"#9c179e\"],[0.4444444444444444,\"#bd3786\"],[0.5555555555555556,\"#d8576b\"],[0.6666666666666666,\"#ed7953\"],[0.7777777777777778,\"#fb9f3a\"],[0.8888888888888888,\"#fdca26\"],[1.0,\"#f0f921\"]]}],\"heatmapgl\":[{\"type\":\"heatmapgl\",\"colorbar\":{\"outlinewidth\":0,\"ticks\":\"\"},\"colorscale\":[[0.0,\"#0d0887\"],[0.1111111111111111,\"#46039f\"],[0.2222222222222222,\"#7201a8\"],[0.3333333333333333,\"#9c179e\"],[0.4444444444444444,\"#bd3786\"],[0.5555555555555556,\"#d8576b\"],[0.6666666666666666,\"#ed7953\"],[0.7777777777777778,\"#fb9f3a\"],[0.8888888888888888,\"#fdca26\"],[1.0,\"#f0f921\"]]}],\"contourcarpet\":[{\"type\":\"contourcarpet\",\"colorbar\":{\"outlinewidth\":0,\"ticks\":\"\"}}],\"contour\":[{\"type\":\"contour\",\"colorbar\":{\"outlinewidth\":0,\"ticks\":\"\"},\"colorscale\":[[0.0,\"#0d0887\"],[0.1111111111111111,\"#46039f\"],[0.2222222222222222,\"#7201a8\"],[0.3333333333333333,\"#9c179e\"],[0.4444444444444444,\"#bd3786\"],[0.5555555555555556,\"#d8576b\"],[0.6666666666666666,\"#ed7953\"],[0.7777777777777778,\"#fb9f3a\"],[0.8888888888888888,\"#fdca26\"],[1.0,\"#f0f921\"]]}],\"surface\":[{\"type\":\"surface\",\"colorbar\":{\"outlinewidth\":0,\"ticks\":\"\"},\"colorscale\":[[0.0,\"#0d0887\"],[0.1111111111111111,\"#46039f\"],[0.2222222222222222,\"#7201a8\"],[0.3333333333333333,\"#9c179e\"],[0.4444444444444444,\"#bd3786\"],[0.5555555555555556,\"#d8576b\"],[0.6666666666666666,\"#ed7953\"],[0.7777777777777778,\"#fb9f3a\"],[0.8888888888888888,\"#fdca26\"],[1.0,\"#f0f921\"]]}],\"mesh3d\":[{\"type\":\"mesh3d\",\"colorbar\":{\"outlinewidth\":0,\"ticks\":\"\"}}],\"scatter\":[{\"fillpattern\":{\"fillmode\":\"overlay\",\"size\":10,\"solidity\":0.2},\"type\":\"scatter\"}],\"parcoords\":[{\"type\":\"parcoords\",\"line\":{\"colorbar\":{\"outlinewidth\":0,\"ticks\":\"\"}}}],\"scatterpolargl\":[{\"type\":\"scatterpolargl\",\"marker\":{\"colorbar\":{\"outlinewidth\":0,\"ticks\":\"\"}}}],\"bar\":[{\"error_x\":{\"color\":\"#2a3f5f\"},\"error_y\":{\"color\":\"#2a3f5f\"},\"marker\":{\"line\":{\"color\":\"#E5ECF6\",\"width\":0.5},\"pattern\":{\"fillmode\":\"overlay\",\"size\":10,\"solidity\":0.2}},\"type\":\"bar\"}],\"scattergeo\":[{\"type\":\"scattergeo\",\"marker\":{\"colorbar\":{\"outlinewidth\":0,\"ticks\":\"\"}}}],\"scatterpolar\":[{\"type\":\"scatterpolar\",\"marker\":{\"colorbar\":{\"outlinewidth\":0,\"ticks\":\"\"}}}],\"histogram\":[{\"marker\":{\"pattern\":{\"fillmode\":\"overlay\",\"size\":10,\"solidity\":0.2}},\"type\":\"histogram\"}],\"scattergl\":[{\"type\":\"scattergl\",\"marker\":{\"colorbar\":{\"outlinewidth\":0,\"ticks\":\"\"}}}],\"scatter3d\":[{\"type\":\"scatter3d\",\"line\":{\"colorbar\":{\"outlinewidth\":0,\"ticks\":\"\"}},\"marker\":{\"colorbar\":{\"outlinewidth\":0,\"ticks\":\"\"}}}],\"scattermapbox\":[{\"type\":\"scattermapbox\",\"marker\":{\"colorbar\":{\"outlinewidth\":0,\"ticks\":\"\"}}}],\"scatterternary\":[{\"type\":\"scatterternary\",\"marker\":{\"colorbar\":{\"outlinewidth\":0,\"ticks\":\"\"}}}],\"scattercarpet\":[{\"type\":\"scattercarpet\",\"marker\":{\"colorbar\":{\"outlinewidth\":0,\"ticks\":\"\"}}}],\"carpet\":[{\"aaxis\":{\"endlinecolor\":\"#2a3f5f\",\"gridcolor\":\"white\",\"linecolor\":\"white\",\"minorgridcolor\":\"white\",\"startlinecolor\":\"#2a3f5f\"},\"baxis\":{\"endlinecolor\":\"#2a3f5f\",\"gridcolor\":\"white\",\"linecolor\":\"white\",\"minorgridcolor\":\"white\",\"startlinecolor\":\"#2a3f5f\"},\"type\":\"carpet\"}],\"table\":[{\"cells\":{\"fill\":{\"color\":\"#EBF0F8\"},\"line\":{\"color\":\"white\"}},\"header\":{\"fill\":{\"color\":\"#C8D4E3\"},\"line\":{\"color\":\"white\"}},\"type\":\"table\"}],\"barpolar\":[{\"marker\":{\"line\":{\"color\":\"#E5ECF6\",\"width\":0.5},\"pattern\":{\"fillmode\":\"overlay\",\"size\":10,\"solidity\":0.2}},\"type\":\"barpolar\"}],\"pie\":[{\"automargin\":true,\"type\":\"pie\"}]},\"layout\":{\"autotypenumbers\":\"strict\",\"colorway\":[\"#636efa\",\"#EF553B\",\"#00cc96\",\"#ab63fa\",\"#FFA15A\",\"#19d3f3\",\"#FF6692\",\"#B6E880\",\"#FF97FF\",\"#FECB52\"],\"font\":{\"color\":\"#2a3f5f\"},\"hovermode\":\"closest\",\"hoverlabel\":{\"align\":\"left\"},\"paper_bgcolor\":\"white\",\"plot_bgcolor\":\"#E5ECF6\",\"polar\":{\"bgcolor\":\"#E5ECF6\",\"angularaxis\":{\"gridcolor\":\"white\",\"linecolor\":\"white\",\"ticks\":\"\"},\"radialaxis\":{\"gridcolor\":\"white\",\"linecolor\":\"white\",\"ticks\":\"\"}},\"ternary\":{\"bgcolor\":\"#E5ECF6\",\"aaxis\":{\"gridcolor\":\"white\",\"linecolor\":\"white\",\"ticks\":\"\"},\"baxis\":{\"gridcolor\":\"white\",\"linecolor\":\"white\",\"ticks\":\"\"},\"caxis\":{\"gridcolor\":\"white\",\"linecolor\":\"white\",\"ticks\":\"\"}},\"coloraxis\":{\"colorbar\":{\"outlinewidth\":0,\"ticks\":\"\"}},\"colorscale\":{\"sequential\":[[0.0,\"#0d0887\"],[0.1111111111111111,\"#46039f\"],[0.2222222222222222,\"#7201a8\"],[0.3333333333333333,\"#9c179e\"],[0.4444444444444444,\"#bd3786\"],[0.5555555555555556,\"#d8576b\"],[0.6666666666666666,\"#ed7953\"],[0.7777777777777778,\"#fb9f3a\"],[0.8888888888888888,\"#fdca26\"],[1.0,\"#f0f921\"]],\"sequentialminus\":[[0.0,\"#0d0887\"],[0.1111111111111111,\"#46039f\"],[0.2222222222222222,\"#7201a8\"],[0.3333333333333333,\"#9c179e\"],[0.4444444444444444,\"#bd3786\"],[0.5555555555555556,\"#d8576b\"],[0.6666666666666666,\"#ed7953\"],[0.7777777777777778,\"#fb9f3a\"],[0.8888888888888888,\"#fdca26\"],[1.0,\"#f0f921\"]],\"diverging\":[[0,\"#8e0152\"],[0.1,\"#c51b7d\"],[0.2,\"#de77ae\"],[0.3,\"#f1b6da\"],[0.4,\"#fde0ef\"],[0.5,\"#f7f7f7\"],[0.6,\"#e6f5d0\"],[0.7,\"#b8e186\"],[0.8,\"#7fbc41\"],[0.9,\"#4d9221\"],[1,\"#276419\"]]},\"xaxis\":{\"gridcolor\":\"white\",\"linecolor\":\"white\",\"ticks\":\"\",\"title\":{\"standoff\":15},\"zerolinecolor\":\"white\",\"automargin\":true,\"zerolinewidth\":2},\"yaxis\":{\"gridcolor\":\"white\",\"linecolor\":\"white\",\"ticks\":\"\",\"title\":{\"standoff\":15},\"zerolinecolor\":\"white\",\"automargin\":true,\"zerolinewidth\":2},\"scene\":{\"xaxis\":{\"backgroundcolor\":\"#E5ECF6\",\"gridcolor\":\"white\",\"linecolor\":\"white\",\"showbackground\":true,\"ticks\":\"\",\"zerolinecolor\":\"white\",\"gridwidth\":2},\"yaxis\":{\"backgroundcolor\":\"#E5ECF6\",\"gridcolor\":\"white\",\"linecolor\":\"white\",\"showbackground\":true,\"ticks\":\"\",\"zerolinecolor\":\"white\",\"gridwidth\":2},\"zaxis\":{\"backgroundcolor\":\"#E5ECF6\",\"gridcolor\":\"white\",\"linecolor\":\"white\",\"showbackground\":true,\"ticks\":\"\",\"zerolinecolor\":\"white\",\"gridwidth\":2}},\"shapedefaults\":{\"line\":{\"color\":\"#2a3f5f\"}},\"annotationdefaults\":{\"arrowcolor\":\"#2a3f5f\",\"arrowhead\":0,\"arrowwidth\":1},\"geo\":{\"bgcolor\":\"white\",\"landcolor\":\"#E5ECF6\",\"subunitcolor\":\"white\",\"showland\":true,\"showlakes\":true,\"lakecolor\":\"white\"},\"title\":{\"x\":0.05},\"mapbox\":{\"style\":\"light\"}}}},                        {\"responsive\": true}                    ).then(function(){\n",
       "                            \n",
       "var gd = document.getElementById('b15661fb-9b75-4523-9372-c15ebf16d317');\n",
       "var x = new MutationObserver(function (mutations, observer) {{\n",
       "        var display = window.getComputedStyle(gd).display;\n",
       "        if (!display || display === 'none') {{\n",
       "            console.log([gd, 'removed!']);\n",
       "            Plotly.purge(gd);\n",
       "            observer.disconnect();\n",
       "        }}\n",
       "}});\n",
       "\n",
       "// Listen for the removal of the full notebook cells\n",
       "var notebookContainer = gd.closest('#notebook-container');\n",
       "if (notebookContainer) {{\n",
       "    x.observe(notebookContainer, {childList: true});\n",
       "}}\n",
       "\n",
       "// Listen for the clearing of the current output cell\n",
       "var outputEl = gd.closest('.output');\n",
       "if (outputEl) {{\n",
       "    x.observe(outputEl, {childList: true});\n",
       "}}\n",
       "\n",
       "                        })                };                });            </script>        </div>"
      ]
     },
     "metadata": {},
     "output_type": "display_data"
    }
   ],
   "source": [
    "fig = go.Figure(go.Funnelarea(\n",
    "    text =temp.sentiment,\n",
    "    values = temp.tweet_id,\n",
    "    title = {\"text\": \"Funnel-Chart of Sentiment Distribution\"}\n",
    "    ))\n",
    "fig.show()"
   ]
  },
  {
   "cell_type": "code",
   "execution_count": 14,
   "id": "6d5c1cbf",
   "metadata": {
    "execution": {
     "iopub.execute_input": "2024-04-28T09:24:22.549394Z",
     "iopub.status.busy": "2024-04-28T09:24:22.548963Z",
     "iopub.status.idle": "2024-04-28T09:24:23.748606Z",
     "shell.execute_reply": "2024-04-28T09:24:23.747100Z"
    },
    "papermill": {
     "duration": 1.225466,
     "end_time": "2024-04-28T09:24:23.751718",
     "exception": false,
     "start_time": "2024-04-28T09:24:22.526252",
     "status": "completed"
    },
    "tags": []
   },
   "outputs": [],
   "source": [
    "# remove punctuation\n",
    "\n",
    "df.replace(\"[^a-zA-Z]\",\" \",regex=True, inplace=True)"
   ]
  },
  {
   "cell_type": "code",
   "execution_count": 15,
   "id": "346cef46",
   "metadata": {
    "execution": {
     "iopub.execute_input": "2024-04-28T09:24:23.798620Z",
     "iopub.status.busy": "2024-04-28T09:24:23.798174Z",
     "iopub.status.idle": "2024-04-28T09:24:23.812191Z",
     "shell.execute_reply": "2024-04-28T09:24:23.810811Z"
    },
    "papermill": {
     "duration": 0.041074,
     "end_time": "2024-04-28T09:24:23.815429",
     "exception": false,
     "start_time": "2024-04-28T09:24:23.774355",
     "status": "completed"
    },
    "tags": []
   },
   "outputs": [
    {
     "data": {
      "text/html": [
       "<div>\n",
       "<style scoped>\n",
       "    .dataframe tbody tr th:only-of-type {\n",
       "        vertical-align: middle;\n",
       "    }\n",
       "\n",
       "    .dataframe tbody tr th {\n",
       "        vertical-align: top;\n",
       "    }\n",
       "\n",
       "    .dataframe thead th {\n",
       "        text-align: right;\n",
       "    }\n",
       "</style>\n",
       "<table border=\"1\" class=\"dataframe\">\n",
       "  <thead>\n",
       "    <tr style=\"text-align: right;\">\n",
       "      <th></th>\n",
       "      <th>tweet_id</th>\n",
       "      <th>entity</th>\n",
       "      <th>sentiment</th>\n",
       "      <th>tweet_content</th>\n",
       "    </tr>\n",
       "  </thead>\n",
       "  <tbody>\n",
       "    <tr>\n",
       "      <th>0</th>\n",
       "      <td>2401</td>\n",
       "      <td>Borderlands</td>\n",
       "      <td>Positive</td>\n",
       "      <td>im getting on borderlands and i will murder yo...</td>\n",
       "    </tr>\n",
       "    <tr>\n",
       "      <th>1</th>\n",
       "      <td>2401</td>\n",
       "      <td>Borderlands</td>\n",
       "      <td>Positive</td>\n",
       "      <td>I am coming to the borders and I will kill you...</td>\n",
       "    </tr>\n",
       "    <tr>\n",
       "      <th>2</th>\n",
       "      <td>2401</td>\n",
       "      <td>Borderlands</td>\n",
       "      <td>Positive</td>\n",
       "      <td>im getting on borderlands and i will kill you ...</td>\n",
       "    </tr>\n",
       "    <tr>\n",
       "      <th>3</th>\n",
       "      <td>2401</td>\n",
       "      <td>Borderlands</td>\n",
       "      <td>Positive</td>\n",
       "      <td>im coming on borderlands and i will murder you...</td>\n",
       "    </tr>\n",
       "    <tr>\n",
       "      <th>4</th>\n",
       "      <td>2401</td>\n",
       "      <td>Borderlands</td>\n",
       "      <td>Positive</td>\n",
       "      <td>im getting on borderlands   and i will murder ...</td>\n",
       "    </tr>\n",
       "  </tbody>\n",
       "</table>\n",
       "</div>"
      ],
      "text/plain": [
       "   tweet_id       entity sentiment  \\\n",
       "0      2401  Borderlands  Positive   \n",
       "1      2401  Borderlands  Positive   \n",
       "2      2401  Borderlands  Positive   \n",
       "3      2401  Borderlands  Positive   \n",
       "4      2401  Borderlands  Positive   \n",
       "\n",
       "                                       tweet_content  \n",
       "0  im getting on borderlands and i will murder yo...  \n",
       "1  I am coming to the borders and I will kill you...  \n",
       "2  im getting on borderlands and i will kill you ...  \n",
       "3  im coming on borderlands and i will murder you...  \n",
       "4  im getting on borderlands   and i will murder ...  "
      ]
     },
     "execution_count": 15,
     "metadata": {},
     "output_type": "execute_result"
    }
   ],
   "source": [
    "df.head()"
   ]
  },
  {
   "cell_type": "code",
   "execution_count": 16,
   "id": "8c0f4a8b",
   "metadata": {
    "execution": {
     "iopub.execute_input": "2024-04-28T09:24:23.861915Z",
     "iopub.status.busy": "2024-04-28T09:24:23.861470Z",
     "iopub.status.idle": "2024-04-28T09:24:23.867034Z",
     "shell.execute_reply": "2024-04-28T09:24:23.865889Z"
    },
    "papermill": {
     "duration": 0.031896,
     "end_time": "2024-04-28T09:24:23.869458",
     "exception": false,
     "start_time": "2024-04-28T09:24:23.837562",
     "status": "completed"
    },
    "tags": []
   },
   "outputs": [],
   "source": [
    "columns = df.columns[1::] # only string columns"
   ]
  },
  {
   "cell_type": "code",
   "execution_count": 17,
   "id": "7e751b83",
   "metadata": {
    "execution": {
     "iopub.execute_input": "2024-04-28T09:24:23.915331Z",
     "iopub.status.busy": "2024-04-28T09:24:23.914884Z",
     "iopub.status.idle": "2024-04-28T09:24:24.021677Z",
     "shell.execute_reply": "2024-04-28T09:24:24.020394Z"
    },
    "papermill": {
     "duration": 0.133412,
     "end_time": "2024-04-28T09:24:24.024644",
     "exception": false,
     "start_time": "2024-04-28T09:24:23.891232",
     "status": "completed"
    },
    "tags": []
   },
   "outputs": [
    {
     "data": {
      "text/html": [
       "<div>\n",
       "<style scoped>\n",
       "    .dataframe tbody tr th:only-of-type {\n",
       "        vertical-align: middle;\n",
       "    }\n",
       "\n",
       "    .dataframe tbody tr th {\n",
       "        vertical-align: top;\n",
       "    }\n",
       "\n",
       "    .dataframe thead th {\n",
       "        text-align: right;\n",
       "    }\n",
       "</style>\n",
       "<table border=\"1\" class=\"dataframe\">\n",
       "  <thead>\n",
       "    <tr style=\"text-align: right;\">\n",
       "      <th></th>\n",
       "      <th>tweet_id</th>\n",
       "      <th>entity</th>\n",
       "      <th>sentiment</th>\n",
       "      <th>tweet_content</th>\n",
       "    </tr>\n",
       "  </thead>\n",
       "  <tbody>\n",
       "    <tr>\n",
       "      <th>0</th>\n",
       "      <td>2401</td>\n",
       "      <td>borderlands</td>\n",
       "      <td>positive</td>\n",
       "      <td>im getting on borderlands and i will murder yo...</td>\n",
       "    </tr>\n",
       "  </tbody>\n",
       "</table>\n",
       "</div>"
      ],
      "text/plain": [
       "   tweet_id       entity sentiment  \\\n",
       "0      2401  borderlands  positive   \n",
       "\n",
       "                                       tweet_content  \n",
       "0  im getting on borderlands and i will murder yo...  "
      ]
     },
     "execution_count": 17,
     "metadata": {},
     "output_type": "execute_result"
    }
   ],
   "source": [
    "# convert to lower case\n",
    "\n",
    "for col in columns:\n",
    "    df[col] = df[col].str.lower()\n",
    "df.head(1)"
   ]
  },
  {
   "cell_type": "code",
   "execution_count": 18,
   "id": "96d38dff",
   "metadata": {
    "execution": {
     "iopub.execute_input": "2024-04-28T09:24:24.071141Z",
     "iopub.status.busy": "2024-04-28T09:24:24.070715Z",
     "iopub.status.idle": "2024-04-28T09:24:24.089933Z",
     "shell.execute_reply": "2024-04-28T09:24:24.088676Z"
    },
    "papermill": {
     "duration": 0.046137,
     "end_time": "2024-04-28T09:24:24.092639",
     "exception": false,
     "start_time": "2024-04-28T09:24:24.046502",
     "status": "completed"
    },
    "tags": []
   },
   "outputs": [],
   "source": [
    "# give numerical label for easy prediction\n",
    "\n",
    "df['sentiment'] = df['sentiment'].map({'negative': 0, 'positive': 1, 'neutral' : 2, 'irrelevant' : 3})"
   ]
  },
  {
   "cell_type": "code",
   "execution_count": 19,
   "id": "247b8042",
   "metadata": {
    "execution": {
     "iopub.execute_input": "2024-04-28T09:24:24.139481Z",
     "iopub.status.busy": "2024-04-28T09:24:24.139058Z",
     "iopub.status.idle": "2024-04-28T09:24:24.151327Z",
     "shell.execute_reply": "2024-04-28T09:24:24.150091Z"
    },
    "papermill": {
     "duration": 0.039231,
     "end_time": "2024-04-28T09:24:24.154141",
     "exception": false,
     "start_time": "2024-04-28T09:24:24.114910",
     "status": "completed"
    },
    "tags": []
   },
   "outputs": [
    {
     "data": {
      "text/html": [
       "<div>\n",
       "<style scoped>\n",
       "    .dataframe tbody tr th:only-of-type {\n",
       "        vertical-align: middle;\n",
       "    }\n",
       "\n",
       "    .dataframe tbody tr th {\n",
       "        vertical-align: top;\n",
       "    }\n",
       "\n",
       "    .dataframe thead th {\n",
       "        text-align: right;\n",
       "    }\n",
       "</style>\n",
       "<table border=\"1\" class=\"dataframe\">\n",
       "  <thead>\n",
       "    <tr style=\"text-align: right;\">\n",
       "      <th></th>\n",
       "      <th>tweet_id</th>\n",
       "      <th>entity</th>\n",
       "      <th>sentiment</th>\n",
       "      <th>tweet_content</th>\n",
       "    </tr>\n",
       "  </thead>\n",
       "  <tbody>\n",
       "    <tr>\n",
       "      <th>0</th>\n",
       "      <td>2401</td>\n",
       "      <td>borderlands</td>\n",
       "      <td>1</td>\n",
       "      <td>im getting on borderlands and i will murder yo...</td>\n",
       "    </tr>\n",
       "  </tbody>\n",
       "</table>\n",
       "</div>"
      ],
      "text/plain": [
       "   tweet_id       entity  sentiment  \\\n",
       "0      2401  borderlands          1   \n",
       "\n",
       "                                       tweet_content  \n",
       "0  im getting on borderlands and i will murder yo...  "
      ]
     },
     "execution_count": 19,
     "metadata": {},
     "output_type": "execute_result"
    }
   ],
   "source": [
    "df.head(1)"
   ]
  },
  {
   "cell_type": "code",
   "execution_count": 20,
   "id": "3ce78750",
   "metadata": {
    "execution": {
     "iopub.execute_input": "2024-04-28T09:24:24.292836Z",
     "iopub.status.busy": "2024-04-28T09:24:24.292328Z",
     "iopub.status.idle": "2024-04-28T09:24:24.342613Z",
     "shell.execute_reply": "2024-04-28T09:24:24.341152Z"
    },
    "papermill": {
     "duration": 0.078867,
     "end_time": "2024-04-28T09:24:24.345932",
     "exception": false,
     "start_time": "2024-04-28T09:24:24.267065",
     "status": "completed"
    },
    "tags": []
   },
   "outputs": [],
   "source": [
    " # join the  entity & tweet_content for apply CountVectorizer\n",
    "\n",
    "df['tweet'] = df['entity'] + ' ' + df['tweet_content']"
   ]
  },
  {
   "cell_type": "code",
   "execution_count": 21,
   "id": "c71d6b2a",
   "metadata": {
    "execution": {
     "iopub.execute_input": "2024-04-28T09:24:24.395162Z",
     "iopub.status.busy": "2024-04-28T09:24:24.392536Z",
     "iopub.status.idle": "2024-04-28T09:24:24.410155Z",
     "shell.execute_reply": "2024-04-28T09:24:24.408148Z"
    },
    "papermill": {
     "duration": 0.045031,
     "end_time": "2024-04-28T09:24:24.413061",
     "exception": false,
     "start_time": "2024-04-28T09:24:24.368030",
     "status": "completed"
    },
    "tags": []
   },
   "outputs": [
    {
     "data": {
      "text/html": [
       "<div>\n",
       "<style scoped>\n",
       "    .dataframe tbody tr th:only-of-type {\n",
       "        vertical-align: middle;\n",
       "    }\n",
       "\n",
       "    .dataframe tbody tr th {\n",
       "        vertical-align: top;\n",
       "    }\n",
       "\n",
       "    .dataframe thead th {\n",
       "        text-align: right;\n",
       "    }\n",
       "</style>\n",
       "<table border=\"1\" class=\"dataframe\">\n",
       "  <thead>\n",
       "    <tr style=\"text-align: right;\">\n",
       "      <th></th>\n",
       "      <th>tweet_id</th>\n",
       "      <th>entity</th>\n",
       "      <th>sentiment</th>\n",
       "      <th>tweet_content</th>\n",
       "      <th>tweet</th>\n",
       "    </tr>\n",
       "  </thead>\n",
       "  <tbody>\n",
       "    <tr>\n",
       "      <th>0</th>\n",
       "      <td>2401</td>\n",
       "      <td>borderlands</td>\n",
       "      <td>1</td>\n",
       "      <td>im getting on borderlands and i will murder yo...</td>\n",
       "      <td>borderlands im getting on borderlands and i wi...</td>\n",
       "    </tr>\n",
       "    <tr>\n",
       "      <th>1</th>\n",
       "      <td>2401</td>\n",
       "      <td>borderlands</td>\n",
       "      <td>1</td>\n",
       "      <td>i am coming to the borders and i will kill you...</td>\n",
       "      <td>borderlands i am coming to the borders and i w...</td>\n",
       "    </tr>\n",
       "    <tr>\n",
       "      <th>2</th>\n",
       "      <td>2401</td>\n",
       "      <td>borderlands</td>\n",
       "      <td>1</td>\n",
       "      <td>im getting on borderlands and i will kill you ...</td>\n",
       "      <td>borderlands im getting on borderlands and i wi...</td>\n",
       "    </tr>\n",
       "    <tr>\n",
       "      <th>3</th>\n",
       "      <td>2401</td>\n",
       "      <td>borderlands</td>\n",
       "      <td>1</td>\n",
       "      <td>im coming on borderlands and i will murder you...</td>\n",
       "      <td>borderlands im coming on borderlands and i wil...</td>\n",
       "    </tr>\n",
       "    <tr>\n",
       "      <th>4</th>\n",
       "      <td>2401</td>\n",
       "      <td>borderlands</td>\n",
       "      <td>1</td>\n",
       "      <td>im getting on borderlands   and i will murder ...</td>\n",
       "      <td>borderlands im getting on borderlands   and i ...</td>\n",
       "    </tr>\n",
       "  </tbody>\n",
       "</table>\n",
       "</div>"
      ],
      "text/plain": [
       "   tweet_id       entity  sentiment  \\\n",
       "0      2401  borderlands          1   \n",
       "1      2401  borderlands          1   \n",
       "2      2401  borderlands          1   \n",
       "3      2401  borderlands          1   \n",
       "4      2401  borderlands          1   \n",
       "\n",
       "                                       tweet_content  \\\n",
       "0  im getting on borderlands and i will murder yo...   \n",
       "1  i am coming to the borders and i will kill you...   \n",
       "2  im getting on borderlands and i will kill you ...   \n",
       "3  im coming on borderlands and i will murder you...   \n",
       "4  im getting on borderlands   and i will murder ...   \n",
       "\n",
       "                                               tweet  \n",
       "0  borderlands im getting on borderlands and i wi...  \n",
       "1  borderlands i am coming to the borders and i w...  \n",
       "2  borderlands im getting on borderlands and i wi...  \n",
       "3  borderlands im coming on borderlands and i wil...  \n",
       "4  borderlands im getting on borderlands   and i ...  "
      ]
     },
     "execution_count": 21,
     "metadata": {},
     "output_type": "execute_result"
    }
   ],
   "source": [
    "df.head()"
   ]
  },
  {
   "cell_type": "code",
   "execution_count": 22,
   "id": "3278f6b2",
   "metadata": {
    "execution": {
     "iopub.execute_input": "2024-04-28T09:24:24.464305Z",
     "iopub.status.busy": "2024-04-28T09:24:24.463126Z",
     "iopub.status.idle": "2024-04-28T09:24:24.474222Z",
     "shell.execute_reply": "2024-04-28T09:24:24.472843Z"
    },
    "papermill": {
     "duration": 0.03892,
     "end_time": "2024-04-28T09:24:24.477286",
     "exception": false,
     "start_time": "2024-04-28T09:24:24.438366",
     "status": "completed"
    },
    "tags": []
   },
   "outputs": [],
   "source": [
    "# drop unnecessary column\n",
    "\n",
    "df.drop(columns=['tweet_id', 'entity', 'tweet_content'], inplace=True)"
   ]
  },
  {
   "cell_type": "code",
   "execution_count": 23,
   "id": "d83846bc",
   "metadata": {
    "execution": {
     "iopub.execute_input": "2024-04-28T09:24:24.524017Z",
     "iopub.status.busy": "2024-04-28T09:24:24.523301Z",
     "iopub.status.idle": "2024-04-28T09:24:24.537142Z",
     "shell.execute_reply": "2024-04-28T09:24:24.535732Z"
    },
    "papermill": {
     "duration": 0.040908,
     "end_time": "2024-04-28T09:24:24.540243",
     "exception": false,
     "start_time": "2024-04-28T09:24:24.499335",
     "status": "completed"
    },
    "tags": []
   },
   "outputs": [
    {
     "data": {
      "text/html": [
       "<div>\n",
       "<style scoped>\n",
       "    .dataframe tbody tr th:only-of-type {\n",
       "        vertical-align: middle;\n",
       "    }\n",
       "\n",
       "    .dataframe tbody tr th {\n",
       "        vertical-align: top;\n",
       "    }\n",
       "\n",
       "    .dataframe thead th {\n",
       "        text-align: right;\n",
       "    }\n",
       "</style>\n",
       "<table border=\"1\" class=\"dataframe\">\n",
       "  <thead>\n",
       "    <tr style=\"text-align: right;\">\n",
       "      <th></th>\n",
       "      <th>sentiment</th>\n",
       "      <th>tweet</th>\n",
       "    </tr>\n",
       "  </thead>\n",
       "  <tbody>\n",
       "    <tr>\n",
       "      <th>0</th>\n",
       "      <td>1</td>\n",
       "      <td>borderlands im getting on borderlands and i wi...</td>\n",
       "    </tr>\n",
       "  </tbody>\n",
       "</table>\n",
       "</div>"
      ],
      "text/plain": [
       "   sentiment                                              tweet\n",
       "0          1  borderlands im getting on borderlands and i wi..."
      ]
     },
     "execution_count": 23,
     "metadata": {},
     "output_type": "execute_result"
    }
   ],
   "source": [
    "df.head(1)"
   ]
  },
  {
   "cell_type": "markdown",
   "id": "deaa22ef",
   "metadata": {
    "papermill": {
     "duration": 0.021867,
     "end_time": "2024-04-28T09:24:24.584189",
     "exception": false,
     "start_time": "2024-04-28T09:24:24.562322",
     "status": "completed"
    },
    "tags": []
   },
   "source": [
    "#### **Model**"
   ]
  },
  {
   "cell_type": "code",
   "execution_count": 24,
   "id": "2dc064d4",
   "metadata": {
    "execution": {
     "iopub.execute_input": "2024-04-28T09:24:24.633306Z",
     "iopub.status.busy": "2024-04-28T09:24:24.632840Z",
     "iopub.status.idle": "2024-04-28T09:24:25.365345Z",
     "shell.execute_reply": "2024-04-28T09:24:25.363957Z"
    },
    "papermill": {
     "duration": 0.762536,
     "end_time": "2024-04-28T09:24:25.368846",
     "exception": false,
     "start_time": "2024-04-28T09:24:24.606310",
     "status": "completed"
    },
    "tags": []
   },
   "outputs": [],
   "source": [
    "from sklearn.feature_extraction.text import CountVectorizer\n",
    "from sklearn.ensemble import RandomForestClassifier"
   ]
  },
  {
   "cell_type": "code",
   "execution_count": 25,
   "id": "ddd4dd90",
   "metadata": {
    "execution": {
     "iopub.execute_input": "2024-04-28T09:24:25.415735Z",
     "iopub.status.busy": "2024-04-28T09:24:25.415268Z",
     "iopub.status.idle": "2024-04-28T09:24:25.421180Z",
     "shell.execute_reply": "2024-04-28T09:24:25.419852Z"
    },
    "papermill": {
     "duration": 0.032174,
     "end_time": "2024-04-28T09:24:25.423568",
     "exception": false,
     "start_time": "2024-04-28T09:24:25.391394",
     "status": "completed"
    },
    "tags": []
   },
   "outputs": [],
   "source": [
    "countvector = CountVectorizer(ngram_range=(2, 2))"
   ]
  },
  {
   "cell_type": "code",
   "execution_count": 26,
   "id": "07a64d56",
   "metadata": {
    "execution": {
     "iopub.execute_input": "2024-04-28T09:24:25.471582Z",
     "iopub.status.busy": "2024-04-28T09:24:25.471133Z",
     "iopub.status.idle": "2024-04-28T09:24:30.478416Z",
     "shell.execute_reply": "2024-04-28T09:24:30.476985Z"
    },
    "papermill": {
     "duration": 5.034996,
     "end_time": "2024-04-28T09:24:30.481436",
     "exception": false,
     "start_time": "2024-04-28T09:24:25.446440",
     "status": "completed"
    },
    "tags": []
   },
   "outputs": [],
   "source": [
    "# fit the train data\n",
    "\n",
    "traindataset = countvector.fit_transform(df['tweet'])"
   ]
  },
  {
   "cell_type": "code",
   "execution_count": 27,
   "id": "c9382551",
   "metadata": {
    "execution": {
     "iopub.execute_input": "2024-04-28T09:24:30.532104Z",
     "iopub.status.busy": "2024-04-28T09:24:30.531584Z",
     "iopub.status.idle": "2024-04-28T09:24:30.540507Z",
     "shell.execute_reply": "2024-04-28T09:24:30.538543Z"
    },
    "papermill": {
     "duration": 0.039533,
     "end_time": "2024-04-28T09:24:30.544620",
     "exception": false,
     "start_time": "2024-04-28T09:24:30.505087",
     "status": "completed"
    },
    "tags": []
   },
   "outputs": [
    {
     "data": {
      "text/plain": [
       "<73996x305576 sparse matrix of type '<class 'numpy.int64'>'\n",
       "\twith 1313613 stored elements in Compressed Sparse Row format>"
      ]
     },
     "execution_count": 27,
     "metadata": {},
     "output_type": "execute_result"
    }
   ],
   "source": [
    "# its return sparse matrix\n",
    "\n",
    "traindataset"
   ]
  },
  {
   "cell_type": "code",
   "execution_count": 28,
   "id": "b63b4524",
   "metadata": {
    "execution": {
     "iopub.execute_input": "2024-04-28T09:24:30.596364Z",
     "iopub.status.busy": "2024-04-28T09:24:30.595893Z",
     "iopub.status.idle": "2024-04-28T11:21:16.718671Z",
     "shell.execute_reply": "2024-04-28T11:21:16.717462Z"
    },
    "papermill": {
     "duration": 7006.175068,
     "end_time": "2024-04-28T11:21:16.745200",
     "exception": false,
     "start_time": "2024-04-28T09:24:30.570132",
     "status": "completed"
    },
    "tags": []
   },
   "outputs": [
    {
     "data": {
      "text/html": [
       "<style>#sk-container-id-1 {color: black;background-color: white;}#sk-container-id-1 pre{padding: 0;}#sk-container-id-1 div.sk-toggleable {background-color: white;}#sk-container-id-1 label.sk-toggleable__label {cursor: pointer;display: block;width: 100%;margin-bottom: 0;padding: 0.3em;box-sizing: border-box;text-align: center;}#sk-container-id-1 label.sk-toggleable__label-arrow:before {content: \"▸\";float: left;margin-right: 0.25em;color: #696969;}#sk-container-id-1 label.sk-toggleable__label-arrow:hover:before {color: black;}#sk-container-id-1 div.sk-estimator:hover label.sk-toggleable__label-arrow:before {color: black;}#sk-container-id-1 div.sk-toggleable__content {max-height: 0;max-width: 0;overflow: hidden;text-align: left;background-color: #f0f8ff;}#sk-container-id-1 div.sk-toggleable__content pre {margin: 0.2em;color: black;border-radius: 0.25em;background-color: #f0f8ff;}#sk-container-id-1 input.sk-toggleable__control:checked~div.sk-toggleable__content {max-height: 200px;max-width: 100%;overflow: auto;}#sk-container-id-1 input.sk-toggleable__control:checked~label.sk-toggleable__label-arrow:before {content: \"▾\";}#sk-container-id-1 div.sk-estimator input.sk-toggleable__control:checked~label.sk-toggleable__label {background-color: #d4ebff;}#sk-container-id-1 div.sk-label input.sk-toggleable__control:checked~label.sk-toggleable__label {background-color: #d4ebff;}#sk-container-id-1 input.sk-hidden--visually {border: 0;clip: rect(1px 1px 1px 1px);clip: rect(1px, 1px, 1px, 1px);height: 1px;margin: -1px;overflow: hidden;padding: 0;position: absolute;width: 1px;}#sk-container-id-1 div.sk-estimator {font-family: monospace;background-color: #f0f8ff;border: 1px dotted black;border-radius: 0.25em;box-sizing: border-box;margin-bottom: 0.5em;}#sk-container-id-1 div.sk-estimator:hover {background-color: #d4ebff;}#sk-container-id-1 div.sk-parallel-item::after {content: \"\";width: 100%;border-bottom: 1px solid gray;flex-grow: 1;}#sk-container-id-1 div.sk-label:hover label.sk-toggleable__label {background-color: #d4ebff;}#sk-container-id-1 div.sk-serial::before {content: \"\";position: absolute;border-left: 1px solid gray;box-sizing: border-box;top: 0;bottom: 0;left: 50%;z-index: 0;}#sk-container-id-1 div.sk-serial {display: flex;flex-direction: column;align-items: center;background-color: white;padding-right: 0.2em;padding-left: 0.2em;position: relative;}#sk-container-id-1 div.sk-item {position: relative;z-index: 1;}#sk-container-id-1 div.sk-parallel {display: flex;align-items: stretch;justify-content: center;background-color: white;position: relative;}#sk-container-id-1 div.sk-item::before, #sk-container-id-1 div.sk-parallel-item::before {content: \"\";position: absolute;border-left: 1px solid gray;box-sizing: border-box;top: 0;bottom: 0;left: 50%;z-index: -1;}#sk-container-id-1 div.sk-parallel-item {display: flex;flex-direction: column;z-index: 1;position: relative;background-color: white;}#sk-container-id-1 div.sk-parallel-item:first-child::after {align-self: flex-end;width: 50%;}#sk-container-id-1 div.sk-parallel-item:last-child::after {align-self: flex-start;width: 50%;}#sk-container-id-1 div.sk-parallel-item:only-child::after {width: 0;}#sk-container-id-1 div.sk-dashed-wrapped {border: 1px dashed gray;margin: 0 0.4em 0.5em 0.4em;box-sizing: border-box;padding-bottom: 0.4em;background-color: white;}#sk-container-id-1 div.sk-label label {font-family: monospace;font-weight: bold;display: inline-block;line-height: 1.2em;}#sk-container-id-1 div.sk-label-container {text-align: center;}#sk-container-id-1 div.sk-container {/* jupyter's `normalize.less` sets `[hidden] { display: none; }` but bootstrap.min.css set `[hidden] { display: none !important; }` so we also need the `!important` here to be able to override the default hidden behavior on the sphinx rendered scikit-learn.org. See: https://github.com/scikit-learn/scikit-learn/issues/21755 */display: inline-block !important;position: relative;}#sk-container-id-1 div.sk-text-repr-fallback {display: none;}</style><div id=\"sk-container-id-1\" class=\"sk-top-container\"><div class=\"sk-text-repr-fallback\"><pre>RandomForestClassifier(criterion=&#x27;entropy&#x27;, n_estimators=200)</pre><b>In a Jupyter environment, please rerun this cell to show the HTML representation or trust the notebook. <br />On GitHub, the HTML representation is unable to render, please try loading this page with nbviewer.org.</b></div><div class=\"sk-container\" hidden><div class=\"sk-item\"><div class=\"sk-estimator sk-toggleable\"><input class=\"sk-toggleable__control sk-hidden--visually\" id=\"sk-estimator-id-1\" type=\"checkbox\" checked><label for=\"sk-estimator-id-1\" class=\"sk-toggleable__label sk-toggleable__label-arrow\">RandomForestClassifier</label><div class=\"sk-toggleable__content\"><pre>RandomForestClassifier(criterion=&#x27;entropy&#x27;, n_estimators=200)</pre></div></div></div></div></div>"
      ],
      "text/plain": [
       "RandomForestClassifier(criterion='entropy', n_estimators=200)"
      ]
     },
     "execution_count": 28,
     "metadata": {},
     "output_type": "execute_result"
    }
   ],
   "source": [
    "randomclassifier = RandomForestClassifier(n_estimators=200, criterion='entropy')\n",
    "randomclassifier.fit(traindataset, df['sentiment'])"
   ]
  },
  {
   "cell_type": "code",
   "execution_count": 29,
   "id": "c27a4e6c",
   "metadata": {
    "execution": {
     "iopub.execute_input": "2024-04-28T11:21:16.792327Z",
     "iopub.status.busy": "2024-04-28T11:21:16.791895Z",
     "iopub.status.idle": "2024-04-28T11:21:19.031831Z",
     "shell.execute_reply": "2024-04-28T11:21:19.030764Z"
    },
    "papermill": {
     "duration": 2.267008,
     "end_time": "2024-04-28T11:21:19.035023",
     "exception": false,
     "start_time": "2024-04-28T11:21:16.768015",
     "status": "completed"
    },
    "tags": []
   },
   "outputs": [],
   "source": [
    "# save model\n",
    "\n",
    "import pickle\n",
    "\n",
    "model_pkl_file = \"/kaggle/working/sentiment_analysis_model.pkl\"  \n",
    "\n",
    "with open(model_pkl_file, 'wb') as file:  \n",
    "    pickle.dump(randomclassifier, file)"
   ]
  },
  {
   "cell_type": "markdown",
   "id": "f11ab0f0",
   "metadata": {
    "papermill": {
     "duration": 0.022424,
     "end_time": "2024-04-28T11:21:19.080373",
     "exception": false,
     "start_time": "2024-04-28T11:21:19.057949",
     "status": "completed"
    },
    "tags": []
   },
   "source": [
    "# Test Dataset"
   ]
  },
  {
   "cell_type": "code",
   "execution_count": 30,
   "id": "2f9876c3",
   "metadata": {
    "execution": {
     "iopub.execute_input": "2024-04-28T11:21:19.127804Z",
     "iopub.status.busy": "2024-04-28T11:21:19.126656Z",
     "iopub.status.idle": "2024-04-28T11:21:19.161034Z",
     "shell.execute_reply": "2024-04-28T11:21:19.159767Z"
    },
    "papermill": {
     "duration": 0.060877,
     "end_time": "2024-04-28T11:21:19.163886",
     "exception": false,
     "start_time": "2024-04-28T11:21:19.103009",
     "status": "completed"
    },
    "tags": []
   },
   "outputs": [],
   "source": [
    "name = ['tweet_id', 'entity', 'sentiment', 'tweet_content']\n",
    "df = pd.read_csv('/kaggle/input/twitter-entity-sentiment-analysis/twitter_validation.csv', names=name)"
   ]
  },
  {
   "cell_type": "code",
   "execution_count": 31,
   "id": "26e02af6",
   "metadata": {
    "execution": {
     "iopub.execute_input": "2024-04-28T11:21:19.212742Z",
     "iopub.status.busy": "2024-04-28T11:21:19.211904Z",
     "iopub.status.idle": "2024-04-28T11:21:19.224731Z",
     "shell.execute_reply": "2024-04-28T11:21:19.223554Z"
    },
    "papermill": {
     "duration": 0.040995,
     "end_time": "2024-04-28T11:21:19.227340",
     "exception": false,
     "start_time": "2024-04-28T11:21:19.186345",
     "status": "completed"
    },
    "tags": []
   },
   "outputs": [
    {
     "data": {
      "text/html": [
       "<div>\n",
       "<style scoped>\n",
       "    .dataframe tbody tr th:only-of-type {\n",
       "        vertical-align: middle;\n",
       "    }\n",
       "\n",
       "    .dataframe tbody tr th {\n",
       "        vertical-align: top;\n",
       "    }\n",
       "\n",
       "    .dataframe thead th {\n",
       "        text-align: right;\n",
       "    }\n",
       "</style>\n",
       "<table border=\"1\" class=\"dataframe\">\n",
       "  <thead>\n",
       "    <tr style=\"text-align: right;\">\n",
       "      <th></th>\n",
       "      <th>tweet_id</th>\n",
       "      <th>entity</th>\n",
       "      <th>sentiment</th>\n",
       "      <th>tweet_content</th>\n",
       "    </tr>\n",
       "  </thead>\n",
       "  <tbody>\n",
       "    <tr>\n",
       "      <th>0</th>\n",
       "      <td>3364</td>\n",
       "      <td>Facebook</td>\n",
       "      <td>Irrelevant</td>\n",
       "      <td>I mentioned on Facebook that I was struggling ...</td>\n",
       "    </tr>\n",
       "    <tr>\n",
       "      <th>1</th>\n",
       "      <td>352</td>\n",
       "      <td>Amazon</td>\n",
       "      <td>Neutral</td>\n",
       "      <td>BBC News - Amazon boss Jeff Bezos rejects clai...</td>\n",
       "    </tr>\n",
       "    <tr>\n",
       "      <th>2</th>\n",
       "      <td>8312</td>\n",
       "      <td>Microsoft</td>\n",
       "      <td>Negative</td>\n",
       "      <td>@Microsoft Why do I pay for WORD when it funct...</td>\n",
       "    </tr>\n",
       "    <tr>\n",
       "      <th>3</th>\n",
       "      <td>4371</td>\n",
       "      <td>CS-GO</td>\n",
       "      <td>Negative</td>\n",
       "      <td>CSGO matchmaking is so full of closet hacking,...</td>\n",
       "    </tr>\n",
       "    <tr>\n",
       "      <th>4</th>\n",
       "      <td>4433</td>\n",
       "      <td>Google</td>\n",
       "      <td>Neutral</td>\n",
       "      <td>Now the President is slapping Americans in the...</td>\n",
       "    </tr>\n",
       "  </tbody>\n",
       "</table>\n",
       "</div>"
      ],
      "text/plain": [
       "   tweet_id     entity   sentiment  \\\n",
       "0      3364   Facebook  Irrelevant   \n",
       "1       352     Amazon     Neutral   \n",
       "2      8312  Microsoft    Negative   \n",
       "3      4371      CS-GO    Negative   \n",
       "4      4433     Google     Neutral   \n",
       "\n",
       "                                       tweet_content  \n",
       "0  I mentioned on Facebook that I was struggling ...  \n",
       "1  BBC News - Amazon boss Jeff Bezos rejects clai...  \n",
       "2  @Microsoft Why do I pay for WORD when it funct...  \n",
       "3  CSGO matchmaking is so full of closet hacking,...  \n",
       "4  Now the President is slapping Americans in the...  "
      ]
     },
     "execution_count": 31,
     "metadata": {},
     "output_type": "execute_result"
    }
   ],
   "source": [
    "df.head()"
   ]
  },
  {
   "cell_type": "code",
   "execution_count": 32,
   "id": "5ed1c4e8",
   "metadata": {
    "execution": {
     "iopub.execute_input": "2024-04-28T11:21:19.274678Z",
     "iopub.status.busy": "2024-04-28T11:21:19.274221Z",
     "iopub.status.idle": "2024-04-28T11:21:19.284626Z",
     "shell.execute_reply": "2024-04-28T11:21:19.283773Z"
    },
    "papermill": {
     "duration": 0.036803,
     "end_time": "2024-04-28T11:21:19.286814",
     "exception": false,
     "start_time": "2024-04-28T11:21:19.250011",
     "status": "completed"
    },
    "tags": []
   },
   "outputs": [
    {
     "data": {
      "text/plain": [
       "tweet_id         0\n",
       "entity           0\n",
       "sentiment        0\n",
       "tweet_content    0\n",
       "dtype: int64"
      ]
     },
     "execution_count": 32,
     "metadata": {},
     "output_type": "execute_result"
    }
   ],
   "source": [
    "df.isnull().sum()"
   ]
  },
  {
   "cell_type": "code",
   "execution_count": 33,
   "id": "9e570193",
   "metadata": {
    "execution": {
     "iopub.execute_input": "2024-04-28T11:21:19.334772Z",
     "iopub.status.busy": "2024-04-28T11:21:19.334088Z",
     "iopub.status.idle": "2024-04-28T11:21:19.339832Z",
     "shell.execute_reply": "2024-04-28T11:21:19.338987Z"
    },
    "papermill": {
     "duration": 0.032436,
     "end_time": "2024-04-28T11:21:19.342096",
     "exception": false,
     "start_time": "2024-04-28T11:21:19.309660",
     "status": "completed"
    },
    "tags": []
   },
   "outputs": [
    {
     "data": {
      "text/plain": [
       "(1000, 4)"
      ]
     },
     "execution_count": 33,
     "metadata": {},
     "output_type": "execute_result"
    }
   ],
   "source": [
    "df.shape"
   ]
  },
  {
   "cell_type": "code",
   "execution_count": 34,
   "id": "e3fafa2d",
   "metadata": {
    "execution": {
     "iopub.execute_input": "2024-04-28T11:21:19.391319Z",
     "iopub.status.busy": "2024-04-28T11:21:19.390623Z",
     "iopub.status.idle": "2024-04-28T11:21:19.414593Z",
     "shell.execute_reply": "2024-04-28T11:21:19.413139Z"
    },
    "papermill": {
     "duration": 0.051963,
     "end_time": "2024-04-28T11:21:19.417791",
     "exception": false,
     "start_time": "2024-04-28T11:21:19.365828",
     "status": "completed"
    },
    "tags": []
   },
   "outputs": [],
   "source": [
    "# remove punctuation\n",
    "\n",
    "df.replace(\"[^a-zA-Z]\",\" \",regex=True, inplace=True)"
   ]
  },
  {
   "cell_type": "code",
   "execution_count": 35,
   "id": "6865f872",
   "metadata": {
    "execution": {
     "iopub.execute_input": "2024-04-28T11:21:19.466466Z",
     "iopub.status.busy": "2024-04-28T11:21:19.465947Z",
     "iopub.status.idle": "2024-04-28T11:21:19.479528Z",
     "shell.execute_reply": "2024-04-28T11:21:19.478580Z"
    },
    "papermill": {
     "duration": 0.041042,
     "end_time": "2024-04-28T11:21:19.482129",
     "exception": false,
     "start_time": "2024-04-28T11:21:19.441087",
     "status": "completed"
    },
    "tags": []
   },
   "outputs": [
    {
     "data": {
      "text/html": [
       "<div>\n",
       "<style scoped>\n",
       "    .dataframe tbody tr th:only-of-type {\n",
       "        vertical-align: middle;\n",
       "    }\n",
       "\n",
       "    .dataframe tbody tr th {\n",
       "        vertical-align: top;\n",
       "    }\n",
       "\n",
       "    .dataframe thead th {\n",
       "        text-align: right;\n",
       "    }\n",
       "</style>\n",
       "<table border=\"1\" class=\"dataframe\">\n",
       "  <thead>\n",
       "    <tr style=\"text-align: right;\">\n",
       "      <th></th>\n",
       "      <th>tweet_id</th>\n",
       "      <th>entity</th>\n",
       "      <th>sentiment</th>\n",
       "      <th>tweet_content</th>\n",
       "    </tr>\n",
       "  </thead>\n",
       "  <tbody>\n",
       "    <tr>\n",
       "      <th>0</th>\n",
       "      <td>3364</td>\n",
       "      <td>Facebook</td>\n",
       "      <td>Irrelevant</td>\n",
       "      <td>I mentioned on Facebook that I was struggling ...</td>\n",
       "    </tr>\n",
       "    <tr>\n",
       "      <th>1</th>\n",
       "      <td>352</td>\n",
       "      <td>Amazon</td>\n",
       "      <td>Neutral</td>\n",
       "      <td>BBC News   Amazon boss Jeff Bezos rejects clai...</td>\n",
       "    </tr>\n",
       "    <tr>\n",
       "      <th>2</th>\n",
       "      <td>8312</td>\n",
       "      <td>Microsoft</td>\n",
       "      <td>Negative</td>\n",
       "      <td>Microsoft Why do I pay for WORD when it funct...</td>\n",
       "    </tr>\n",
       "    <tr>\n",
       "      <th>3</th>\n",
       "      <td>4371</td>\n",
       "      <td>CS GO</td>\n",
       "      <td>Negative</td>\n",
       "      <td>CSGO matchmaking is so full of closet hacking ...</td>\n",
       "    </tr>\n",
       "    <tr>\n",
       "      <th>4</th>\n",
       "      <td>4433</td>\n",
       "      <td>Google</td>\n",
       "      <td>Neutral</td>\n",
       "      <td>Now the President is slapping Americans in the...</td>\n",
       "    </tr>\n",
       "  </tbody>\n",
       "</table>\n",
       "</div>"
      ],
      "text/plain": [
       "   tweet_id     entity   sentiment  \\\n",
       "0      3364   Facebook  Irrelevant   \n",
       "1       352     Amazon     Neutral   \n",
       "2      8312  Microsoft    Negative   \n",
       "3      4371      CS GO    Negative   \n",
       "4      4433     Google     Neutral   \n",
       "\n",
       "                                       tweet_content  \n",
       "0  I mentioned on Facebook that I was struggling ...  \n",
       "1  BBC News   Amazon boss Jeff Bezos rejects clai...  \n",
       "2   Microsoft Why do I pay for WORD when it funct...  \n",
       "3  CSGO matchmaking is so full of closet hacking ...  \n",
       "4  Now the President is slapping Americans in the...  "
      ]
     },
     "execution_count": 35,
     "metadata": {},
     "output_type": "execute_result"
    }
   ],
   "source": [
    "df.head()"
   ]
  },
  {
   "cell_type": "code",
   "execution_count": 36,
   "id": "fddae431",
   "metadata": {
    "execution": {
     "iopub.execute_input": "2024-04-28T11:21:19.533160Z",
     "iopub.status.busy": "2024-04-28T11:21:19.532403Z",
     "iopub.status.idle": "2024-04-28T11:21:19.539500Z",
     "shell.execute_reply": "2024-04-28T11:21:19.538458Z"
    },
    "papermill": {
     "duration": 0.034737,
     "end_time": "2024-04-28T11:21:19.541924",
     "exception": false,
     "start_time": "2024-04-28T11:21:19.507187",
     "status": "completed"
    },
    "tags": []
   },
   "outputs": [],
   "source": [
    "df['tweet'] = df['entity'] + ' ' + df['tweet_content'] # combination of entity and tweet content"
   ]
  },
  {
   "cell_type": "code",
   "execution_count": 37,
   "id": "19b12978",
   "metadata": {
    "execution": {
     "iopub.execute_input": "2024-04-28T11:21:19.590655Z",
     "iopub.status.busy": "2024-04-28T11:21:19.589863Z",
     "iopub.status.idle": "2024-04-28T11:21:19.602249Z",
     "shell.execute_reply": "2024-04-28T11:21:19.601110Z"
    },
    "papermill": {
     "duration": 0.039525,
     "end_time": "2024-04-28T11:21:19.604645",
     "exception": false,
     "start_time": "2024-04-28T11:21:19.565120",
     "status": "completed"
    },
    "tags": []
   },
   "outputs": [
    {
     "data": {
      "text/html": [
       "<div>\n",
       "<style scoped>\n",
       "    .dataframe tbody tr th:only-of-type {\n",
       "        vertical-align: middle;\n",
       "    }\n",
       "\n",
       "    .dataframe tbody tr th {\n",
       "        vertical-align: top;\n",
       "    }\n",
       "\n",
       "    .dataframe thead th {\n",
       "        text-align: right;\n",
       "    }\n",
       "</style>\n",
       "<table border=\"1\" class=\"dataframe\">\n",
       "  <thead>\n",
       "    <tr style=\"text-align: right;\">\n",
       "      <th></th>\n",
       "      <th>tweet_id</th>\n",
       "      <th>entity</th>\n",
       "      <th>sentiment</th>\n",
       "      <th>tweet_content</th>\n",
       "      <th>tweet</th>\n",
       "    </tr>\n",
       "  </thead>\n",
       "  <tbody>\n",
       "    <tr>\n",
       "      <th>0</th>\n",
       "      <td>3364</td>\n",
       "      <td>Facebook</td>\n",
       "      <td>Irrelevant</td>\n",
       "      <td>I mentioned on Facebook that I was struggling ...</td>\n",
       "      <td>Facebook I mentioned on Facebook that I was st...</td>\n",
       "    </tr>\n",
       "  </tbody>\n",
       "</table>\n",
       "</div>"
      ],
      "text/plain": [
       "   tweet_id    entity   sentiment  \\\n",
       "0      3364  Facebook  Irrelevant   \n",
       "\n",
       "                                       tweet_content  \\\n",
       "0  I mentioned on Facebook that I was struggling ...   \n",
       "\n",
       "                                               tweet  \n",
       "0  Facebook I mentioned on Facebook that I was st...  "
      ]
     },
     "execution_count": 37,
     "metadata": {},
     "output_type": "execute_result"
    }
   ],
   "source": [
    "df.head(1)"
   ]
  },
  {
   "cell_type": "code",
   "execution_count": 38,
   "id": "1361686a",
   "metadata": {
    "execution": {
     "iopub.execute_input": "2024-04-28T11:21:19.653508Z",
     "iopub.status.busy": "2024-04-28T11:21:19.653019Z",
     "iopub.status.idle": "2024-04-28T11:21:19.659985Z",
     "shell.execute_reply": "2024-04-28T11:21:19.658727Z"
    },
    "papermill": {
     "duration": 0.034346,
     "end_time": "2024-04-28T11:21:19.662453",
     "exception": false,
     "start_time": "2024-04-28T11:21:19.628107",
     "status": "completed"
    },
    "tags": []
   },
   "outputs": [],
   "source": [
    "df.drop(columns=['entity','tweet_id','tweet_content'],inplace=True)"
   ]
  },
  {
   "cell_type": "code",
   "execution_count": 39,
   "id": "6ecc9dca",
   "metadata": {
    "execution": {
     "iopub.execute_input": "2024-04-28T11:21:19.711040Z",
     "iopub.status.busy": "2024-04-28T11:21:19.710577Z",
     "iopub.status.idle": "2024-04-28T11:21:19.724192Z",
     "shell.execute_reply": "2024-04-28T11:21:19.723093Z"
    },
    "papermill": {
     "duration": 0.040622,
     "end_time": "2024-04-28T11:21:19.726639",
     "exception": false,
     "start_time": "2024-04-28T11:21:19.686017",
     "status": "completed"
    },
    "tags": []
   },
   "outputs": [
    {
     "data": {
      "text/html": [
       "<div>\n",
       "<style scoped>\n",
       "    .dataframe tbody tr th:only-of-type {\n",
       "        vertical-align: middle;\n",
       "    }\n",
       "\n",
       "    .dataframe tbody tr th {\n",
       "        vertical-align: top;\n",
       "    }\n",
       "\n",
       "    .dataframe thead th {\n",
       "        text-align: right;\n",
       "    }\n",
       "</style>\n",
       "<table border=\"1\" class=\"dataframe\">\n",
       "  <thead>\n",
       "    <tr style=\"text-align: right;\">\n",
       "      <th></th>\n",
       "      <th>sentiment</th>\n",
       "      <th>tweet</th>\n",
       "    </tr>\n",
       "  </thead>\n",
       "  <tbody>\n",
       "    <tr>\n",
       "      <th>0</th>\n",
       "      <td>Irrelevant</td>\n",
       "      <td>Facebook I mentioned on Facebook that I was st...</td>\n",
       "    </tr>\n",
       "    <tr>\n",
       "      <th>1</th>\n",
       "      <td>Neutral</td>\n",
       "      <td>Amazon BBC News   Amazon boss Jeff Bezos rejec...</td>\n",
       "    </tr>\n",
       "    <tr>\n",
       "      <th>2</th>\n",
       "      <td>Negative</td>\n",
       "      <td>Microsoft  Microsoft Why do I pay for WORD whe...</td>\n",
       "    </tr>\n",
       "    <tr>\n",
       "      <th>3</th>\n",
       "      <td>Negative</td>\n",
       "      <td>CS GO CSGO matchmaking is so full of closet ha...</td>\n",
       "    </tr>\n",
       "    <tr>\n",
       "      <th>4</th>\n",
       "      <td>Neutral</td>\n",
       "      <td>Google Now the President is slapping Americans...</td>\n",
       "    </tr>\n",
       "    <tr>\n",
       "      <th>...</th>\n",
       "      <td>...</td>\n",
       "      <td>...</td>\n",
       "    </tr>\n",
       "    <tr>\n",
       "      <th>995</th>\n",
       "      <td>Irrelevant</td>\n",
       "      <td>GrandTheftAuto GTA     Toronto is the arts and...</td>\n",
       "    </tr>\n",
       "    <tr>\n",
       "      <th>996</th>\n",
       "      <td>Irrelevant</td>\n",
       "      <td>CS GO tHIS IS ACTUALLY A GOOD MOVE TOT BRING M...</td>\n",
       "    </tr>\n",
       "    <tr>\n",
       "      <th>997</th>\n",
       "      <td>Positive</td>\n",
       "      <td>Borderlands Today sucked so it s time to drink...</td>\n",
       "    </tr>\n",
       "    <tr>\n",
       "      <th>998</th>\n",
       "      <td>Positive</td>\n",
       "      <td>Microsoft Bought a fraction of Microsoft today...</td>\n",
       "    </tr>\n",
       "    <tr>\n",
       "      <th>999</th>\n",
       "      <td>Neutral</td>\n",
       "      <td>johnson johnson Johnson   Johnson to stop sell...</td>\n",
       "    </tr>\n",
       "  </tbody>\n",
       "</table>\n",
       "<p>1000 rows × 2 columns</p>\n",
       "</div>"
      ],
      "text/plain": [
       "      sentiment                                              tweet\n",
       "0    Irrelevant  Facebook I mentioned on Facebook that I was st...\n",
       "1       Neutral  Amazon BBC News   Amazon boss Jeff Bezos rejec...\n",
       "2      Negative  Microsoft  Microsoft Why do I pay for WORD whe...\n",
       "3      Negative  CS GO CSGO matchmaking is so full of closet ha...\n",
       "4       Neutral  Google Now the President is slapping Americans...\n",
       "..          ...                                                ...\n",
       "995  Irrelevant  GrandTheftAuto GTA     Toronto is the arts and...\n",
       "996  Irrelevant  CS GO tHIS IS ACTUALLY A GOOD MOVE TOT BRING M...\n",
       "997    Positive  Borderlands Today sucked so it s time to drink...\n",
       "998    Positive  Microsoft Bought a fraction of Microsoft today...\n",
       "999     Neutral  johnson johnson Johnson   Johnson to stop sell...\n",
       "\n",
       "[1000 rows x 2 columns]"
      ]
     },
     "execution_count": 39,
     "metadata": {},
     "output_type": "execute_result"
    }
   ],
   "source": [
    "df"
   ]
  },
  {
   "cell_type": "code",
   "execution_count": 40,
   "id": "63280227",
   "metadata": {
    "execution": {
     "iopub.execute_input": "2024-04-28T11:21:19.777048Z",
     "iopub.status.busy": "2024-04-28T11:21:19.776360Z",
     "iopub.status.idle": "2024-04-28T11:21:19.790881Z",
     "shell.execute_reply": "2024-04-28T11:21:19.789645Z"
    },
    "papermill": {
     "duration": 0.043091,
     "end_time": "2024-04-28T11:21:19.793592",
     "exception": false,
     "start_time": "2024-04-28T11:21:19.750501",
     "status": "completed"
    },
    "tags": []
   },
   "outputs": [
    {
     "data": {
      "text/html": [
       "<div>\n",
       "<style scoped>\n",
       "    .dataframe tbody tr th:only-of-type {\n",
       "        vertical-align: middle;\n",
       "    }\n",
       "\n",
       "    .dataframe tbody tr th {\n",
       "        vertical-align: top;\n",
       "    }\n",
       "\n",
       "    .dataframe thead th {\n",
       "        text-align: right;\n",
       "    }\n",
       "</style>\n",
       "<table border=\"1\" class=\"dataframe\">\n",
       "  <thead>\n",
       "    <tr style=\"text-align: right;\">\n",
       "      <th></th>\n",
       "      <th>sentiment</th>\n",
       "      <th>tweet</th>\n",
       "    </tr>\n",
       "  </thead>\n",
       "  <tbody>\n",
       "    <tr>\n",
       "      <th>0</th>\n",
       "      <td>irrelevant</td>\n",
       "      <td>facebook i mentioned on facebook that i was st...</td>\n",
       "    </tr>\n",
       "  </tbody>\n",
       "</table>\n",
       "</div>"
      ],
      "text/plain": [
       "    sentiment                                              tweet\n",
       "0  irrelevant  facebook i mentioned on facebook that i was st..."
      ]
     },
     "execution_count": 40,
     "metadata": {},
     "output_type": "execute_result"
    }
   ],
   "source": [
    "for col in df.columns:\n",
    "    df[col] = df[col].str.lower()# convert to lower case\n",
    "df.head(1)"
   ]
  },
  {
   "cell_type": "code",
   "execution_count": 41,
   "id": "ba139c3d",
   "metadata": {
    "execution": {
     "iopub.execute_input": "2024-04-28T11:21:19.843836Z",
     "iopub.status.busy": "2024-04-28T11:21:19.842868Z",
     "iopub.status.idle": "2024-04-28T11:21:19.850438Z",
     "shell.execute_reply": "2024-04-28T11:21:19.849120Z"
    },
    "papermill": {
     "duration": 0.035343,
     "end_time": "2024-04-28T11:21:19.852980",
     "exception": false,
     "start_time": "2024-04-28T11:21:19.817637",
     "status": "completed"
    },
    "tags": []
   },
   "outputs": [],
   "source": [
    "df['sentiment'] = df['sentiment'].map({'negative': 0, 'positive': 1, 'neutral' : 2, 'irrelevant' : 3})"
   ]
  },
  {
   "cell_type": "code",
   "execution_count": 42,
   "id": "82cc0973",
   "metadata": {
    "execution": {
     "iopub.execute_input": "2024-04-28T11:21:19.903116Z",
     "iopub.status.busy": "2024-04-28T11:21:19.902644Z",
     "iopub.status.idle": "2024-04-28T11:21:19.913508Z",
     "shell.execute_reply": "2024-04-28T11:21:19.912365Z"
    },
    "papermill": {
     "duration": 0.039222,
     "end_time": "2024-04-28T11:21:19.916271",
     "exception": false,
     "start_time": "2024-04-28T11:21:19.877049",
     "status": "completed"
    },
    "tags": []
   },
   "outputs": [
    {
     "data": {
      "text/html": [
       "<div>\n",
       "<style scoped>\n",
       "    .dataframe tbody tr th:only-of-type {\n",
       "        vertical-align: middle;\n",
       "    }\n",
       "\n",
       "    .dataframe tbody tr th {\n",
       "        vertical-align: top;\n",
       "    }\n",
       "\n",
       "    .dataframe thead th {\n",
       "        text-align: right;\n",
       "    }\n",
       "</style>\n",
       "<table border=\"1\" class=\"dataframe\">\n",
       "  <thead>\n",
       "    <tr style=\"text-align: right;\">\n",
       "      <th></th>\n",
       "      <th>sentiment</th>\n",
       "      <th>tweet</th>\n",
       "    </tr>\n",
       "  </thead>\n",
       "  <tbody>\n",
       "    <tr>\n",
       "      <th>0</th>\n",
       "      <td>3</td>\n",
       "      <td>facebook i mentioned on facebook that i was st...</td>\n",
       "    </tr>\n",
       "    <tr>\n",
       "      <th>1</th>\n",
       "      <td>2</td>\n",
       "      <td>amazon bbc news   amazon boss jeff bezos rejec...</td>\n",
       "    </tr>\n",
       "    <tr>\n",
       "      <th>2</th>\n",
       "      <td>0</td>\n",
       "      <td>microsoft  microsoft why do i pay for word whe...</td>\n",
       "    </tr>\n",
       "    <tr>\n",
       "      <th>3</th>\n",
       "      <td>0</td>\n",
       "      <td>cs go csgo matchmaking is so full of closet ha...</td>\n",
       "    </tr>\n",
       "    <tr>\n",
       "      <th>4</th>\n",
       "      <td>2</td>\n",
       "      <td>google now the president is slapping americans...</td>\n",
       "    </tr>\n",
       "  </tbody>\n",
       "</table>\n",
       "</div>"
      ],
      "text/plain": [
       "   sentiment                                              tweet\n",
       "0          3  facebook i mentioned on facebook that i was st...\n",
       "1          2  amazon bbc news   amazon boss jeff bezos rejec...\n",
       "2          0  microsoft  microsoft why do i pay for word whe...\n",
       "3          0  cs go csgo matchmaking is so full of closet ha...\n",
       "4          2  google now the president is slapping americans..."
      ]
     },
     "execution_count": 42,
     "metadata": {},
     "output_type": "execute_result"
    }
   ],
   "source": [
    "df.head()"
   ]
  },
  {
   "cell_type": "code",
   "execution_count": 43,
   "id": "e9c0c7c7",
   "metadata": {
    "execution": {
     "iopub.execute_input": "2024-04-28T11:21:19.966980Z",
     "iopub.status.busy": "2024-04-28T11:21:19.966525Z",
     "iopub.status.idle": "2024-04-28T11:21:20.028109Z",
     "shell.execute_reply": "2024-04-28T11:21:20.026877Z"
    },
    "papermill": {
     "duration": 0.090866,
     "end_time": "2024-04-28T11:21:20.031248",
     "exception": false,
     "start_time": "2024-04-28T11:21:19.940382",
     "status": "completed"
    },
    "tags": []
   },
   "outputs": [],
   "source": [
    "val_data = countvector.transform(df['tweet'])"
   ]
  },
  {
   "cell_type": "code",
   "execution_count": 44,
   "id": "e42dd4a7",
   "metadata": {
    "execution": {
     "iopub.execute_input": "2024-04-28T11:21:20.082417Z",
     "iopub.status.busy": "2024-04-28T11:21:20.081686Z",
     "iopub.status.idle": "2024-04-28T11:21:21.927319Z",
     "shell.execute_reply": "2024-04-28T11:21:21.926102Z"
    },
    "papermill": {
     "duration": 1.875192,
     "end_time": "2024-04-28T11:21:21.930587",
     "exception": false,
     "start_time": "2024-04-28T11:21:20.055395",
     "status": "completed"
    },
    "tags": []
   },
   "outputs": [],
   "source": [
    "with open('/kaggle/working/sentiment_analysis_model.pkl', 'rb') as file:  \n",
    "    model = pickle.load(file)"
   ]
  },
  {
   "cell_type": "code",
   "execution_count": 45,
   "id": "ecfc2e87",
   "metadata": {
    "execution": {
     "iopub.execute_input": "2024-04-28T11:21:21.982182Z",
     "iopub.status.busy": "2024-04-28T11:21:21.981751Z",
     "iopub.status.idle": "2024-04-28T11:21:21.990573Z",
     "shell.execute_reply": "2024-04-28T11:21:21.989417Z"
    },
    "papermill": {
     "duration": 0.037651,
     "end_time": "2024-04-28T11:21:21.993180",
     "exception": false,
     "start_time": "2024-04-28T11:21:21.955529",
     "status": "completed"
    },
    "tags": []
   },
   "outputs": [
    {
     "data": {
      "text/html": [
       "<style>#sk-container-id-2 {color: black;background-color: white;}#sk-container-id-2 pre{padding: 0;}#sk-container-id-2 div.sk-toggleable {background-color: white;}#sk-container-id-2 label.sk-toggleable__label {cursor: pointer;display: block;width: 100%;margin-bottom: 0;padding: 0.3em;box-sizing: border-box;text-align: center;}#sk-container-id-2 label.sk-toggleable__label-arrow:before {content: \"▸\";float: left;margin-right: 0.25em;color: #696969;}#sk-container-id-2 label.sk-toggleable__label-arrow:hover:before {color: black;}#sk-container-id-2 div.sk-estimator:hover label.sk-toggleable__label-arrow:before {color: black;}#sk-container-id-2 div.sk-toggleable__content {max-height: 0;max-width: 0;overflow: hidden;text-align: left;background-color: #f0f8ff;}#sk-container-id-2 div.sk-toggleable__content pre {margin: 0.2em;color: black;border-radius: 0.25em;background-color: #f0f8ff;}#sk-container-id-2 input.sk-toggleable__control:checked~div.sk-toggleable__content {max-height: 200px;max-width: 100%;overflow: auto;}#sk-container-id-2 input.sk-toggleable__control:checked~label.sk-toggleable__label-arrow:before {content: \"▾\";}#sk-container-id-2 div.sk-estimator input.sk-toggleable__control:checked~label.sk-toggleable__label {background-color: #d4ebff;}#sk-container-id-2 div.sk-label input.sk-toggleable__control:checked~label.sk-toggleable__label {background-color: #d4ebff;}#sk-container-id-2 input.sk-hidden--visually {border: 0;clip: rect(1px 1px 1px 1px);clip: rect(1px, 1px, 1px, 1px);height: 1px;margin: -1px;overflow: hidden;padding: 0;position: absolute;width: 1px;}#sk-container-id-2 div.sk-estimator {font-family: monospace;background-color: #f0f8ff;border: 1px dotted black;border-radius: 0.25em;box-sizing: border-box;margin-bottom: 0.5em;}#sk-container-id-2 div.sk-estimator:hover {background-color: #d4ebff;}#sk-container-id-2 div.sk-parallel-item::after {content: \"\";width: 100%;border-bottom: 1px solid gray;flex-grow: 1;}#sk-container-id-2 div.sk-label:hover label.sk-toggleable__label {background-color: #d4ebff;}#sk-container-id-2 div.sk-serial::before {content: \"\";position: absolute;border-left: 1px solid gray;box-sizing: border-box;top: 0;bottom: 0;left: 50%;z-index: 0;}#sk-container-id-2 div.sk-serial {display: flex;flex-direction: column;align-items: center;background-color: white;padding-right: 0.2em;padding-left: 0.2em;position: relative;}#sk-container-id-2 div.sk-item {position: relative;z-index: 1;}#sk-container-id-2 div.sk-parallel {display: flex;align-items: stretch;justify-content: center;background-color: white;position: relative;}#sk-container-id-2 div.sk-item::before, #sk-container-id-2 div.sk-parallel-item::before {content: \"\";position: absolute;border-left: 1px solid gray;box-sizing: border-box;top: 0;bottom: 0;left: 50%;z-index: -1;}#sk-container-id-2 div.sk-parallel-item {display: flex;flex-direction: column;z-index: 1;position: relative;background-color: white;}#sk-container-id-2 div.sk-parallel-item:first-child::after {align-self: flex-end;width: 50%;}#sk-container-id-2 div.sk-parallel-item:last-child::after {align-self: flex-start;width: 50%;}#sk-container-id-2 div.sk-parallel-item:only-child::after {width: 0;}#sk-container-id-2 div.sk-dashed-wrapped {border: 1px dashed gray;margin: 0 0.4em 0.5em 0.4em;box-sizing: border-box;padding-bottom: 0.4em;background-color: white;}#sk-container-id-2 div.sk-label label {font-family: monospace;font-weight: bold;display: inline-block;line-height: 1.2em;}#sk-container-id-2 div.sk-label-container {text-align: center;}#sk-container-id-2 div.sk-container {/* jupyter's `normalize.less` sets `[hidden] { display: none; }` but bootstrap.min.css set `[hidden] { display: none !important; }` so we also need the `!important` here to be able to override the default hidden behavior on the sphinx rendered scikit-learn.org. See: https://github.com/scikit-learn/scikit-learn/issues/21755 */display: inline-block !important;position: relative;}#sk-container-id-2 div.sk-text-repr-fallback {display: none;}</style><div id=\"sk-container-id-2\" class=\"sk-top-container\"><div class=\"sk-text-repr-fallback\"><pre>RandomForestClassifier(criterion=&#x27;entropy&#x27;, n_estimators=200)</pre><b>In a Jupyter environment, please rerun this cell to show the HTML representation or trust the notebook. <br />On GitHub, the HTML representation is unable to render, please try loading this page with nbviewer.org.</b></div><div class=\"sk-container\" hidden><div class=\"sk-item\"><div class=\"sk-estimator sk-toggleable\"><input class=\"sk-toggleable__control sk-hidden--visually\" id=\"sk-estimator-id-2\" type=\"checkbox\" checked><label for=\"sk-estimator-id-2\" class=\"sk-toggleable__label sk-toggleable__label-arrow\">RandomForestClassifier</label><div class=\"sk-toggleable__content\"><pre>RandomForestClassifier(criterion=&#x27;entropy&#x27;, n_estimators=200)</pre></div></div></div></div></div>"
      ],
      "text/plain": [
       "RandomForestClassifier(criterion='entropy', n_estimators=200)"
      ]
     },
     "execution_count": 45,
     "metadata": {},
     "output_type": "execute_result"
    }
   ],
   "source": [
    "model"
   ]
  },
  {
   "cell_type": "code",
   "execution_count": 46,
   "id": "946c7b2b",
   "metadata": {
    "execution": {
     "iopub.execute_input": "2024-04-28T11:21:22.045949Z",
     "iopub.status.busy": "2024-04-28T11:21:22.045195Z",
     "iopub.status.idle": "2024-04-28T11:21:22.929598Z",
     "shell.execute_reply": "2024-04-28T11:21:22.928119Z"
    },
    "papermill": {
     "duration": 0.915266,
     "end_time": "2024-04-28T11:21:22.932735",
     "exception": false,
     "start_time": "2024-04-28T11:21:22.017469",
     "status": "completed"
    },
    "tags": []
   },
   "outputs": [],
   "source": [
    "y_predict = model.predict(val_data)"
   ]
  },
  {
   "cell_type": "code",
   "execution_count": 47,
   "id": "03549a33",
   "metadata": {
    "execution": {
     "iopub.execute_input": "2024-04-28T11:21:22.984526Z",
     "iopub.status.busy": "2024-04-28T11:21:22.983478Z",
     "iopub.status.idle": "2024-04-28T11:21:22.995532Z",
     "shell.execute_reply": "2024-04-28T11:21:22.994234Z"
    },
    "papermill": {
     "duration": 0.040727,
     "end_time": "2024-04-28T11:21:22.998168",
     "exception": false,
     "start_time": "2024-04-28T11:21:22.957441",
     "status": "completed"
    },
    "tags": []
   },
   "outputs": [
    {
     "data": {
      "text/plain": [
       "array([3, 2, 0, 0, 2, 0, 1, 1, 1, 0, 1, 1, 0, 2, 0, 1, 1, 0, 1, 0, 0, 2,\n",
       "       2, 0, 2, 2, 0, 0, 3, 0, 1, 1, 0, 1, 0, 2, 2, 3, 1, 2, 1, 2, 2, 2,\n",
       "       1, 0, 1, 0, 0, 2, 1, 0, 0, 1, 1, 1, 1, 1, 0, 3, 0, 1, 1, 3, 0, 2,\n",
       "       0, 3, 2, 0, 1, 0, 0, 1, 1, 3, 1, 3, 2, 2, 2, 1, 1, 2, 1, 2, 0, 3,\n",
       "       0, 2, 2, 2, 1, 3, 3, 0, 0, 0, 0, 1, 2, 0, 1, 1, 2, 1, 2, 1, 0, 2,\n",
       "       2, 2, 0, 2, 0, 2, 2, 1, 1, 2, 0, 0, 1, 2, 2, 0, 1, 2, 0, 2, 3, 1,\n",
       "       2, 1, 1, 3, 2, 2, 3, 3, 3, 2, 2, 3, 3, 3, 1, 2, 1, 3, 1, 0, 2, 2,\n",
       "       2, 3, 2, 0, 1, 1, 0, 2, 0, 3, 3, 3, 2, 0, 0, 0, 1, 1, 1, 2, 2, 1,\n",
       "       3, 2, 2, 2, 1, 2, 0, 0, 2, 1, 1, 3, 3, 2, 1, 1, 2, 3, 2, 0, 0, 0,\n",
       "       0, 1, 2, 2, 1, 1, 1, 1, 0, 1, 1, 3, 2, 3, 0, 1, 3, 1, 0, 1, 1, 0,\n",
       "       3, 0, 1, 1, 0, 3, 3, 1, 1, 0, 1, 3, 2, 3, 3, 0, 2, 2, 1, 0, 3, 3,\n",
       "       1, 1, 3, 3, 2, 1, 0, 0, 1, 1, 1, 1, 2, 2, 1, 0, 2, 1, 2, 0, 2, 1,\n",
       "       0, 1, 1, 3, 0, 2, 3, 1, 2, 3, 0, 2, 0, 1, 1, 0, 0, 0, 1, 0, 2, 1,\n",
       "       0, 2, 0, 1, 0, 1, 0, 3, 2, 2, 1, 0, 2, 0, 3, 1, 0, 1, 3, 1, 1, 1,\n",
       "       1, 1, 0, 0, 1, 0, 2, 2, 2, 1, 3, 2, 1, 3, 0, 2, 2, 3, 2, 2, 3, 0,\n",
       "       1, 0, 0, 3, 3, 1, 3, 1, 2, 2, 3, 3, 0, 0, 0, 2, 1, 3, 2, 0, 1, 3,\n",
       "       2, 0, 0, 0, 1, 2, 2, 3, 0, 1, 1, 3, 2, 3, 1, 2, 2, 1, 1, 0, 2, 1,\n",
       "       0, 2, 0, 3, 0, 1, 1, 3, 1, 1, 2, 1, 2, 3, 3, 1, 2, 1, 1, 0, 0, 3,\n",
       "       2, 2, 1, 3, 0, 2, 3, 0, 1, 1, 1, 1, 2, 2, 3, 2, 0, 2, 1, 2, 0, 1,\n",
       "       2, 0, 0, 0, 0, 0, 2, 2, 2, 1, 1, 0, 0, 2, 0, 2, 2, 0, 3, 1, 3, 3,\n",
       "       0, 1, 1, 1, 3, 2, 1, 3, 2, 2, 0, 1, 2, 2, 2, 2, 3, 3, 3, 2, 2, 3,\n",
       "       2, 3, 2, 3, 0, 0, 1, 3, 3, 1, 3, 1, 2, 0, 2, 1, 1, 0, 1, 1, 1, 1,\n",
       "       3, 1, 3, 2, 0, 1, 2, 2, 1, 1, 3, 1, 3, 1, 3, 2, 0, 0, 0, 0, 2, 1,\n",
       "       0, 0, 1, 1, 2, 2, 0, 0, 1, 2, 0, 0, 0, 2, 2, 1, 0, 0, 0, 2, 2, 3,\n",
       "       2, 0, 0, 1, 3, 3, 0, 1, 0, 2, 1, 0, 2, 1, 1, 0, 2, 1, 1, 3, 0, 0,\n",
       "       2, 3, 2, 0, 1, 0, 2, 0, 0, 0, 1, 0, 1, 0, 1, 0, 0, 2, 0, 2, 0, 1,\n",
       "       0, 3, 2, 0, 0, 2, 2, 1, 0, 1, 2, 2, 2, 3, 3, 1, 3, 0, 2, 2, 2, 3,\n",
       "       0, 0, 3, 2, 1, 1, 2, 2, 0, 2, 1, 2, 2, 3, 2, 2, 3, 2, 1, 2, 1, 1,\n",
       "       3, 1, 2, 0, 1, 2, 3, 3, 2, 0, 1, 2, 2, 0, 3, 2, 0, 3, 2, 3, 3, 1,\n",
       "       3, 1, 1, 0, 0, 2, 3, 2, 2, 2, 1, 1, 3, 1, 3, 0, 3, 0, 2, 1, 2, 3,\n",
       "       2, 0, 1, 3, 3, 1, 2, 1, 0, 0, 2, 1, 0, 1, 0, 2, 2, 1, 2, 2, 2, 3,\n",
       "       1, 2, 0, 2, 2, 0, 1, 0, 3, 2, 1, 1, 1, 3, 1, 2, 0, 2, 1, 1, 3, 1,\n",
       "       1, 1, 0, 2, 1, 2, 2, 0, 0, 0, 2, 1, 2, 0, 3, 1, 1, 1, 3, 1, 1, 3,\n",
       "       1, 2, 0, 2, 3, 0, 2, 1, 1, 0, 1, 1, 2, 0, 2, 0, 0, 0, 3, 0, 3, 1,\n",
       "       1, 1, 1, 2, 0, 0, 1, 0, 0, 2, 3, 2, 1, 2, 0, 2, 1, 0, 2, 1, 0, 2,\n",
       "       2, 1, 3, 0, 2, 3, 0, 3, 1, 1, 2, 1, 2, 1, 0, 2, 2, 2, 1, 2, 2, 3,\n",
       "       0, 1, 2, 0, 0, 2, 2, 1, 0, 0, 0, 3, 0, 1, 2, 2, 1, 3, 2, 0, 1, 1,\n",
       "       1, 3, 1, 1, 2, 0, 0, 1, 1, 0, 0, 0, 3, 1, 0, 2, 0, 2, 2, 3, 1, 1,\n",
       "       0, 2, 1, 0, 0, 0, 0, 0, 0, 0, 3, 3, 1, 2, 1, 2, 2, 2, 1, 2, 2, 2,\n",
       "       3, 3, 0, 2, 1, 2, 0, 0, 3, 2, 3, 1, 2, 1, 3, 2, 0, 3, 3, 3, 1, 1,\n",
       "       3, 1, 1, 3, 0, 0, 2, 2, 2, 2, 2, 2, 2, 0, 0, 0, 0, 1, 2, 2, 1, 3,\n",
       "       2, 0, 1, 1, 0, 1, 2, 2, 3, 1, 0, 3, 1, 3, 0, 2, 1, 3, 3, 1, 2, 0,\n",
       "       1, 0, 0, 2, 0, 2, 3, 0, 1, 3, 2, 0, 0, 2, 1, 3, 3, 0, 3, 2, 0, 2,\n",
       "       2, 2, 2, 2, 2, 3, 1, 2, 1, 1, 1, 0, 2, 1, 2, 3, 3, 1, 2, 1, 2, 3,\n",
       "       1, 2, 0, 0, 1, 1, 1, 3, 1, 2, 3, 0, 1, 1, 0, 0, 0, 2, 1, 3, 2, 1,\n",
       "       1, 2, 1, 0, 1, 3, 3, 1, 1, 2])"
      ]
     },
     "execution_count": 47,
     "metadata": {},
     "output_type": "execute_result"
    }
   ],
   "source": [
    "y_predict"
   ]
  },
  {
   "cell_type": "code",
   "execution_count": 48,
   "id": "eebfdbb8",
   "metadata": {
    "execution": {
     "iopub.execute_input": "2024-04-28T11:21:23.049914Z",
     "iopub.status.busy": "2024-04-28T11:21:23.049035Z",
     "iopub.status.idle": "2024-04-28T11:21:23.054675Z",
     "shell.execute_reply": "2024-04-28T11:21:23.053420Z"
    },
    "papermill": {
     "duration": 0.034307,
     "end_time": "2024-04-28T11:21:23.057154",
     "exception": false,
     "start_time": "2024-04-28T11:21:23.022847",
     "status": "completed"
    },
    "tags": []
   },
   "outputs": [],
   "source": [
    "from sklearn.metrics import classification_report, confusion_matrix, accuracy_score"
   ]
  },
  {
   "cell_type": "code",
   "execution_count": 49,
   "id": "2f27799d",
   "metadata": {
    "execution": {
     "iopub.execute_input": "2024-04-28T11:21:23.109284Z",
     "iopub.status.busy": "2024-04-28T11:21:23.108203Z",
     "iopub.status.idle": "2024-04-28T11:21:23.119449Z",
     "shell.execute_reply": "2024-04-28T11:21:23.118249Z"
    },
    "papermill": {
     "duration": 0.039991,
     "end_time": "2024-04-28T11:21:23.121997",
     "exception": false,
     "start_time": "2024-04-28T11:21:23.082006",
     "status": "completed"
    },
    "tags": []
   },
   "outputs": [
    {
     "data": {
      "text/plain": [
       "array([[253,   9,   4,   0],\n",
       "       [  0, 271,   5,   1],\n",
       "       [  4,   8, 273,   0],\n",
       "       [  1,   3,   1, 167]])"
      ]
     },
     "execution_count": 49,
     "metadata": {},
     "output_type": "execute_result"
    }
   ],
   "source": [
    "matrix = confusion_matrix(df['sentiment'], y_predict)\n",
    "matrix"
   ]
  },
  {
   "cell_type": "code",
   "execution_count": 50,
   "id": "9804487f",
   "metadata": {
    "execution": {
     "iopub.execute_input": "2024-04-28T11:21:23.278071Z",
     "iopub.status.busy": "2024-04-28T11:21:23.277619Z",
     "iopub.status.idle": "2024-04-28T11:21:23.296901Z",
     "shell.execute_reply": "2024-04-28T11:21:23.295589Z"
    },
    "papermill": {
     "duration": 0.048564,
     "end_time": "2024-04-28T11:21:23.299421",
     "exception": false,
     "start_time": "2024-04-28T11:21:23.250857",
     "status": "completed"
    },
    "tags": []
   },
   "outputs": [
    {
     "name": "stdout",
     "output_type": "stream",
     "text": [
      "              precision    recall  f1-score   support\n",
      "\n",
      "           0       0.98      0.95      0.97       266\n",
      "           1       0.93      0.98      0.95       277\n",
      "           2       0.96      0.96      0.96       285\n",
      "           3       0.99      0.97      0.98       172\n",
      "\n",
      "    accuracy                           0.96      1000\n",
      "   macro avg       0.97      0.96      0.97      1000\n",
      "weighted avg       0.96      0.96      0.96      1000\n",
      "\n"
     ]
    }
   ],
   "source": [
    "report = classification_report(df['sentiment'], y_predict)\n",
    "print(report)"
   ]
  },
  {
   "cell_type": "code",
   "execution_count": 51,
   "id": "355d30a7",
   "metadata": {
    "execution": {
     "iopub.execute_input": "2024-04-28T11:21:23.351674Z",
     "iopub.status.busy": "2024-04-28T11:21:23.350487Z",
     "iopub.status.idle": "2024-04-28T11:21:23.358912Z",
     "shell.execute_reply": "2024-04-28T11:21:23.357545Z"
    },
    "papermill": {
     "duration": 0.037166,
     "end_time": "2024-04-28T11:21:23.361528",
     "exception": false,
     "start_time": "2024-04-28T11:21:23.324362",
     "status": "completed"
    },
    "tags": []
   },
   "outputs": [
    {
     "name": "stdout",
     "output_type": "stream",
     "text": [
      "Accuracy :  96.39999999999999 %\n"
     ]
    }
   ],
   "source": [
    "accuracy = accuracy_score(df['sentiment'], y_predict)\n",
    "print(\"Accuracy : \",accuracy*100,\"%\")"
   ]
  },
  {
   "cell_type": "code",
   "execution_count": 52,
   "id": "ec5d5c3e",
   "metadata": {
    "execution": {
     "iopub.execute_input": "2024-04-28T11:21:23.414352Z",
     "iopub.status.busy": "2024-04-28T11:21:23.413888Z",
     "iopub.status.idle": "2024-04-28T11:21:23.419717Z",
     "shell.execute_reply": "2024-04-28T11:21:23.418530Z"
    },
    "papermill": {
     "duration": 0.034924,
     "end_time": "2024-04-28T11:21:23.422135",
     "exception": false,
     "start_time": "2024-04-28T11:21:23.387211",
     "status": "completed"
    },
    "tags": []
   },
   "outputs": [],
   "source": [
    "prediction = pd.DataFrame({\n",
    "    'Actual' : df['sentiment'],\n",
    "    \"Predicted\" : y_predict\n",
    "})"
   ]
  },
  {
   "cell_type": "code",
   "execution_count": 53,
   "id": "d1e23663",
   "metadata": {
    "execution": {
     "iopub.execute_input": "2024-04-28T11:21:23.474513Z",
     "iopub.status.busy": "2024-04-28T11:21:23.474031Z",
     "iopub.status.idle": "2024-04-28T11:21:23.484191Z",
     "shell.execute_reply": "2024-04-28T11:21:23.483259Z"
    },
    "papermill": {
     "duration": 0.039588,
     "end_time": "2024-04-28T11:21:23.486836",
     "exception": false,
     "start_time": "2024-04-28T11:21:23.447248",
     "status": "completed"
    },
    "tags": []
   },
   "outputs": [],
   "source": [
    "prediction.to_csv('/kaggle/working/prediction.csv')"
   ]
  },
  {
   "cell_type": "code",
   "execution_count": 54,
   "id": "cbf096e6",
   "metadata": {
    "execution": {
     "iopub.execute_input": "2024-04-28T11:21:23.541046Z",
     "iopub.status.busy": "2024-04-28T11:21:23.539973Z",
     "iopub.status.idle": "2024-04-28T11:21:23.552934Z",
     "shell.execute_reply": "2024-04-28T11:21:23.551667Z"
    },
    "papermill": {
     "duration": 0.04335,
     "end_time": "2024-04-28T11:21:23.555585",
     "exception": false,
     "start_time": "2024-04-28T11:21:23.512235",
     "status": "completed"
    },
    "tags": []
   },
   "outputs": [
    {
     "data": {
      "text/html": [
       "<div>\n",
       "<style scoped>\n",
       "    .dataframe tbody tr th:only-of-type {\n",
       "        vertical-align: middle;\n",
       "    }\n",
       "\n",
       "    .dataframe tbody tr th {\n",
       "        vertical-align: top;\n",
       "    }\n",
       "\n",
       "    .dataframe thead th {\n",
       "        text-align: right;\n",
       "    }\n",
       "</style>\n",
       "<table border=\"1\" class=\"dataframe\">\n",
       "  <thead>\n",
       "    <tr style=\"text-align: right;\">\n",
       "      <th></th>\n",
       "      <th>Actual</th>\n",
       "      <th>Predicted</th>\n",
       "    </tr>\n",
       "  </thead>\n",
       "  <tbody>\n",
       "    <tr>\n",
       "      <th>0</th>\n",
       "      <td>3</td>\n",
       "      <td>3</td>\n",
       "    </tr>\n",
       "    <tr>\n",
       "      <th>1</th>\n",
       "      <td>2</td>\n",
       "      <td>2</td>\n",
       "    </tr>\n",
       "    <tr>\n",
       "      <th>2</th>\n",
       "      <td>0</td>\n",
       "      <td>0</td>\n",
       "    </tr>\n",
       "    <tr>\n",
       "      <th>3</th>\n",
       "      <td>0</td>\n",
       "      <td>0</td>\n",
       "    </tr>\n",
       "    <tr>\n",
       "      <th>4</th>\n",
       "      <td>2</td>\n",
       "      <td>2</td>\n",
       "    </tr>\n",
       "    <tr>\n",
       "      <th>...</th>\n",
       "      <td>...</td>\n",
       "      <td>...</td>\n",
       "    </tr>\n",
       "    <tr>\n",
       "      <th>995</th>\n",
       "      <td>3</td>\n",
       "      <td>3</td>\n",
       "    </tr>\n",
       "    <tr>\n",
       "      <th>996</th>\n",
       "      <td>3</td>\n",
       "      <td>3</td>\n",
       "    </tr>\n",
       "    <tr>\n",
       "      <th>997</th>\n",
       "      <td>1</td>\n",
       "      <td>1</td>\n",
       "    </tr>\n",
       "    <tr>\n",
       "      <th>998</th>\n",
       "      <td>1</td>\n",
       "      <td>1</td>\n",
       "    </tr>\n",
       "    <tr>\n",
       "      <th>999</th>\n",
       "      <td>2</td>\n",
       "      <td>2</td>\n",
       "    </tr>\n",
       "  </tbody>\n",
       "</table>\n",
       "<p>1000 rows × 2 columns</p>\n",
       "</div>"
      ],
      "text/plain": [
       "     Actual  Predicted\n",
       "0         3          3\n",
       "1         2          2\n",
       "2         0          0\n",
       "3         0          0\n",
       "4         2          2\n",
       "..      ...        ...\n",
       "995       3          3\n",
       "996       3          3\n",
       "997       1          1\n",
       "998       1          1\n",
       "999       2          2\n",
       "\n",
       "[1000 rows x 2 columns]"
      ]
     },
     "execution_count": 54,
     "metadata": {},
     "output_type": "execute_result"
    }
   ],
   "source": [
    "prediction"
   ]
  },
  {
   "cell_type": "code",
   "execution_count": 55,
   "id": "ebd0ae1c",
   "metadata": {
    "execution": {
     "iopub.execute_input": "2024-04-28T11:21:23.609062Z",
     "iopub.status.busy": "2024-04-28T11:21:23.608202Z",
     "iopub.status.idle": "2024-04-28T11:21:23.613356Z",
     "shell.execute_reply": "2024-04-28T11:21:23.612195Z"
    },
    "papermill": {
     "duration": 0.034446,
     "end_time": "2024-04-28T11:21:23.615940",
     "exception": false,
     "start_time": "2024-04-28T11:21:23.581494",
     "status": "completed"
    },
    "tags": []
   },
   "outputs": [],
   "source": [
    "# line = [input('Enter  line : ')]\n",
    "# data = countvector.transform(line)\n",
    "# pred = model.predict(data)\n",
    "# print()\n",
    "# print(\"Your Input is : \",line)\n",
    "# print()\n",
    "# if pred == 0:\n",
    "#     print('Predicted is Negative Sentence')\n",
    "# elif pred == 1:\n",
    "#     print('Predicted is Positive Sentence')\n",
    "# elif pred == 2:\n",
    "#     print('Predicted is Neutral Sentence')\n",
    "# elif pred == 3:\n",
    "#     print('Predicted is Irrelevent Sentence')\n",
    "# else:\n",
    "#     print('\\nPredicted is Unknown...')"
   ]
  },
  {
   "cell_type": "code",
   "execution_count": null,
   "id": "4f1b3cbc",
   "metadata": {
    "papermill": {
     "duration": 0.028007,
     "end_time": "2024-04-28T11:21:23.669900",
     "exception": false,
     "start_time": "2024-04-28T11:21:23.641893",
     "status": "completed"
    },
    "tags": []
   },
   "outputs": [],
   "source": []
  }
 ],
 "metadata": {
  "kaggle": {
   "accelerator": "none",
   "dataSources": [
    {
     "datasetId": 1520310,
     "sourceId": 2510329,
     "sourceType": "datasetVersion"
    }
   ],
   "dockerImageVersionId": 30698,
   "isGpuEnabled": false,
   "isInternetEnabled": true,
   "language": "python",
   "sourceType": "notebook"
  },
  "kernelspec": {
   "display_name": "Python 3",
   "language": "python",
   "name": "python3"
  },
  "language_info": {
   "codemirror_mode": {
    "name": "ipython",
    "version": 3
   },
   "file_extension": ".py",
   "mimetype": "text/x-python",
   "name": "python",
   "nbconvert_exporter": "python",
   "pygments_lexer": "ipython3",
   "version": "3.10.13"
  },
  "papermill": {
   "default_parameters": {},
   "duration": 7032.040926,
   "end_time": "2024-04-28T11:21:24.937959",
   "environment_variables": {},
   "exception": null,
   "input_path": "__notebook__.ipynb",
   "output_path": "__notebook__.ipynb",
   "parameters": {},
   "start_time": "2024-04-28T09:24:12.897033",
   "version": "2.5.0"
  }
 },
 "nbformat": 4,
 "nbformat_minor": 5
}
